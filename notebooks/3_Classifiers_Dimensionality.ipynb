{
 "cells": [
  {
   "cell_type": "markdown",
   "metadata": {
    "slideshow": {
     "slide_type": "slide"
    }
   },
   "source": [
    "## Feature Selection, Compositional Data and Missingness\n",
    "\n",
    "**Data** [Sources](2_Data_Sources.ipynb) | [Compositional Data](2_Data_CompositionalData.ipynb) | [Lambdas](2_Data_Lambdas.ipynb) **Classifiers** [Models](3_Classifiers_ClassifierModels.ipynb) | [Dimensionality](3_Classifiers_Dimensionality.ipynb) | [Performance](3_Classifiers_Performance.ipynb) **Visualisation**  [Entropy](4_Vis_Entropy.ipynb) | [Manifolds](4_Vis_Manifolds.ipynb) **Workflows** [Building Workflows](5_BuildingWorkflows.ipynb) **pyrolite** [Overview](6_pyrolite.ipynb) **GitHub** [AEGC2019](https://github.com/morganjwilliams/aegc2019) | [pyrolite](https://github.com/morganjwilliams/pyrolite)"
   ]
  },
  {
   "cell_type": "markdown",
   "metadata": {
    "slideshow": {
     "slide_type": "subslide"
    }
   },
   "source": [
    "* The performance of classifiers is typically closely linked to their dimensionality.\n",
    "* With compositional data, missing data can be a central limitation to using higher dimensional datasets.\n",
    "* Accessing dense high-dimensional datasets can be difficult, and carefully choosing a subset of variables is often the best course of action."
   ]
  },
  {
   "cell_type": "code",
   "execution_count": 1,
   "metadata": {
    "slideshow": {
     "slide_type": "subslide"
    }
   },
   "outputs": [
    {
     "name": "stderr",
     "output_type": "stream",
     "text": [
      "Using TensorFlow backend.\n"
     ]
    }
   ],
   "source": [
    "import pandas as pd\n",
    "import numpy as np\n",
    "import matplotlib.pyplot as plt\n",
    "from sklearn.preprocessing import StandardScaler\n",
    "from sklearn.model_selection import train_test_split\n",
    "from pyrolite.util.skl.transform import CLRTransform\n",
    "from pyrolite.util.skl.pipeline import SVC_pipeline\n",
    "from pyrolite.geochem.ind import common_elements, common_oxides"
   ]
  },
  {
   "cell_type": "code",
   "execution_count": 2,
   "metadata": {
    "slideshow": {
     "slide_type": "subslide"
    }
   },
   "outputs": [],
   "source": [
    "df = pd.read_csv('https://storage.googleapis.com/aegc2019/ueki2018.csv')\n",
    "\n",
    "majors = [i for i in df.columns if i in common_oxides(as_set=True)]\n",
    "traces =[i for i in df.columns if i in common_elements(as_set=True)]\n",
    "isotopes = [i for i in df.columns if i != \"Class\" and i not in majors+traces]\n",
    "\n",
    "classes = {c: ix for ix, c in enumerate(df.Class.unique())}\n",
    "X, y = CLRTransform().transform(df.loc[:, majors+traces+isotopes]), df[\"Class\"]"
   ]
  },
  {
   "cell_type": "code",
   "execution_count": 3,
   "metadata": {
    "slideshow": {
     "slide_type": "subslide"
    }
   },
   "outputs": [],
   "source": [
    "X_train, X_test, y_train, y_test = train_test_split(X, \n",
    "                                                    y, \n",
    "                                                    stratify=y, \n",
    "                                                    test_size=0.3)\n",
    "scores = {}\n",
    "for name, feature_set in [('Majors', majors), \n",
    "                          ('Traces', traces), \n",
    "                          ('Isotopes', isotopes), \n",
    "                          ('T+I', traces+isotopes),\n",
    "                          ('M+T', majors+traces),\n",
    "                          ('M+I', majors+isotopes), \n",
    "                          ('All', majors+traces+isotopes)]:\n",
    "    svc = SVC_pipeline(probability=True,\n",
    "                       scaler=StandardScaler(),\n",
    "                       kernel='rbf',\n",
    "                       verbose=False)\n",
    "    gs = svc.fit(X_train.loc[:, feature_set], \n",
    "                 y_train)\n",
    "    scores[name] = dict(nfeatures=len(feature_set), \n",
    "                        score=gs.score(X_test.loc[:, feature_set], y_test))"
   ]
  },
  {
   "cell_type": "code",
   "execution_count": 6,
   "metadata": {
    "slideshow": {
     "slide_type": "subslide"
    }
   },
   "outputs": [
    {
     "data": {
      "image/png": "[encoded data removed]",
      "text/plain": [
       "<Figure size 432x288 with 1 Axes>"
      ]
     },
     "metadata": {
      "needs_background": "light"
     },
     "output_type": "display_data"
    }
   ],
   "source": [
    "cm = plt.cm.Greens\n",
    "sc = pd.DataFrame.from_dict(scores).T.sort_values('nfeatures')\n",
    "ax = sc.score.plot.bar(legend=False, \n",
    "                       ylim=(0,1))\n",
    "\n",
    "ax.set_ylabel('Cross-Validation Accuracy')\n",
    "ax.set_xticklabels(ax.get_xticklabels(), rotation=30)\n",
    "for ix, p in enumerate(ax.patches):\n",
    "    p.set_facecolor(cm(sc.iloc[ix].score))\n",
    "    ax.annotate(int(sc.iloc[ix].nfeatures), \n",
    "                xy=(ix, sc.iloc[ix].score), \n",
    "                ha='center', \n",
    "                va='bottom')"
   ]
  },
  {
   "cell_type": "code",
   "execution_count": 7,
   "metadata": {
    "slideshow": {
     "slide_type": "notes"
    }
   },
   "outputs": [],
   "source": [
    "from pyrolite.util.plot import save_figure\n",
    "save_figure(ax.figure, \n",
    "            name='DimensionsVAccuracy', \n",
    "            save_at=\"../presentation/figures/\", \n",
    "            save_fmts=['pdf', 'png'])"
   ]
  },
  {
   "cell_type": "markdown",
   "metadata": {
    "slideshow": {
     "slide_type": "slide"
    }
   },
   "source": [
    "### Discrimination Power of Multivariate Data"
   ]
  },
  {
   "cell_type": "markdown",
   "metadata": {
    "slideshow": {
     "slide_type": "slide"
    }
   },
   "source": [
    "### Understanding Your Dataset"
   ]
  },
  {
   "cell_type": "markdown",
   "metadata": {
    "slideshow": {
     "slide_type": "subslide"
    }
   },
   "source": [
    "#### Correlation and Co-occurrence"
   ]
  },
  {
   "cell_type": "code",
   "execution_count": null,
   "metadata": {
    "slideshow": {
     "slide_type": "subslide"
    }
   },
   "outputs": [],
   "source": []
  }
 ],
 "metadata": {
  "celltoolbar": "Slideshow",
  "kernelspec": {
   "display_name": "Python 3",
   "language": "python",
   "name": "python3"
  },
  "language_info": {
   "codemirror_mode": {
    "name": "ipython",
    "version": 3
   },
   "file_extension": ".py",
   "mimetype": "text/x-python",
   "name": "python",
   "nbconvert_exporter": "python",
   "pygments_lexer": "ipython3",
   "version": "3.6.7"
  },
  "rise": {
   "autolaunch": true,
   "scroll": true,
   "theme": "solarized"
  }
 },
 "nbformat": 4,
 "nbformat_minor": 2
}
