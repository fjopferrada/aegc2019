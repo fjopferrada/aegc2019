{
 "cells": [
  {
   "cell_type": "markdown",
   "metadata": {
    "slideshow": {
     "slide_type": "slide"
    }
   },
   "source": [
    "## Manifold Methods for Visualisation of High-dimensional Data\n",
    " \n",
    "**Data** [Compositional Data](2_Data_CompositionalData.ipynb) | [Lambdas](2_Data_Lambdas.ipynb) **Classifiers** [Building Models](3_Classifiers_ClassifierModels.ipynb) | [Feature Selection](3_Classifiers_Features.ipynb) **Visualisation**  [Entropy](4_Vis_Entropy.ipynb) | [Manifolds](4_Vis_Manifolds.ipynb) **pyrolite** [Overview](6_pyrolite.ipynb) **GitHub** [AEGC2019](https://github.com/morganjwilliams/aegc2019) | [pyrolite](https://github.com/morganjwilliams/pyrolite)\n"
   ]
  },
  {
   "cell_type": "markdown",
   "metadata": {
    "slideshow": {
     "slide_type": "subslide"
    }
   },
   "source": [
    "Visualisation of data which has high dimensionality is challenging, and one solution is to provide visualisations in low-dimension representations of the space actually spanned by the data. Here we provide an example of visualisation of classification predictions and relative prediction certainty for a dataset from [Ueki2018] (using entropy across predicted probability for each individual class, [adapted from pyrolite documentation](https://pyrolite.readthedocs.io/en/develop/usage/eg/plotting/manifold.html), and also explained in a separate notebook [here](4_Vis_Entropy.ipynb)).\n",
    "\n",
    "[Ueki2018]: https://doi.org/10.1029/2017GC007401 \"Ueki, K., Hino, H., Kuwatani, T., 2018. Geochemical Discrimination and Characteristics of Magmatic Tectonic Settings: A Machine-Learning-Based Approach. Geochemistry, Geophysics, Geosystems 19, 1327–1347.\""
   ]
  },
  {
   "cell_type": "markdown",
   "metadata": {
    "slideshow": {
     "slide_type": "subslide"
    }
   },
   "source": [
    "We'll import some standard packages, build a classifer and try to construct a visualiation combining both an approximation of the high-dimensional spatial relationships (those being utilised by the classifier) in addition to information about the probability uncertainty (where more faded colors indicate less certain classifications)."
   ]
  },
  {
   "cell_type": "code",
   "execution_count": null,
   "metadata": {
    "slideshow": {
     "slide_type": "subslide"
    }
   },
   "outputs": [],
   "source": [
    "import numpy as np\n",
    "import pandas as pd\n",
    "import matplotlib.pyplot as plt\n",
    "from sklearn.preprocessing import StandardScaler\n",
    "from pyrolite.util.skl.pipeline import SVC_pipeline\n",
    "from pyrolite.util.skl.vis import plot_mapping\n",
    "from pyrolite.util.plot import __DEFAULT_DISC_COLORMAP__"
   ]
  },
  {
   "cell_type": "code",
   "execution_count": null,
   "metadata": {
    "slideshow": {
     "slide_type": "subslide"
    }
   },
   "outputs": [],
   "source": [
    "from pyrolite.util.skl.transform import CLRTransform\n",
    "df = pd.read_csv('https://storage.googleapis.com/aegc2019/ueki2018.csv')\n",
    "classes = {c: ix for ix, c in enumerate(df.Class.unique())}\n",
    "X, y = CLRTransform().transform(df.loc[:, [i for i in df.columns if i != \"Class\"]]), df[\"Class\"]\n",
    "y = y.apply(lambda x: classes[x]) # turn these into integers for the colormap"
   ]
  },
  {
   "cell_type": "code",
   "execution_count": null,
   "metadata": {
    "slideshow": {
     "slide_type": "subslide"
    }
   },
   "outputs": [],
   "source": [
    "svc = SVC_pipeline(probability=True, scaler=StandardScaler(), kernel='rbf')\n",
    "gs = svc.fit(X, y)"
   ]
  },
  {
   "cell_type": "code",
   "execution_count": null,
   "metadata": {
    "slideshow": {
     "slide_type": "subslide"
    }
   },
   "outputs": [],
   "source": [
    "from pyrolite.util.plot import proxy_line\n",
    "\n",
    "fig, ax = plt.subplots(1, 2, sharex=True, sharey=True, figsize=(8, 4))\n",
    "\n",
    "xsample = X.sample(500)\n",
    "s=40\n",
    "\n",
    "a, tfm, mapped = plot_mapping(\n",
    "    xsample, \n",
    "    gs.best_estimator_, \n",
    "    ax=ax[1], \n",
    "    s=s,\n",
    "    init=\"pca\"\n",
    ")\n",
    "ax[0].scatter(*mapped.T, c=__DEFAULT_DISC_COLORMAP__(gs.predict(xsample)), s=s)\n",
    "\n",
    "ax[0].set_xticks([])\n",
    "ax[0].set_yticks([])\n",
    "\n",
    "ax[1].legend([proxy_line(c=__DEFAULT_DISC_COLORMAP__(ix), ls='none', marker='o') for c, ix in classes.items()], \n",
    "             [c for c in classes.keys()], \n",
    "             bbox_to_anchor=(1.05, 1.0), \n",
    "             loc='upper left', \n",
    "             frameon=False, \n",
    "             fontsize=12);"
   ]
  },
  {
   "cell_type": "code",
   "execution_count": null,
   "metadata": {
    "slideshow": {
     "slide_type": "notes"
    }
   },
   "outputs": [],
   "source": [
    "from pyrolite.util.plot import save_figure\n",
    "save_figure(fig, \n",
    "            name='ManifoldMappingEntropy', \n",
    "            save_at=\"../presentation/figures/\", \n",
    "            save_fmts=['pdf', 'png'])"
   ]
  },
  {
   "cell_type": "markdown",
   "metadata": {
    "slideshow": {
     "slide_type": "slide"
    }
   },
   "source": [
    "### UMAP"
   ]
  },
  {
   "cell_type": "markdown",
   "metadata": {
    "slideshow": {
     "slide_type": "subslide"
    }
   },
   "source": [
    "Uniform Manifold Approximation and Projection (UMAP) is a dimension reduction technique which can be used in a very similar way to other manifold methods within scikit-learn ([McInnes2018]), with the added flexibility of being able transform new/novel data. This is particulary useful for visualising training and testing data together, but can also be applied to map reference compositions and boundaries into the projected space. UMAP can also be used for semi-supervised and supervised dimensional reduction and metric learning, but this is beyond the scope of these notebooks.\n",
    "\n",
    "The technique is based on a specific set of assumptions which may be violated in practise, but it remains effective for the uses described here.\n",
    "\n",
    "\n",
    "[McInnes2018]:  https://doi.org/10.21105/joss.00861 \"McInnes, L., Healy, J., Saul, N., Grossberger, L., 2018. UMAP: uniform manifold approximation and projection. The Journal of Open Source Software 3, 861.\""
   ]
  },
  {
   "cell_type": "code",
   "execution_count": null,
   "metadata": {
    "slideshow": {
     "slide_type": "subslide"
    }
   },
   "outputs": [],
   "source": [
    "import umap.umap_ as umap  # required in case of umap install errors\n",
    "\n",
    "reducer = umap.UMAP(metric='mahalanobis', min_dist=0.1, n_neighbors=30)\n",
    "embedding = reducer.fit_transform(X)"
   ]
  },
  {
   "cell_type": "code",
   "execution_count": null,
   "metadata": {
    "slideshow": {
     "slide_type": "subslide"
    }
   },
   "outputs": [],
   "source": [
    "fig, ax = plt.subplots(1, figsize=(5,5))\n",
    "ax.scatter(*embedding.T, \n",
    "           c=__DEFAULT_DISC_COLORMAP__(gs.predict(X)),\n",
    "           s=s)\n",
    "ax.set_xticks([])\n",
    "ax.set_yticks([])\n",
    "ax.legend([proxy_line(c=__DEFAULT_DISC_COLORMAP__(ix), ls='none', marker='o') for c, ix in classes.items()], \n",
    "          [c for c in classes.keys()],\n",
    "          bbox_to_anchor=(1.05, 1.0), \n",
    "          loc='upper left', \n",
    "          frameon=False, \n",
    "          fontsize=12);"
   ]
  },
  {
   "cell_type": "code",
   "execution_count": null,
   "metadata": {
    "slideshow": {
     "slide_type": "notes"
    }
   },
   "outputs": [],
   "source": [
    "from pyrolite.util.plot import save_figure\n",
    "save_figure(fig, \n",
    "            name='UMAP', \n",
    "            save_at=\"../presentation/figures/\", \n",
    "            save_fmts=['pdf', 'png'])"
   ]
  },
  {
   "cell_type": "markdown",
   "metadata": {
    "slideshow": {
     "slide_type": "subslide"
    }
   },
   "source": [
    "You can also change the number of components, for example to generate 3D figures:"
   ]
  },
  {
   "cell_type": "code",
   "execution_count": null,
   "metadata": {
    "slideshow": {
     "slide_type": "subslide"
    }
   },
   "outputs": [],
   "source": [
    "threeDreducer = umap.UMAP(n_components=3, metric='mahalanobis', n_neighbors=50)\n",
    "threeDembedding = threeDreducer.fit_transform(X)"
   ]
  },
  {
   "cell_type": "code",
   "execution_count": null,
   "metadata": {
    "slideshow": {
     "slide_type": "subslide"
    }
   },
   "outputs": [],
   "source": [
    "from pyrolite.util.skl import alphas_from_multiclass_prob\n",
    "\n",
    "c = __DEFAULT_DISC_COLORMAP__(gs.predict(X)) # predicted classes\n",
    "ps = gs.predict_proba(X) # probabilities\n",
    "c[:, -1] = alphas_from_multiclass_prob(ps, alpha=0.95) # append alphas to RGBA colours"
   ]
  },
  {
   "cell_type": "code",
   "execution_count": null,
   "metadata": {
    "slideshow": {
     "slide_type": "subslide"
    }
   },
   "outputs": [],
   "source": [
    "import ipyvolume as ipv\n",
    "ipv.figure()\n",
    "ipv.quickscatter(*threeDembedding.T,\n",
    "                 color=c,\n",
    "                 size=2, \n",
    "                 marker='sphere')"
   ]
  },
  {
   "cell_type": "code",
   "execution_count": null,
   "metadata": {
    "slideshow": {
     "slide_type": "notes"
    }
   },
   "outputs": [],
   "source": [
    "import time\n",
    "import base64\n",
    "\n",
    "def change_angle(fig, n, frac):\n",
    "    with fig:\n",
    "        ipv.view(azimuth=frac*360)\n",
    "        \n",
    "time.sleep(3) # make sure to wait until the figure is properly rendered before trying to capture output\n",
    "tmpdir = ipv.movie('test.gif', \n",
    "                   change_angle,\n",
    "                   cmd_template_gif=\"magick convert -delay {delay} {loop} {tempdir}/frame-*.png {filename}\",\n",
    "                   fps=10, frames=100, endpoint=False)\n",
    "\n",
    "with open('test.gif', 'rb') as gif:\n",
    "    gifurl = b\"data:image/gif;base64,\" +base64.b64encode(gif.read())"
   ]
  },
  {
   "cell_type": "code",
   "execution_count": null,
   "metadata": {
    "slideshow": {
     "slide_type": "notes"
    }
   },
   "outputs": [],
   "source": [
    "import IPython.display\n",
    "IPython.display.Image(url=gifurl.decode('ascii'))"
   ]
  },
  {
   "cell_type": "code",
   "execution_count": null,
   "metadata": {
    "slideshow": {
     "slide_type": "notes"
    }
   },
   "outputs": [],
   "source": [
    "# from IPython.display import Video\n",
    "# IPython.display.Video(\"test.mp4\")"
   ]
  },
  {
   "cell_type": "code",
   "execution_count": null,
   "metadata": {
    "slideshow": {
     "slide_type": "notes"
    }
   },
   "outputs": [],
   "source": [
    "# https://scikit-learn.org/stable/auto_examples/linear_model/plot_logistic_multinomial.html"
   ]
  }
 ],
 "metadata": {
  "celltoolbar": "Slideshow",
  "kernelspec": {
   "display_name": "Python 3",
   "language": "python",
   "name": "python3"
  },
  "language_info": {
   "codemirror_mode": {
    "name": "ipython",
    "version": 3
   },
   "file_extension": ".py",
   "mimetype": "text/x-python",
   "name": "python",
   "nbconvert_exporter": "python",
   "pygments_lexer": "ipython3",
   "version": "3.6.7"
  },
  "rise": {
   "autolaunch": true,
   "scroll": true,
   "theme": "solarized"
  }
 },
 "nbformat": 4,
 "nbformat_minor": 2
}
