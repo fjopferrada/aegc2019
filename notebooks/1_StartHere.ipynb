{
 "cells": [
  {
   "cell_type": "markdown",
   "metadata": {
    "slideshow": {
     "slide_type": "slide"
    }
   },
   "source": [
    "## Start Here\n",
    "\n",
    "The notebooks will automatically launch a slideshow which you can explore and execute. On a desktop the space bar will take you to the next slide, or you can use the arrows on the right. Swipe gestures work well for mobiles."
   ]
  },
  {
   "cell_type": "markdown",
   "metadata": {
    "slideshow": {
     "slide_type": "subslide"
    }
   },
   "source": [
    "A few of the notebooks are a work in progress, so check back soon if there's something you're particularly interested in which is currently missing."
   ]
  },
  {
   "cell_type": "markdown",
   "metadata": {
    "slideshow": {
     "slide_type": "subslide"
    }
   },
   "source": [
    "**Data** [Compositional Data](2_Data_CompositionalData.ipynb) | [Lambdas](2_Data_Lambdas.ipynb) \n",
    "\n",
    "**Classifiers** [Building Classifier Models](3_Classifiers_ClassifierModels.ipynb) | [Feature Selection](3_Classifiers_Dimensionality.ipynb) \n",
    "\n",
    "**Visualisation**  [Entropy](4_Vis_Entropy.ipynb) | [Manifolds](4_Vis_Manifolds.ipynb) \n",
    "\n",
    "**GitHub** [AEGC2019](https://github.com/morganjwilliams/aegc2019) | [pyrolite](https://github.com/morganjwilliams/pyrolite)"
   ]
  },
  {
   "cell_type": "markdown",
   "metadata": {
    "slideshow": {
     "slide_type": "subslide"
    }
   },
   "source": [
    "<a href=\"https://zenodo.org/badge/latestdoi/177485345\"><img src=\"https://zenodo.org/badge/177485345.svg\" alt=\"DOI\"></a>\n",
    "\n",
    "<a href=\"https://github.com/morganjwilliams/aegc2019/blob/master/LICENSE\" ><img src=\"https://img.shields.io/badge/License-MIT-blue.svg\" alt=\"License: MIT License\"></a>"
   ]
  },
  {
   "cell_type": "markdown",
   "metadata": {
    "slideshow": {
     "slide_type": "skip"
    }
   },
   "source": [
    "**Workflows** [Building Workflows](5_BuildingWorkflows.ipynb) "
   ]
  },
  {
   "cell_type": "markdown",
   "metadata": {
    "slideshow": {
     "slide_type": "skip"
    }
   },
   "source": [
    "**pyrolite** [Overview](6_pyrolite.ipynb)"
   ]
  }
 ],
 "metadata": {
  "celltoolbar": "Slideshow",
  "kernelspec": {
   "display_name": "Python 3",
   "language": "python",
   "name": "python3"
  },
  "language_info": {
   "codemirror_mode": {
    "name": "ipython",
    "version": 3
   },
   "file_extension": ".py",
   "mimetype": "text/x-python",
   "name": "python",
   "nbconvert_exporter": "python",
   "pygments_lexer": "ipython3",
   "version": "3.6.7"
  },
  "rise": {
   "autolaunch": true,
   "scroll": true,
   "theme": "solarized"
  }
 },
 "nbformat": 4,
 "nbformat_minor": 2
}
