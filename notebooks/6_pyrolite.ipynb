{
 "cells": [
  {
   "cell_type": "markdown",
   "metadata": {
    "slideshow": {
     "slide_type": "slide"
    }
   },
   "source": [
    "<img src=\"https://pyrolite.readthedocs.io/en/develop/_static/icon.png\" width=\"35%\" style=\"float: right; margin: 0px 15px 15px 0px;\"/>\n",
    "\n",
    "## pyrolite: Python for Geochemistry \n",
    "\n",
    "**Data** [Sources](2_Data_Sources.ipynb) | [Compositional Data](2_Data_CompositionalData.ipynb) | [Lambdas](2_Data_Lambdas.ipynb) **Classifiers** [Models](3_Classifiers_ClassifierModels.ipynb) | [Dimensionality](3_Classifiers_Dimensionality.ipynb) | [Performance](3_Classifiers_Performance.ipynb) **Visualisation**  [Entropy](4_Vis_Entropy.ipynb) | [Manifolds](4_Vis_Manifolds.ipynb) **Workflows** [Building Workflows](5_BuildingWorkflows.ipynb) **pyrolite** [Overview](6_pyrolite.ipynb) **GitHub** [AEGC2019](https://github.com/morganjwilliams/aegc2019) | [pyrolite](https://github.com/morganjwilliams/pyrolite)"
   ]
  },
  {
   "cell_type": "code",
   "execution_count": null,
   "metadata": {
    "slideshow": {
     "slide_type": "fragment"
    }
   },
   "outputs": [],
   "source": [
    "pip install pyrolite"
   ]
  },
  {
   "cell_type": "markdown",
   "metadata": {
    "slideshow": {
     "slide_type": "slide"
    }
   },
   "source": [
    "### Geochemistry\n",
    "\n",
    "* Compositional data transformations\n",
    "* Arbitrarily convert between systems of elements-oxides\n",
    "* Normalisation to reference compositions (chondrite, crustal averages etc)\n",
    "* 'lambdas' for parameterisation of REE data\n",
    "* Interface for batch calculations of alphaMELTS (to be spun out into separate project)"
   ]
  },
  {
   "cell_type": "markdown",
   "metadata": {
    "slideshow": {
     "slide_type": "slide"
    }
   },
   "source": [
    "### Plotting\n",
    "\n",
    "* Spider, ternary plots\n",
    "* Density and conditional density plots\n",
    "* Some classification diagrams included, diagram templates to be expanded"
   ]
  },
  {
   "cell_type": "markdown",
   "metadata": {
    "slideshow": {
     "slide_type": "fragment"
    }
   },
   "source": [
    "<img src=\"https://pyrolite.readthedocs.io/en/develop/_images/density_percentiles.png\" width=\"50%\"/>"
   ]
  },
  {
   "cell_type": "markdown",
   "metadata": {
    "slideshow": {
     "slide_type": "fragment"
    }
   },
   "source": [
    "<img src=\"https://pyrolite.readthedocs.io/en/develop/_images/density_loggrid.png\" width=\"60%\"/>"
   ]
  },
  {
   "cell_type": "markdown",
   "metadata": {
    "slideshow": {
     "slide_type": "fragment"
    }
   },
   "source": [
    "<img src=\"https://pyrolite.readthedocs.io/en/develop/_images/logo_eg_all.png\" width=\"80%\"/>"
   ]
  },
  {
   "cell_type": "markdown",
   "metadata": {
    "slideshow": {
     "slide_type": "slide"
    }
   },
   "source": [
    "### [Documentation](https://pyrolite.readthedocs.io/)\n",
    "\n",
    "* Examples, minimal tutorials and auto-generated API documentation.\n",
    "* The docuemtation does not offer full coverage, but both API documenmtation and worked examples are being be progressively expanded.\n",
    "* Openly available, versioned and hosted on Read the Docs @  [pyrolite.rtfd.io](https://pyrolite.rtfd.io)"
   ]
  },
  {
   "cell_type": "markdown",
   "metadata": {
    "slideshow": {
     "slide_type": "slide"
    }
   },
   "source": [
    "### Tests\n",
    "\n",
    "pyrolite is provided with an extensive set of tests which cover the prinicpal functionality, which are automatically run each time the package is updated. Test coverage is currently better than 80% of all lines of code."
   ]
  }
 ],
 "metadata": {
  "celltoolbar": "Slideshow",
  "kernelspec": {
   "display_name": "Python 3",
   "language": "python",
   "name": "python3"
  },
  "language_info": {
   "codemirror_mode": {
    "name": "ipython",
    "version": 3
   },
   "file_extension": ".py",
   "mimetype": "text/x-python",
   "name": "python",
   "nbconvert_exporter": "python",
   "pygments_lexer": "ipython3",
   "version": "3.6.7"
  },
  "rise": {
   "autolaunch": true,
   "scroll": true,
   "theme": "solarized"
  }
 },
 "nbformat": 4,
 "nbformat_minor": 2
}
