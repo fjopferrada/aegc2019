{
 "cells": [
  {
   "cell_type": "markdown",
   "metadata": {
    "slideshow": {
     "slide_type": "slide"
    }
   },
   "source": [
    "## Different Classifier Models: Practicality, Performance and Use Cases\n",
    " \n",
    "**Data** [Sources](2_Data_Sources.ipynb) | [Compositional Data](2_Data_CompositionalData.ipynb) | [Lambdas](2_Data_Lambdas.ipynb) **Classifiers** [Models](3_Classifiers_ClassifierModels.ipynb) | [Dimensionality](3_Classifiers_Dimensionality.ipynb) | [Performance](3_Classifiers_Performance.ipynb) **Visualisation**  [Entropy](4_Vis_Entropy.ipynb) | [Manifolds](4_Vis_Manifolds.ipynb) **Workflows** [Building Workflows](5_BuildingWorkflows.ipynb) **pyrolite** [Overview](6_pyrolite.ipynb) **GitHub** [AEGC2019](https://github.com/morganjwilliams/aegc2019) | [pyrolite](https://github.com/morganjwilliams/pyrolite)"
   ]
  },
  {
   "cell_type": "markdown",
   "metadata": {
    "slideshow": {
     "slide_type": "subslide"
    }
   },
   "source": [
    "This notebook introduces some of the classifier models which have been used previously for geochemical tectonic discrimination, and provides minimal working examples for building a working model. For the purpose of developing classification models for tectonic discrimination using bulk-rock geochemical data, Petrelli et al. (2016) use Support Vector Classifiers ([Petrelli2016]), and Ueki et al. (2018) use Support Vector Classifiers, Random Forests and Sparse Multinomial Regression ([Ueki2018]). \n",
    "\n",
    "[Petrelli2016]: https://doi.org/10.1007/s00410-016-1292-2 \"Petrelli, M., Perugini, D., 2016. Solving petrological problems through machine learning: the study case of tectonic discrimination using geochemical and isotopic data. Contrib Mineral Petrol 171, 81.\"\n",
    "[Ueki2018]: https://doi.org/10.1029/2017GC007401 \"Ueki, K., Hino, H., Kuwatani, T., 2018. Geochemical Discrimination and Characteristics of Magmatic Tectonic Settings: A Machine-Learning-Based Approach. Geochemistry, Geophysics, Geosystems 19, 1327–1347.\""
   ]
  },
  {
   "cell_type": "code",
   "execution_count": 1,
   "metadata": {
    "slideshow": {
     "slide_type": "subslide"
    }
   },
   "outputs": [],
   "source": [
    "%matplotlib inline\n",
    "import sys, os\n",
    "import timeit\n",
    "import warnings\n",
    "import numpy as np\n",
    "import pandas as pd\n",
    "import matplotlib.pyplot as plt"
   ]
  },
  {
   "cell_type": "code",
   "execution_count": 2,
   "metadata": {
    "slideshow": {
     "slide_type": "subslide"
    }
   },
   "outputs": [],
   "source": [
    "from sklearn.svm import SVC\n",
    "from sklearn.linear_model import LogisticRegression\n",
    "from sklearn.ensemble import RandomForestClassifier\n",
    "from sklearn.preprocessing import StandardScaler\n",
    "from sklearn.model_selection import train_test_split\n",
    "from sklearn.pipeline import make_pipeline\n",
    "# could also use imblearn.pipleline.make_pipeline"
   ]
  },
  {
   "cell_type": "code",
   "execution_count": 3,
   "metadata": {
    "slideshow": {
     "slide_type": "subslide"
    }
   },
   "outputs": [
    {
     "name": "stderr",
     "output_type": "stream",
     "text": [
      "Using TensorFlow backend.\n"
     ]
    }
   ],
   "source": [
    "from pyrolite.geochem.ind import common_elements, common_oxides\n",
    "\n",
    "from pyrolite.util.skl.vis import plot_confusion_matrix\n",
    "from pyrolite.util.skl.pipeline import SVC_pipeline, PdUnion\n",
    "from pyrolite.util.skl.select import CompositionalSelector\n",
    "from pyrolite.util.skl.transform import CLRTransform, LinearTransform"
   ]
  },
  {
   "cell_type": "code",
   "execution_count": 4,
   "metadata": {
    "slideshow": {
     "slide_type": "subslide"
    }
   },
   "outputs": [
    {
     "data": {
      "text/plain": [
       "['CA', 'IA', 'IOA', 'BAB', 'CFB', 'MOR', 'OP', 'OI']"
      ]
     },
     "execution_count": 4,
     "metadata": {},
     "output_type": "execute_result"
    }
   ],
   "source": [
    "df = pd.read_csv('https://storage.googleapis.com/aegc2019/ueki2018.csv')\n",
    "\n",
    "compositional_variables = common_elements(as_set=True) | common_oxides(as_set=True)\n",
    "abundances = [i for i in df.columns if i in compositional_variables]\n",
    "isotopes = [i for i in df.columns if i != \"Class\" and i not in compositional_variables]\n",
    "\n",
    "classes = list(df.Class.unique())\n",
    "classes"
   ]
  },
  {
   "cell_type": "code",
   "execution_count": 5,
   "metadata": {
    "slideshow": {
     "slide_type": "fragment"
    }
   },
   "outputs": [],
   "source": [
    "X, y = df.loc[:, abundances + isotopes], df[\"Class\"]"
   ]
  },
  {
   "cell_type": "code",
   "execution_count": 6,
   "metadata": {
    "slideshow": {
     "slide_type": "fragment"
    }
   },
   "outputs": [],
   "source": [
    "scaler = StandardScaler()\n",
    "X_ = scaler.fit_transform(X)"
   ]
  },
  {
   "cell_type": "code",
   "execution_count": 7,
   "metadata": {
    "slideshow": {
     "slide_type": "fragment"
    }
   },
   "outputs": [],
   "source": [
    "X_train, X_test, y_train, y_test = train_test_split(X_, y, stratify=y, test_size=0.3)"
   ]
  },
  {
   "cell_type": "markdown",
   "metadata": {
    "slideshow": {
     "slide_type": "slide"
    }
   },
   "source": [
    "### Support Vector Classifiers"
   ]
  },
  {
   "cell_type": "code",
   "execution_count": 8,
   "metadata": {
    "slideshow": {
     "slide_type": "subslide"
    }
   },
   "outputs": [
    {
     "data": {
      "text/plain": [
       "SVC(C=1.0, cache_size=200, class_weight=None, coef0=0.0,\n",
       "  decision_function_shape='ovr', degree=3, gamma='auto_deprecated',\n",
       "  kernel='rbf', max_iter=-1, probability=False, random_state=None,\n",
       "  shrinking=True, tol=0.001, verbose=False)"
      ]
     },
     "execution_count": 8,
     "metadata": {},
     "output_type": "execute_result"
    }
   ],
   "source": [
    "clf = SVC()\n",
    "clf.fit(X_train, y_train)"
   ]
  },
  {
   "cell_type": "code",
   "execution_count": 9,
   "metadata": {
    "slideshow": {
     "slide_type": "fragment"
    }
   },
   "outputs": [
    {
     "data": {
      "text/plain": [
       "0.8651685393258427"
      ]
     },
     "execution_count": 9,
     "metadata": {},
     "output_type": "execute_result"
    }
   ],
   "source": [
    "svcscore = clf.score(X_test, y_test)\n",
    "svcscore"
   ]
  },
  {
   "cell_type": "code",
   "execution_count": 10,
   "metadata": {
    "slideshow": {
     "slide_type": "subslide"
    }
   },
   "outputs": [
    {
     "data": {
      "text/plain": [
       "<matplotlib.axes._subplots.AxesSubplot at 0x1f8184f56d8>"
      ]
     },
     "execution_count": 10,
     "metadata": {},
     "output_type": "execute_result"
    },
    {
     "data": {
      "image/png": "[encoded data removed]",
      "text/plain": [
       "<Figure size 432x288 with 2 Axes>"
      ]
     },
     "metadata": {
      "needs_background": "light"
     },
     "output_type": "display_data"
    }
   ],
   "source": [
    "plot_confusion_matrix(clf, X_test, y_test, normalize=True, classes=classes)"
   ]
  },
  {
   "cell_type": "markdown",
   "metadata": {
    "slideshow": {
     "slide_type": "slide"
    }
   },
   "source": [
    "### Random Forests"
   ]
  },
  {
   "cell_type": "code",
   "execution_count": 11,
   "metadata": {
    "slideshow": {
     "slide_type": "subslide"
    }
   },
   "outputs": [
    {
     "name": "stderr",
     "output_type": "stream",
     "text": [
      "[Parallel(n_jobs=1)]: Using backend SequentialBackend with 1 concurrent workers.\n",
      "[Parallel(n_jobs=1)]: Done 1000 out of 1000 | elapsed:    2.5s finished\n"
     ]
    },
    {
     "data": {
      "text/plain": [
       "RandomForestClassifier(bootstrap=True, class_weight=None, criterion='gini',\n",
       "            max_depth=4, max_features='auto', max_leaf_nodes=None,\n",
       "            min_impurity_decrease=0.0, min_impurity_split=None,\n",
       "            min_samples_leaf=1, min_samples_split=2,\n",
       "            min_weight_fraction_leaf=0.0, n_estimators=1000, n_jobs=None,\n",
       "            oob_score=False, random_state=None, verbose=1,\n",
       "            warm_start=False)"
      ]
     },
     "execution_count": 11,
     "metadata": {},
     "output_type": "execute_result"
    }
   ],
   "source": [
    "rf = RandomForestClassifier(n_estimators=1000, max_depth=4, verbose=1)\n",
    "rf.fit(X_train, y_train)"
   ]
  },
  {
   "cell_type": "code",
   "execution_count": 12,
   "metadata": {
    "slideshow": {
     "slide_type": "fragment"
    }
   },
   "outputs": [
    {
     "name": "stderr",
     "output_type": "stream",
     "text": [
      "[Parallel(n_jobs=1)]: Using backend SequentialBackend with 1 concurrent workers.\n",
      "[Parallel(n_jobs=1)]: Done 1000 out of 1000 | elapsed:    0.1s finished\n"
     ]
    },
    {
     "data": {
      "text/plain": [
       "0.8009630818619583"
      ]
     },
     "execution_count": 12,
     "metadata": {},
     "output_type": "execute_result"
    }
   ],
   "source": [
    "rfscore = rf.score(X_test, y_test)\n",
    "rfscore"
   ]
  },
  {
   "cell_type": "code",
   "execution_count": 29,
   "metadata": {
    "slideshow": {
     "slide_type": "subslide"
    }
   },
   "outputs": [
    {
     "name": "stderr",
     "output_type": "stream",
     "text": [
      "[Parallel(n_jobs=1)]: Using backend SequentialBackend with 1 concurrent workers.\n",
      "[Parallel(n_jobs=1)]: Done 1000 out of 1000 | elapsed:    0.1s finished\n"
     ]
    },
    {
     "data": {
      "text/plain": [
       "<matplotlib.axes._subplots.AxesSubplot at 0x1f81b318828>"
      ]
     },
     "execution_count": 29,
     "metadata": {},
     "output_type": "execute_result"
    },
    {
     "data": {
      "image/png": "[encoded data removed]",
      "text/plain": [
       "<Figure size 432x288 with 2 Axes>"
      ]
     },
     "metadata": {
      "needs_background": "light"
     },
     "output_type": "display_data"
    }
   ],
   "source": [
    "plot_confusion_matrix(rf, X_test, y_test, normalize=True)"
   ]
  },
  {
   "cell_type": "code",
   "execution_count": 14,
   "metadata": {
    "slideshow": {
     "slide_type": "subslide"
    }
   },
   "outputs": [
    {
     "data": {
      "text/html": [
       "<div>\n",
       "<style scoped>\n",
       "    .dataframe tbody tr th:only-of-type {\n",
       "        vertical-align: middle;\n",
       "    }\n",
       "\n",
       "    .dataframe tbody tr th {\n",
       "        vertical-align: top;\n",
       "    }\n",
       "\n",
       "    .dataframe thead th {\n",
       "        text-align: right;\n",
       "    }\n",
       "</style>\n",
       "<table border=\"1\" class=\"dataframe\">\n",
       "  <thead>\n",
       "    <tr style=\"text-align: right;\">\n",
       "      <th></th>\n",
       "      <th>Importance</th>\n",
       "    </tr>\n",
       "  </thead>\n",
       "  <tbody>\n",
       "    <tr>\n",
       "      <th>Sr87Sr86</th>\n",
       "      <td>11.3</td>\n",
       "    </tr>\n",
       "    <tr>\n",
       "      <th>TiO2</th>\n",
       "      <td>9.5</td>\n",
       "    </tr>\n",
       "    <tr>\n",
       "      <th>Nb</th>\n",
       "      <td>9.0</td>\n",
       "    </tr>\n",
       "    <tr>\n",
       "      <th>Ta</th>\n",
       "      <td>7.6</td>\n",
       "    </tr>\n",
       "    <tr>\n",
       "      <th>Nd143Nd144</th>\n",
       "      <td>6.5</td>\n",
       "    </tr>\n",
       "    <tr>\n",
       "      <th>Sr</th>\n",
       "      <td>6.2</td>\n",
       "    </tr>\n",
       "  </tbody>\n",
       "</table>\n",
       "</div>"
      ],
      "text/plain": [
       "            Importance\n",
       "Sr87Sr86          11.3\n",
       "TiO2               9.5\n",
       "Nb                 9.0\n",
       "Ta                 7.6\n",
       "Nd143Nd144         6.5\n",
       "Sr                 6.2"
      ]
     },
     "execution_count": 14,
     "metadata": {},
     "output_type": "execute_result"
    }
   ],
   "source": [
    "ft_importances = pd.DataFrame(data=np.round(rf.feature_importances_,3), \n",
    "                              columns=['Importance'], index=X.columns\n",
    "                             ).sort_values('Importance', ascending=False) * 100\n",
    "ft_importances[:6]"
   ]
  },
  {
   "cell_type": "markdown",
   "metadata": {
    "slideshow": {
     "slide_type": "slide"
    }
   },
   "source": [
    "### Multinomial Logistic Regressions"
   ]
  },
  {
   "cell_type": "code",
   "execution_count": 15,
   "metadata": {
    "slideshow": {
     "slide_type": "subslide"
    }
   },
   "outputs": [
    {
     "data": {
      "text/plain": [
       "LogisticRegression(C=1.0, class_weight=None, dual=False, fit_intercept=True,\n",
       "          intercept_scaling=1, max_iter=100, multi_class='multinomial',\n",
       "          n_jobs=None, penalty='l2', random_state=None, solver='lbfgs',\n",
       "          tol=0.0001, verbose=0, warm_start=False)"
      ]
     },
     "execution_count": 15,
     "metadata": {},
     "output_type": "execute_result"
    }
   ],
   "source": [
    "lr = LogisticRegression(multi_class=\"multinomial\", solver=\"lbfgs\")\n",
    "lr.fit(X_train, y_train)"
   ]
  },
  {
   "cell_type": "code",
   "execution_count": 16,
   "metadata": {
    "slideshow": {
     "slide_type": "fragment"
    }
   },
   "outputs": [
    {
     "data": {
      "text/plain": [
       "0.8908507223113965"
      ]
     },
     "execution_count": 16,
     "metadata": {},
     "output_type": "execute_result"
    }
   ],
   "source": [
    "lrscore = lr.score(X_test, y_test)\n",
    "lrscore"
   ]
  },
  {
   "cell_type": "code",
   "execution_count": 28,
   "metadata": {
    "slideshow": {
     "slide_type": "subslide"
    }
   },
   "outputs": [
    {
     "data": {
      "text/plain": [
       "<matplotlib.axes._subplots.AxesSubplot at 0x1f81b2321d0>"
      ]
     },
     "execution_count": 28,
     "metadata": {},
     "output_type": "execute_result"
    },
    {
     "data": {
      "image/png": "[encoded data removed]",
      "text/plain": [
       "<Figure size 432x288 with 2 Axes>"
      ]
     },
     "metadata": {
      "needs_background": "light"
     },
     "output_type": "display_data"
    }
   ],
   "source": [
    "plot_confusion_matrix(lr, X_test, y_test, normalize=True)"
   ]
  },
  {
   "cell_type": "code",
   "execution_count": 18,
   "metadata": {
    "slideshow": {
     "slide_type": "subslide"
    }
   },
   "outputs": [
    {
     "data": {
      "text/html": [
       "<style  type=\"text/css\" >\n",
       "    #T_14a7f1a6_cae3_11e9_bc4a_00216ae618aarow0_col1 {\n",
       "            background-color:  #f7fbff;\n",
       "            color:  #000000;\n",
       "        }    #T_14a7f1a6_cae3_11e9_bc4a_00216ae618aarow0_col2 {\n",
       "            background-color:  #08306b;\n",
       "            color:  #f1f1f1;\n",
       "        }    #T_14a7f1a6_cae3_11e9_bc4a_00216ae618aarow0_col3 {\n",
       "            background-color:  #f7fbff;\n",
       "            color:  #000000;\n",
       "        }    #T_14a7f1a6_cae3_11e9_bc4a_00216ae618aarow0_col4 {\n",
       "            background-color:  #f7fbff;\n",
       "            color:  #000000;\n",
       "        }    #T_14a7f1a6_cae3_11e9_bc4a_00216ae618aarow0_col5 {\n",
       "            background-color:  #f7fbff;\n",
       "            color:  #000000;\n",
       "        }    #T_14a7f1a6_cae3_11e9_bc4a_00216ae618aarow0_col6 {\n",
       "            background-color:  #f7fbff;\n",
       "            color:  #000000;\n",
       "        }    #T_14a7f1a6_cae3_11e9_bc4a_00216ae618aarow0_col7 {\n",
       "            background-color:  #f7fbff;\n",
       "            color:  #000000;\n",
       "        }    #T_14a7f1a6_cae3_11e9_bc4a_00216ae618aarow0_col8 {\n",
       "            background-color:  #f7fbff;\n",
       "            color:  #000000;\n",
       "        }    #T_14a7f1a6_cae3_11e9_bc4a_00216ae618aarow1_col1 {\n",
       "            background-color:  #f7fbff;\n",
       "            color:  #000000;\n",
       "        }    #T_14a7f1a6_cae3_11e9_bc4a_00216ae618aarow1_col2 {\n",
       "            background-color:  #f7fbff;\n",
       "            color:  #000000;\n",
       "        }    #T_14a7f1a6_cae3_11e9_bc4a_00216ae618aarow1_col3 {\n",
       "            background-color:  #f7fbff;\n",
       "            color:  #000000;\n",
       "        }    #T_14a7f1a6_cae3_11e9_bc4a_00216ae618aarow1_col4 {\n",
       "            background-color:  #eff6fc;\n",
       "            color:  #000000;\n",
       "        }    #T_14a7f1a6_cae3_11e9_bc4a_00216ae618aarow1_col5 {\n",
       "            background-color:  #f7fbff;\n",
       "            color:  #000000;\n",
       "        }    #T_14a7f1a6_cae3_11e9_bc4a_00216ae618aarow1_col6 {\n",
       "            background-color:  #f7fbff;\n",
       "            color:  #000000;\n",
       "        }    #T_14a7f1a6_cae3_11e9_bc4a_00216ae618aarow1_col7 {\n",
       "            background-color:  #08306b;\n",
       "            color:  #f1f1f1;\n",
       "        }    #T_14a7f1a6_cae3_11e9_bc4a_00216ae618aarow1_col8 {\n",
       "            background-color:  #f7fbff;\n",
       "            color:  #000000;\n",
       "        }    #T_14a7f1a6_cae3_11e9_bc4a_00216ae618aarow2_col1 {\n",
       "            background-color:  #f7fbff;\n",
       "            color:  #000000;\n",
       "        }    #T_14a7f1a6_cae3_11e9_bc4a_00216ae618aarow2_col2 {\n",
       "            background-color:  #206fb4;\n",
       "            color:  #f1f1f1;\n",
       "        }    #T_14a7f1a6_cae3_11e9_bc4a_00216ae618aarow2_col3 {\n",
       "            background-color:  #f7fbff;\n",
       "            color:  #000000;\n",
       "        }    #T_14a7f1a6_cae3_11e9_bc4a_00216ae618aarow2_col4 {\n",
       "            background-color:  #f7fbff;\n",
       "            color:  #000000;\n",
       "        }    #T_14a7f1a6_cae3_11e9_bc4a_00216ae618aarow2_col5 {\n",
       "            background-color:  #f7fbff;\n",
       "            color:  #000000;\n",
       "        }    #T_14a7f1a6_cae3_11e9_bc4a_00216ae618aarow2_col6 {\n",
       "            background-color:  #f6faff;\n",
       "            color:  #000000;\n",
       "        }    #T_14a7f1a6_cae3_11e9_bc4a_00216ae618aarow2_col7 {\n",
       "            background-color:  #08306b;\n",
       "            color:  #f1f1f1;\n",
       "        }    #T_14a7f1a6_cae3_11e9_bc4a_00216ae618aarow2_col8 {\n",
       "            background-color:  #f7fbff;\n",
       "            color:  #000000;\n",
       "        }    #T_14a7f1a6_cae3_11e9_bc4a_00216ae618aarow3_col1 {\n",
       "            background-color:  #f7fbff;\n",
       "            color:  #000000;\n",
       "        }    #T_14a7f1a6_cae3_11e9_bc4a_00216ae618aarow3_col2 {\n",
       "            background-color:  #f7fbff;\n",
       "            color:  #000000;\n",
       "        }    #T_14a7f1a6_cae3_11e9_bc4a_00216ae618aarow3_col3 {\n",
       "            background-color:  #f7fbff;\n",
       "            color:  #000000;\n",
       "        }    #T_14a7f1a6_cae3_11e9_bc4a_00216ae618aarow3_col4 {\n",
       "            background-color:  #eaf3fb;\n",
       "            color:  #000000;\n",
       "        }    #T_14a7f1a6_cae3_11e9_bc4a_00216ae618aarow3_col5 {\n",
       "            background-color:  #f7fbff;\n",
       "            color:  #000000;\n",
       "        }    #T_14a7f1a6_cae3_11e9_bc4a_00216ae618aarow3_col6 {\n",
       "            background-color:  #f7fbff;\n",
       "            color:  #000000;\n",
       "        }    #T_14a7f1a6_cae3_11e9_bc4a_00216ae618aarow3_col7 {\n",
       "            background-color:  #08306b;\n",
       "            color:  #f1f1f1;\n",
       "        }    #T_14a7f1a6_cae3_11e9_bc4a_00216ae618aarow3_col8 {\n",
       "            background-color:  #f7fbff;\n",
       "            color:  #000000;\n",
       "        }    #T_14a7f1a6_cae3_11e9_bc4a_00216ae618aarow4_col1 {\n",
       "            background-color:  #f7fbff;\n",
       "            color:  #000000;\n",
       "        }    #T_14a7f1a6_cae3_11e9_bc4a_00216ae618aarow4_col2 {\n",
       "            background-color:  #f7fbff;\n",
       "            color:  #000000;\n",
       "        }    #T_14a7f1a6_cae3_11e9_bc4a_00216ae618aarow4_col3 {\n",
       "            background-color:  #f7fbff;\n",
       "            color:  #000000;\n",
       "        }    #T_14a7f1a6_cae3_11e9_bc4a_00216ae618aarow4_col4 {\n",
       "            background-color:  #f3f8fe;\n",
       "            color:  #000000;\n",
       "        }    #T_14a7f1a6_cae3_11e9_bc4a_00216ae618aarow4_col5 {\n",
       "            background-color:  #f7fbff;\n",
       "            color:  #000000;\n",
       "        }    #T_14a7f1a6_cae3_11e9_bc4a_00216ae618aarow4_col6 {\n",
       "            background-color:  #f7fbff;\n",
       "            color:  #000000;\n",
       "        }    #T_14a7f1a6_cae3_11e9_bc4a_00216ae618aarow4_col7 {\n",
       "            background-color:  #08306b;\n",
       "            color:  #f1f1f1;\n",
       "        }    #T_14a7f1a6_cae3_11e9_bc4a_00216ae618aarow4_col8 {\n",
       "            background-color:  #f7fbff;\n",
       "            color:  #000000;\n",
       "        }    #T_14a7f1a6_cae3_11e9_bc4a_00216ae618aarow5_col1 {\n",
       "            background-color:  #f6faff;\n",
       "            color:  #000000;\n",
       "        }    #T_14a7f1a6_cae3_11e9_bc4a_00216ae618aarow5_col2 {\n",
       "            background-color:  #f7fbff;\n",
       "            color:  #000000;\n",
       "        }    #T_14a7f1a6_cae3_11e9_bc4a_00216ae618aarow5_col3 {\n",
       "            background-color:  #f6faff;\n",
       "            color:  #000000;\n",
       "        }    #T_14a7f1a6_cae3_11e9_bc4a_00216ae618aarow5_col4 {\n",
       "            background-color:  #f5fafe;\n",
       "            color:  #000000;\n",
       "        }    #T_14a7f1a6_cae3_11e9_bc4a_00216ae618aarow5_col5 {\n",
       "            background-color:  #08306b;\n",
       "            color:  #f1f1f1;\n",
       "        }    #T_14a7f1a6_cae3_11e9_bc4a_00216ae618aarow5_col6 {\n",
       "            background-color:  #f7fbff;\n",
       "            color:  #000000;\n",
       "        }    #T_14a7f1a6_cae3_11e9_bc4a_00216ae618aarow5_col7 {\n",
       "            background-color:  #f7fbff;\n",
       "            color:  #000000;\n",
       "        }    #T_14a7f1a6_cae3_11e9_bc4a_00216ae618aarow5_col8 {\n",
       "            background-color:  #f5f9fe;\n",
       "            color:  #000000;\n",
       "        }    #T_14a7f1a6_cae3_11e9_bc4a_00216ae618aarow6_col1 {\n",
       "            background-color:  #f7fbff;\n",
       "            color:  #000000;\n",
       "        }    #T_14a7f1a6_cae3_11e9_bc4a_00216ae618aarow6_col2 {\n",
       "            background-color:  #08306b;\n",
       "            color:  #f1f1f1;\n",
       "        }    #T_14a7f1a6_cae3_11e9_bc4a_00216ae618aarow6_col3 {\n",
       "            background-color:  #f7fbff;\n",
       "            color:  #000000;\n",
       "        }    #T_14a7f1a6_cae3_11e9_bc4a_00216ae618aarow6_col4 {\n",
       "            background-color:  #f7fbff;\n",
       "            color:  #000000;\n",
       "        }    #T_14a7f1a6_cae3_11e9_bc4a_00216ae618aarow6_col5 {\n",
       "            background-color:  #f7fbff;\n",
       "            color:  #000000;\n",
       "        }    #T_14a7f1a6_cae3_11e9_bc4a_00216ae618aarow6_col6 {\n",
       "            background-color:  #f7fbff;\n",
       "            color:  #000000;\n",
       "        }    #T_14a7f1a6_cae3_11e9_bc4a_00216ae618aarow6_col7 {\n",
       "            background-color:  #f4f9fe;\n",
       "            color:  #000000;\n",
       "        }    #T_14a7f1a6_cae3_11e9_bc4a_00216ae618aarow6_col8 {\n",
       "            background-color:  #f7fbff;\n",
       "            color:  #000000;\n",
       "        }    #T_14a7f1a6_cae3_11e9_bc4a_00216ae618aarow7_col1 {\n",
       "            background-color:  #f6faff;\n",
       "            color:  #000000;\n",
       "        }    #T_14a7f1a6_cae3_11e9_bc4a_00216ae618aarow7_col2 {\n",
       "            background-color:  #f7fbff;\n",
       "            color:  #000000;\n",
       "        }    #T_14a7f1a6_cae3_11e9_bc4a_00216ae618aarow7_col3 {\n",
       "            background-color:  #f6faff;\n",
       "            color:  #000000;\n",
       "        }    #T_14a7f1a6_cae3_11e9_bc4a_00216ae618aarow7_col4 {\n",
       "            background-color:  #f5fafe;\n",
       "            color:  #000000;\n",
       "        }    #T_14a7f1a6_cae3_11e9_bc4a_00216ae618aarow7_col5 {\n",
       "            background-color:  #08306b;\n",
       "            color:  #f1f1f1;\n",
       "        }    #T_14a7f1a6_cae3_11e9_bc4a_00216ae618aarow7_col6 {\n",
       "            background-color:  #f7fbff;\n",
       "            color:  #000000;\n",
       "        }    #T_14a7f1a6_cae3_11e9_bc4a_00216ae618aarow7_col7 {\n",
       "            background-color:  #f7fbff;\n",
       "            color:  #000000;\n",
       "        }    #T_14a7f1a6_cae3_11e9_bc4a_00216ae618aarow7_col8 {\n",
       "            background-color:  #f5fafe;\n",
       "            color:  #000000;\n",
       "        }</style><table id=\"T_14a7f1a6_cae3_11e9_bc4a_00216ae618aa\" ><thead>    <tr>        <th class=\"blank level0\" ></th>        <th class=\"col_heading level0 col0\" >Expect</th>        <th class=\"col_heading level0 col1\" >OP</th>        <th class=\"col_heading level0 col2\" >OI</th>        <th class=\"col_heading level0 col3\" >MOR</th>        <th class=\"col_heading level0 col4\" >IOA</th>        <th class=\"col_heading level0 col5\" >IA</th>        <th class=\"col_heading level0 col6\" >CFB</th>        <th class=\"col_heading level0 col7\" >CA</th>        <th class=\"col_heading level0 col8\" >BAB</th>    </tr></thead><tbody>\n",
       "                <tr>\n",
       "                        <th id=\"T_14a7f1a6_cae3_11e9_bc4a_00216ae618aalevel0_row0\" class=\"row_heading level0 row0\" >0</th>\n",
       "                        <td id=\"T_14a7f1a6_cae3_11e9_bc4a_00216ae618aarow0_col0\" class=\"data row0 col0\" >OI</td>\n",
       "                        <td id=\"T_14a7f1a6_cae3_11e9_bc4a_00216ae618aarow0_col1\" class=\"data row0 col1\" >0</td>\n",
       "                        <td id=\"T_14a7f1a6_cae3_11e9_bc4a_00216ae618aarow0_col2\" class=\"data row0 col2\" >99.5</td>\n",
       "                        <td id=\"T_14a7f1a6_cae3_11e9_bc4a_00216ae618aarow0_col3\" class=\"data row0 col3\" >0.1</td>\n",
       "                        <td id=\"T_14a7f1a6_cae3_11e9_bc4a_00216ae618aarow0_col4\" class=\"data row0 col4\" >0</td>\n",
       "                        <td id=\"T_14a7f1a6_cae3_11e9_bc4a_00216ae618aarow0_col5\" class=\"data row0 col5\" >0</td>\n",
       "                        <td id=\"T_14a7f1a6_cae3_11e9_bc4a_00216ae618aarow0_col6\" class=\"data row0 col6\" >0.06</td>\n",
       "                        <td id=\"T_14a7f1a6_cae3_11e9_bc4a_00216ae618aarow0_col7\" class=\"data row0 col7\" >0.32</td>\n",
       "                        <td id=\"T_14a7f1a6_cae3_11e9_bc4a_00216ae618aarow0_col8\" class=\"data row0 col8\" >0.01</td>\n",
       "            </tr>\n",
       "            <tr>\n",
       "                        <th id=\"T_14a7f1a6_cae3_11e9_bc4a_00216ae618aalevel0_row1\" class=\"row_heading level0 row1\" >1</th>\n",
       "                        <td id=\"T_14a7f1a6_cae3_11e9_bc4a_00216ae618aarow1_col0\" class=\"data row1 col0\" >CA</td>\n",
       "                        <td id=\"T_14a7f1a6_cae3_11e9_bc4a_00216ae618aarow1_col1\" class=\"data row1 col1\" >0.02</td>\n",
       "                        <td id=\"T_14a7f1a6_cae3_11e9_bc4a_00216ae618aarow1_col2\" class=\"data row1 col2\" >0</td>\n",
       "                        <td id=\"T_14a7f1a6_cae3_11e9_bc4a_00216ae618aarow1_col3\" class=\"data row1 col3\" >0</td>\n",
       "                        <td id=\"T_14a7f1a6_cae3_11e9_bc4a_00216ae618aarow1_col4\" class=\"data row1 col4\" >4.06</td>\n",
       "                        <td id=\"T_14a7f1a6_cae3_11e9_bc4a_00216ae618aarow1_col5\" class=\"data row1 col5\" >0.06</td>\n",
       "                        <td id=\"T_14a7f1a6_cae3_11e9_bc4a_00216ae618aarow1_col6\" class=\"data row1 col6\" >0</td>\n",
       "                        <td id=\"T_14a7f1a6_cae3_11e9_bc4a_00216ae618aarow1_col7\" class=\"data row1 col7\" >95.83</td>\n",
       "                        <td id=\"T_14a7f1a6_cae3_11e9_bc4a_00216ae618aarow1_col8\" class=\"data row1 col8\" >0.02</td>\n",
       "            </tr>\n",
       "            <tr>\n",
       "                        <th id=\"T_14a7f1a6_cae3_11e9_bc4a_00216ae618aalevel0_row2\" class=\"row_heading level0 row2\" >2</th>\n",
       "                        <td id=\"T_14a7f1a6_cae3_11e9_bc4a_00216ae618aarow2_col0\" class=\"data row2 col0\" >CA</td>\n",
       "                        <td id=\"T_14a7f1a6_cae3_11e9_bc4a_00216ae618aarow2_col1\" class=\"data row2 col1\" >0.2</td>\n",
       "                        <td id=\"T_14a7f1a6_cae3_11e9_bc4a_00216ae618aarow2_col2\" class=\"data row2 col2\" >42.78</td>\n",
       "                        <td id=\"T_14a7f1a6_cae3_11e9_bc4a_00216ae618aarow2_col3\" class=\"data row2 col3\" >0.07</td>\n",
       "                        <td id=\"T_14a7f1a6_cae3_11e9_bc4a_00216ae618aarow2_col4\" class=\"data row2 col4\" >0</td>\n",
       "                        <td id=\"T_14a7f1a6_cae3_11e9_bc4a_00216ae618aarow2_col5\" class=\"data row2 col5\" >0</td>\n",
       "                        <td id=\"T_14a7f1a6_cae3_11e9_bc4a_00216ae618aarow2_col6\" class=\"data row2 col6\" >0.27</td>\n",
       "                        <td id=\"T_14a7f1a6_cae3_11e9_bc4a_00216ae618aarow2_col7\" class=\"data row2 col7\" >56.63</td>\n",
       "                        <td id=\"T_14a7f1a6_cae3_11e9_bc4a_00216ae618aarow2_col8\" class=\"data row2 col8\" >0.05</td>\n",
       "            </tr>\n",
       "            <tr>\n",
       "                        <th id=\"T_14a7f1a6_cae3_11e9_bc4a_00216ae618aalevel0_row3\" class=\"row_heading level0 row3\" >3</th>\n",
       "                        <td id=\"T_14a7f1a6_cae3_11e9_bc4a_00216ae618aarow3_col0\" class=\"data row3 col0\" >CA</td>\n",
       "                        <td id=\"T_14a7f1a6_cae3_11e9_bc4a_00216ae618aarow3_col1\" class=\"data row3 col1\" >0.14</td>\n",
       "                        <td id=\"T_14a7f1a6_cae3_11e9_bc4a_00216ae618aarow3_col2\" class=\"data row3 col2\" >0.01</td>\n",
       "                        <td id=\"T_14a7f1a6_cae3_11e9_bc4a_00216ae618aarow3_col3\" class=\"data row3 col3\" >0</td>\n",
       "                        <td id=\"T_14a7f1a6_cae3_11e9_bc4a_00216ae618aarow3_col4\" class=\"data row3 col4\" >6.19</td>\n",
       "                        <td id=\"T_14a7f1a6_cae3_11e9_bc4a_00216ae618aarow3_col5\" class=\"data row3 col5\" >0.09</td>\n",
       "                        <td id=\"T_14a7f1a6_cae3_11e9_bc4a_00216ae618aarow3_col6\" class=\"data row3 col6\" >0.01</td>\n",
       "                        <td id=\"T_14a7f1a6_cae3_11e9_bc4a_00216ae618aarow3_col7\" class=\"data row3 col7\" >93.48</td>\n",
       "                        <td id=\"T_14a7f1a6_cae3_11e9_bc4a_00216ae618aarow3_col8\" class=\"data row3 col8\" >0.07</td>\n",
       "            </tr>\n",
       "            <tr>\n",
       "                        <th id=\"T_14a7f1a6_cae3_11e9_bc4a_00216ae618aalevel0_row4\" class=\"row_heading level0 row4\" >4</th>\n",
       "                        <td id=\"T_14a7f1a6_cae3_11e9_bc4a_00216ae618aarow4_col0\" class=\"data row4 col0\" >CA</td>\n",
       "                        <td id=\"T_14a7f1a6_cae3_11e9_bc4a_00216ae618aarow4_col1\" class=\"data row4 col1\" >0.01</td>\n",
       "                        <td id=\"T_14a7f1a6_cae3_11e9_bc4a_00216ae618aarow4_col2\" class=\"data row4 col2\" >0.17</td>\n",
       "                        <td id=\"T_14a7f1a6_cae3_11e9_bc4a_00216ae618aarow4_col3\" class=\"data row4 col3\" >0</td>\n",
       "                        <td id=\"T_14a7f1a6_cae3_11e9_bc4a_00216ae618aarow4_col4\" class=\"data row4 col4\" >2.03</td>\n",
       "                        <td id=\"T_14a7f1a6_cae3_11e9_bc4a_00216ae618aarow4_col5\" class=\"data row4 col5\" >0.09</td>\n",
       "                        <td id=\"T_14a7f1a6_cae3_11e9_bc4a_00216ae618aarow4_col6\" class=\"data row4 col6\" >0</td>\n",
       "                        <td id=\"T_14a7f1a6_cae3_11e9_bc4a_00216ae618aarow4_col7\" class=\"data row4 col7\" >97.57</td>\n",
       "                        <td id=\"T_14a7f1a6_cae3_11e9_bc4a_00216ae618aarow4_col8\" class=\"data row4 col8\" >0.14</td>\n",
       "            </tr>\n",
       "            <tr>\n",
       "                        <th id=\"T_14a7f1a6_cae3_11e9_bc4a_00216ae618aalevel0_row5\" class=\"row_heading level0 row5\" >5</th>\n",
       "                        <td id=\"T_14a7f1a6_cae3_11e9_bc4a_00216ae618aarow5_col0\" class=\"data row5 col0\" >IA</td>\n",
       "                        <td id=\"T_14a7f1a6_cae3_11e9_bc4a_00216ae618aarow5_col1\" class=\"data row5 col1\" >0.44</td>\n",
       "                        <td id=\"T_14a7f1a6_cae3_11e9_bc4a_00216ae618aarow5_col2\" class=\"data row5 col2\" >0.01</td>\n",
       "                        <td id=\"T_14a7f1a6_cae3_11e9_bc4a_00216ae618aarow5_col3\" class=\"data row5 col3\" >0.46</td>\n",
       "                        <td id=\"T_14a7f1a6_cae3_11e9_bc4a_00216ae618aarow5_col4\" class=\"data row5 col4\" >1.13</td>\n",
       "                        <td id=\"T_14a7f1a6_cae3_11e9_bc4a_00216ae618aarow5_col5\" class=\"data row5 col5\" >96.29</td>\n",
       "                        <td id=\"T_14a7f1a6_cae3_11e9_bc4a_00216ae618aarow5_col6\" class=\"data row5 col6\" >0.02</td>\n",
       "                        <td id=\"T_14a7f1a6_cae3_11e9_bc4a_00216ae618aarow5_col7\" class=\"data row5 col7\" >0.21</td>\n",
       "                        <td id=\"T_14a7f1a6_cae3_11e9_bc4a_00216ae618aarow5_col8\" class=\"data row5 col8\" >1.44</td>\n",
       "            </tr>\n",
       "            <tr>\n",
       "                        <th id=\"T_14a7f1a6_cae3_11e9_bc4a_00216ae618aalevel0_row6\" class=\"row_heading level0 row6\" >6</th>\n",
       "                        <td id=\"T_14a7f1a6_cae3_11e9_bc4a_00216ae618aarow6_col0\" class=\"data row6 col0\" >OI</td>\n",
       "                        <td id=\"T_14a7f1a6_cae3_11e9_bc4a_00216ae618aarow6_col1\" class=\"data row6 col1\" >0</td>\n",
       "                        <td id=\"T_14a7f1a6_cae3_11e9_bc4a_00216ae618aarow6_col2\" class=\"data row6 col2\" >98.28</td>\n",
       "                        <td id=\"T_14a7f1a6_cae3_11e9_bc4a_00216ae618aarow6_col3\" class=\"data row6 col3\" >0.01</td>\n",
       "                        <td id=\"T_14a7f1a6_cae3_11e9_bc4a_00216ae618aarow6_col4\" class=\"data row6 col4\" >0</td>\n",
       "                        <td id=\"T_14a7f1a6_cae3_11e9_bc4a_00216ae618aarow6_col5\" class=\"data row6 col5\" >0</td>\n",
       "                        <td id=\"T_14a7f1a6_cae3_11e9_bc4a_00216ae618aarow6_col6\" class=\"data row6 col6\" >0</td>\n",
       "                        <td id=\"T_14a7f1a6_cae3_11e9_bc4a_00216ae618aarow6_col7\" class=\"data row6 col7\" >1.7</td>\n",
       "                        <td id=\"T_14a7f1a6_cae3_11e9_bc4a_00216ae618aarow6_col8\" class=\"data row6 col8\" >0</td>\n",
       "            </tr>\n",
       "            <tr>\n",
       "                        <th id=\"T_14a7f1a6_cae3_11e9_bc4a_00216ae618aalevel0_row7\" class=\"row_heading level0 row7\" >7</th>\n",
       "                        <td id=\"T_14a7f1a6_cae3_11e9_bc4a_00216ae618aarow7_col0\" class=\"data row7 col0\" >IA</td>\n",
       "                        <td id=\"T_14a7f1a6_cae3_11e9_bc4a_00216ae618aarow7_col1\" class=\"data row7 col1\" >0.52</td>\n",
       "                        <td id=\"T_14a7f1a6_cae3_11e9_bc4a_00216ae618aarow7_col2\" class=\"data row7 col2\" >0.01</td>\n",
       "                        <td id=\"T_14a7f1a6_cae3_11e9_bc4a_00216ae618aarow7_col3\" class=\"data row7 col3\" >0.47</td>\n",
       "                        <td id=\"T_14a7f1a6_cae3_11e9_bc4a_00216ae618aarow7_col4\" class=\"data row7 col4\" >0.9</td>\n",
       "                        <td id=\"T_14a7f1a6_cae3_11e9_bc4a_00216ae618aarow7_col5\" class=\"data row7 col5\" >96.9</td>\n",
       "                        <td id=\"T_14a7f1a6_cae3_11e9_bc4a_00216ae618aarow7_col6\" class=\"data row7 col6\" >0.04</td>\n",
       "                        <td id=\"T_14a7f1a6_cae3_11e9_bc4a_00216ae618aarow7_col7\" class=\"data row7 col7\" >0.22</td>\n",
       "                        <td id=\"T_14a7f1a6_cae3_11e9_bc4a_00216ae618aarow7_col8\" class=\"data row7 col8\" >0.95</td>\n",
       "            </tr>\n",
       "    </tbody></table>"
      ],
      "text/plain": [
       "<pandas.io.formats.style.Styler at 0x1f81ac65278>"
      ]
     },
     "execution_count": 18,
     "metadata": {},
     "output_type": "execute_result"
    }
   ],
   "source": [
    "probs = pd.DataFrame(data=lr.predict_proba(X_test[:8, :]), columns=lr.classes_) * 100\n",
    "probs[\"Expect\"] = y_test[:8].tolist()\n",
    "table = probs[probs.columns[::-1]].round(2)\n",
    "table.style.background_gradient(cmap=\"Blues\", axis=1)"
   ]
  },
  {
   "cell_type": "markdown",
   "metadata": {
    "slideshow": {
     "slide_type": "slide"
    }
   },
   "source": [
    "### An Extended Workflow for Support Vector Classifiers: Gridsearch for Parameter Optimisation"
   ]
  },
  {
   "cell_type": "code",
   "execution_count": 19,
   "metadata": {
    "slideshow": {
     "slide_type": "subslide"
    }
   },
   "outputs": [],
   "source": [
    "preprocessor = PdUnion(\n",
    "    [\n",
    "        make_pipeline(CompositionalSelector(), CLRTransform()),\n",
    "        make_pipeline(CompositionalSelector(inverse=True), LinearTransform()),\n",
    "    ]\n",
    ")\n",
    "XX_ = StandardScaler().fit_transform(preprocessor.fit_transform(X))"
   ]
  },
  {
   "cell_type": "code",
   "execution_count": 20,
   "metadata": {
    "slideshow": {
     "slide_type": "fragment"
    }
   },
   "outputs": [],
   "source": [
    "XX_train, XX_test, yy_train, yy_test = train_test_split(XX_, y, stratify=y, test_size=0.3)"
   ]
  },
  {
   "cell_type": "code",
   "execution_count": 21,
   "metadata": {
    "slideshow": {
     "slide_type": "subslide"
    }
   },
   "outputs": [],
   "source": [
    "params = dict(\n",
    "    verbose=1,\n",
    "    probability=True,  # Use Platt scaling to give estimates of probabilistic output\n",
    "    param_grid=dict(\n",
    "        svc__gamma=np.logspace(-2.3, -0.85, 5),\n",
    "        svc__C=np.logspace(-0.5, 2, 5),  # limit C parameter to avoid overfitting\n",
    "    ),\n",
    ")"
   ]
  },
  {
   "cell_type": "code",
   "execution_count": 22,
   "metadata": {
    "slideshow": {
     "slide_type": "subslide"
    }
   },
   "outputs": [
    {
     "name": "stdout",
     "output_type": "stream",
     "text": [
      "Fitting 10 folds for each of 25 candidates, totalling 250 fits\n"
     ]
    },
    {
     "name": "stderr",
     "output_type": "stream",
     "text": [
      "[Parallel(n_jobs=4)]: Using backend LokyBackend with 4 concurrent workers.\n",
      "[Parallel(n_jobs=4)]: Done  42 tasks      | elapsed:   11.8s\n",
      "[Parallel(n_jobs=4)]: Done 192 tasks      | elapsed:   31.0s\n",
      "[Parallel(n_jobs=4)]: Done 250 out of 250 | elapsed:   38.1s finished\n"
     ]
    },
    {
     "data": {
      "text/plain": [
       "GridSearchCV(cv=StratifiedKFold(n_splits=10, random_state=None, shuffle=True),\n",
       "       error_score='raise-deprecating',\n",
       "       estimator=Pipeline(memory=None,\n",
       "     steps=[('svc', SVC(C=1.0, cache_size=500, class_weight='balanced', coef0=0.0,\n",
       "  decision_function_shape='ovo', degree=3, gamma='scale', kernel='rbf',\n",
       "  max_iter=-1, probability=True, random_state=None, shrinking=True,\n",
       "  tol=0.001, verbose=False))]),\n",
       "       fit_params=None, iid='warn', n_jobs=4,\n",
       "       param_grid={'svc__gamma': array([0.00501, 0.01155, 0.02661, 0.06131, 0.14125]), 'svc__C': array([  0.31623,   1.33352,   5.62341,  23.71374, 100.     ])},\n",
       "       pre_dispatch='2*n_jobs', refit=True, return_train_score='warn',\n",
       "       scoring=None, verbose=1)"
      ]
     },
     "execution_count": 22,
     "metadata": {},
     "output_type": "execute_result"
    }
   ],
   "source": [
    "gs = SVC_pipeline(**params)\n",
    "gs.fit(XX_train, yy_train)"
   ]
  },
  {
   "cell_type": "code",
   "execution_count": 23,
   "metadata": {
    "slideshow": {
     "slide_type": "fragment"
    }
   },
   "outputs": [
    {
     "data": {
      "text/plain": [
       "0.9582664526484751"
      ]
     },
     "execution_count": 23,
     "metadata": {},
     "output_type": "execute_result"
    }
   ],
   "source": [
    "svc2score = gs.best_estimator_.score(XX_test, yy_test)\n",
    "svc2score"
   ]
  },
  {
   "cell_type": "code",
   "execution_count": 26,
   "metadata": {
    "slideshow": {
     "slide_type": "subslide"
    }
   },
   "outputs": [
    {
     "data": {
      "text/plain": [
       "<matplotlib.axes._subplots.AxesSubplot at 0x1f81afe3588>"
      ]
     },
     "execution_count": 26,
     "metadata": {},
     "output_type": "execute_result"
    },
    {
     "data": {
      "image/png": "[encoded data removed]",
      "text/plain": [
       "<Figure size 432x288 with 2 Axes>"
      ]
     },
     "metadata": {
      "needs_background": "light"
     },
     "output_type": "display_data"
    }
   ],
   "source": [
    "plot_confusion_matrix(\n",
    "    gs.best_estimator_, XX_test, yy_test, normalize=True\n",
    ") "
   ]
  },
  {
   "cell_type": "code",
   "execution_count": 30,
   "metadata": {
    "slideshow": {
     "slide_type": "notes"
    }
   },
   "outputs": [
    {
     "data": {
      "image/png": "[encoded data removed]",
      "text/plain": [
       "<Figure size 432x288 with 2 Axes>"
      ]
     },
     "metadata": {
      "needs_background": "light"
     },
     "output_type": "display_data"
    }
   ],
   "source": [
    "from pyrolite.util.plot import save_figure\n",
    "save_figure(plot_confusion_matrix(\n",
    "    gs.best_estimator_, XX_test, yy_test, normalize=True\n",
    ").figure, name='GS_SVC_ConfMatrix', save_fmts=['pdf', 'png'])"
   ]
  },
  {
   "cell_type": "code",
   "execution_count": 25,
   "metadata": {
    "slideshow": {
     "slide_type": "subslide"
    }
   },
   "outputs": [
    {
     "data": {
      "text/html": [
       "<style  type=\"text/css\" >\n",
       "    #T_03ffa68c_cac9_11e9_971c_00216ae618aarow0_col1 {\n",
       "            background-color:  #f4f9fe;\n",
       "            color:  #000000;\n",
       "        }    #T_03ffa68c_cac9_11e9_971c_00216ae618aarow0_col2 {\n",
       "            background-color:  #f7fbff;\n",
       "            color:  #000000;\n",
       "        }    #T_03ffa68c_cac9_11e9_971c_00216ae618aarow0_col3 {\n",
       "            background-color:  #deebf7;\n",
       "            color:  #000000;\n",
       "        }    #T_03ffa68c_cac9_11e9_971c_00216ae618aarow0_col4 {\n",
       "            background-color:  #f7fbff;\n",
       "            color:  #000000;\n",
       "        }    #T_03ffa68c_cac9_11e9_971c_00216ae618aarow0_col5 {\n",
       "            background-color:  #84bcdb;\n",
       "            color:  #000000;\n",
       "        }    #T_03ffa68c_cac9_11e9_971c_00216ae618aarow0_col6 {\n",
       "            background-color:  #f6faff;\n",
       "            color:  #000000;\n",
       "        }    #T_03ffa68c_cac9_11e9_971c_00216ae618aarow0_col7 {\n",
       "            background-color:  #f7fbff;\n",
       "            color:  #000000;\n",
       "        }    #T_03ffa68c_cac9_11e9_971c_00216ae618aarow0_col8 {\n",
       "            background-color:  #08306b;\n",
       "            color:  #f1f1f1;\n",
       "        }    #T_03ffa68c_cac9_11e9_971c_00216ae618aarow1_col1 {\n",
       "            background-color:  #f7fbff;\n",
       "            color:  #000000;\n",
       "        }    #T_03ffa68c_cac9_11e9_971c_00216ae618aarow1_col2 {\n",
       "            background-color:  #f7fbff;\n",
       "            color:  #000000;\n",
       "        }    #T_03ffa68c_cac9_11e9_971c_00216ae618aarow1_col3 {\n",
       "            background-color:  #f7fbff;\n",
       "            color:  #000000;\n",
       "        }    #T_03ffa68c_cac9_11e9_971c_00216ae618aarow1_col4 {\n",
       "            background-color:  #f2f8fd;\n",
       "            color:  #000000;\n",
       "        }    #T_03ffa68c_cac9_11e9_971c_00216ae618aarow1_col5 {\n",
       "            background-color:  #08306b;\n",
       "            color:  #f1f1f1;\n",
       "        }    #T_03ffa68c_cac9_11e9_971c_00216ae618aarow1_col6 {\n",
       "            background-color:  #f7fbff;\n",
       "            color:  #000000;\n",
       "        }    #T_03ffa68c_cac9_11e9_971c_00216ae618aarow1_col7 {\n",
       "            background-color:  #f6faff;\n",
       "            color:  #000000;\n",
       "        }    #T_03ffa68c_cac9_11e9_971c_00216ae618aarow1_col8 {\n",
       "            background-color:  #e3eef9;\n",
       "            color:  #000000;\n",
       "        }    #T_03ffa68c_cac9_11e9_971c_00216ae618aarow2_col1 {\n",
       "            background-color:  #f7fbff;\n",
       "            color:  #000000;\n",
       "        }    #T_03ffa68c_cac9_11e9_971c_00216ae618aarow2_col2 {\n",
       "            background-color:  #f7fbff;\n",
       "            color:  #000000;\n",
       "        }    #T_03ffa68c_cac9_11e9_971c_00216ae618aarow2_col3 {\n",
       "            background-color:  #f7fbff;\n",
       "            color:  #000000;\n",
       "        }    #T_03ffa68c_cac9_11e9_971c_00216ae618aarow2_col4 {\n",
       "            background-color:  #f7fbff;\n",
       "            color:  #000000;\n",
       "        }    #T_03ffa68c_cac9_11e9_971c_00216ae618aarow2_col5 {\n",
       "            background-color:  #f7fbff;\n",
       "            color:  #000000;\n",
       "        }    #T_03ffa68c_cac9_11e9_971c_00216ae618aarow2_col6 {\n",
       "            background-color:  #f7fbff;\n",
       "            color:  #000000;\n",
       "        }    #T_03ffa68c_cac9_11e9_971c_00216ae618aarow2_col7 {\n",
       "            background-color:  #08306b;\n",
       "            color:  #f1f1f1;\n",
       "        }    #T_03ffa68c_cac9_11e9_971c_00216ae618aarow2_col8 {\n",
       "            background-color:  #f7fbff;\n",
       "            color:  #000000;\n",
       "        }    #T_03ffa68c_cac9_11e9_971c_00216ae618aarow3_col1 {\n",
       "            background-color:  #f7fbff;\n",
       "            color:  #000000;\n",
       "        }    #T_03ffa68c_cac9_11e9_971c_00216ae618aarow3_col2 {\n",
       "            background-color:  #08306b;\n",
       "            color:  #f1f1f1;\n",
       "        }    #T_03ffa68c_cac9_11e9_971c_00216ae618aarow3_col3 {\n",
       "            background-color:  #f7fbff;\n",
       "            color:  #000000;\n",
       "        }    #T_03ffa68c_cac9_11e9_971c_00216ae618aarow3_col4 {\n",
       "            background-color:  #f7fbff;\n",
       "            color:  #000000;\n",
       "        }    #T_03ffa68c_cac9_11e9_971c_00216ae618aarow3_col5 {\n",
       "            background-color:  #f7fbff;\n",
       "            color:  #000000;\n",
       "        }    #T_03ffa68c_cac9_11e9_971c_00216ae618aarow3_col6 {\n",
       "            background-color:  #f7fbff;\n",
       "            color:  #000000;\n",
       "        }    #T_03ffa68c_cac9_11e9_971c_00216ae618aarow3_col7 {\n",
       "            background-color:  #f7fbff;\n",
       "            color:  #000000;\n",
       "        }    #T_03ffa68c_cac9_11e9_971c_00216ae618aarow3_col8 {\n",
       "            background-color:  #f7fbff;\n",
       "            color:  #000000;\n",
       "        }    #T_03ffa68c_cac9_11e9_971c_00216ae618aarow4_col1 {\n",
       "            background-color:  #f7fbff;\n",
       "            color:  #000000;\n",
       "        }    #T_03ffa68c_cac9_11e9_971c_00216ae618aarow4_col2 {\n",
       "            background-color:  #f7fbff;\n",
       "            color:  #000000;\n",
       "        }    #T_03ffa68c_cac9_11e9_971c_00216ae618aarow4_col3 {\n",
       "            background-color:  #f7fbff;\n",
       "            color:  #000000;\n",
       "        }    #T_03ffa68c_cac9_11e9_971c_00216ae618aarow4_col4 {\n",
       "            background-color:  #08306b;\n",
       "            color:  #f1f1f1;\n",
       "        }    #T_03ffa68c_cac9_11e9_971c_00216ae618aarow4_col5 {\n",
       "            background-color:  #f7fbff;\n",
       "            color:  #000000;\n",
       "        }    #T_03ffa68c_cac9_11e9_971c_00216ae618aarow4_col6 {\n",
       "            background-color:  #f7fbff;\n",
       "            color:  #000000;\n",
       "        }    #T_03ffa68c_cac9_11e9_971c_00216ae618aarow4_col7 {\n",
       "            background-color:  #f7fbff;\n",
       "            color:  #000000;\n",
       "        }    #T_03ffa68c_cac9_11e9_971c_00216ae618aarow4_col8 {\n",
       "            background-color:  #f7fbff;\n",
       "            color:  #000000;\n",
       "        }    #T_03ffa68c_cac9_11e9_971c_00216ae618aarow5_col1 {\n",
       "            background-color:  #f0f6fd;\n",
       "            color:  #000000;\n",
       "        }    #T_03ffa68c_cac9_11e9_971c_00216ae618aarow5_col2 {\n",
       "            background-color:  #f7fbff;\n",
       "            color:  #000000;\n",
       "        }    #T_03ffa68c_cac9_11e9_971c_00216ae618aarow5_col3 {\n",
       "            background-color:  #f7fbff;\n",
       "            color:  #000000;\n",
       "        }    #T_03ffa68c_cac9_11e9_971c_00216ae618aarow5_col4 {\n",
       "            background-color:  #f7fbff;\n",
       "            color:  #000000;\n",
       "        }    #T_03ffa68c_cac9_11e9_971c_00216ae618aarow5_col5 {\n",
       "            background-color:  #f7fbff;\n",
       "            color:  #000000;\n",
       "        }    #T_03ffa68c_cac9_11e9_971c_00216ae618aarow5_col6 {\n",
       "            background-color:  #08306b;\n",
       "            color:  #f1f1f1;\n",
       "        }    #T_03ffa68c_cac9_11e9_971c_00216ae618aarow5_col7 {\n",
       "            background-color:  #f7fbff;\n",
       "            color:  #000000;\n",
       "        }    #T_03ffa68c_cac9_11e9_971c_00216ae618aarow5_col8 {\n",
       "            background-color:  #f7fbff;\n",
       "            color:  #000000;\n",
       "        }    #T_03ffa68c_cac9_11e9_971c_00216ae618aarow6_col1 {\n",
       "            background-color:  #f7fbff;\n",
       "            color:  #000000;\n",
       "        }    #T_03ffa68c_cac9_11e9_971c_00216ae618aarow6_col2 {\n",
       "            background-color:  #f7fbff;\n",
       "            color:  #000000;\n",
       "        }    #T_03ffa68c_cac9_11e9_971c_00216ae618aarow6_col3 {\n",
       "            background-color:  #f7fbff;\n",
       "            color:  #000000;\n",
       "        }    #T_03ffa68c_cac9_11e9_971c_00216ae618aarow6_col4 {\n",
       "            background-color:  #f0f6fd;\n",
       "            color:  #000000;\n",
       "        }    #T_03ffa68c_cac9_11e9_971c_00216ae618aarow6_col5 {\n",
       "            background-color:  #08306b;\n",
       "            color:  #f1f1f1;\n",
       "        }    #T_03ffa68c_cac9_11e9_971c_00216ae618aarow6_col6 {\n",
       "            background-color:  #f7fbff;\n",
       "            color:  #000000;\n",
       "        }    #T_03ffa68c_cac9_11e9_971c_00216ae618aarow6_col7 {\n",
       "            background-color:  #f7fbff;\n",
       "            color:  #000000;\n",
       "        }    #T_03ffa68c_cac9_11e9_971c_00216ae618aarow6_col8 {\n",
       "            background-color:  #f2f7fd;\n",
       "            color:  #000000;\n",
       "        }    #T_03ffa68c_cac9_11e9_971c_00216ae618aarow7_col1 {\n",
       "            background-color:  #f7fbff;\n",
       "            color:  #000000;\n",
       "        }    #T_03ffa68c_cac9_11e9_971c_00216ae618aarow7_col2 {\n",
       "            background-color:  #f7fbff;\n",
       "            color:  #000000;\n",
       "        }    #T_03ffa68c_cac9_11e9_971c_00216ae618aarow7_col3 {\n",
       "            background-color:  #f7fbff;\n",
       "            color:  #000000;\n",
       "        }    #T_03ffa68c_cac9_11e9_971c_00216ae618aarow7_col4 {\n",
       "            background-color:  #f7fbff;\n",
       "            color:  #000000;\n",
       "        }    #T_03ffa68c_cac9_11e9_971c_00216ae618aarow7_col5 {\n",
       "            background-color:  #f7fbff;\n",
       "            color:  #000000;\n",
       "        }    #T_03ffa68c_cac9_11e9_971c_00216ae618aarow7_col6 {\n",
       "            background-color:  #08306b;\n",
       "            color:  #f1f1f1;\n",
       "        }    #T_03ffa68c_cac9_11e9_971c_00216ae618aarow7_col7 {\n",
       "            background-color:  #f7fbff;\n",
       "            color:  #000000;\n",
       "        }    #T_03ffa68c_cac9_11e9_971c_00216ae618aarow7_col8 {\n",
       "            background-color:  #f7fbff;\n",
       "            color:  #000000;\n",
       "        }</style><table id=\"T_03ffa68c_cac9_11e9_971c_00216ae618aa\" ><thead>    <tr>        <th class=\"blank level0\" ></th>        <th class=\"col_heading level0 col0\" >Expect</th>        <th class=\"col_heading level0 col1\" >OP</th>        <th class=\"col_heading level0 col2\" >OI</th>        <th class=\"col_heading level0 col3\" >MOR</th>        <th class=\"col_heading level0 col4\" >IOA</th>        <th class=\"col_heading level0 col5\" >IA</th>        <th class=\"col_heading level0 col6\" >CFB</th>        <th class=\"col_heading level0 col7\" >CA</th>        <th class=\"col_heading level0 col8\" >BAB</th>    </tr></thead><tbody>\n",
       "                <tr>\n",
       "                        <th id=\"T_03ffa68c_cac9_11e9_971c_00216ae618aalevel0_row0\" class=\"row_heading level0 row0\" >0</th>\n",
       "                        <td id=\"T_03ffa68c_cac9_11e9_971c_00216ae618aarow0_col0\" class=\"data row0 col0\" >BAB</td>\n",
       "                        <td id=\"T_03ffa68c_cac9_11e9_971c_00216ae618aarow0_col1\" class=\"data row0 col1\" >1.61</td>\n",
       "                        <td id=\"T_03ffa68c_cac9_11e9_971c_00216ae618aarow0_col2\" class=\"data row0 col2\" >0.44</td>\n",
       "                        <td id=\"T_03ffa68c_cac9_11e9_971c_00216ae618aarow0_col3\" class=\"data row0 col3\" >8.2</td>\n",
       "                        <td id=\"T_03ffa68c_cac9_11e9_971c_00216ae618aarow0_col4\" class=\"data row0 col4\" >0.67</td>\n",
       "                        <td id=\"T_03ffa68c_cac9_11e9_971c_00216ae618aarow0_col5\" class=\"data row0 col5\" >26.98</td>\n",
       "                        <td id=\"T_03ffa68c_cac9_11e9_971c_00216ae618aarow0_col6\" class=\"data row0 col6\" >0.87</td>\n",
       "                        <td id=\"T_03ffa68c_cac9_11e9_971c_00216ae618aarow0_col7\" class=\"data row0 col7\" >0.51</td>\n",
       "                        <td id=\"T_03ffa68c_cac9_11e9_971c_00216ae618aarow0_col8\" class=\"data row0 col8\" >60.73</td>\n",
       "            </tr>\n",
       "            <tr>\n",
       "                        <th id=\"T_03ffa68c_cac9_11e9_971c_00216ae618aalevel0_row1\" class=\"row_heading level0 row1\" >1</th>\n",
       "                        <td id=\"T_03ffa68c_cac9_11e9_971c_00216ae618aarow1_col0\" class=\"data row1 col0\" >IA</td>\n",
       "                        <td id=\"T_03ffa68c_cac9_11e9_971c_00216ae618aarow1_col1\" class=\"data row1 col1\" >0.3</td>\n",
       "                        <td id=\"T_03ffa68c_cac9_11e9_971c_00216ae618aarow1_col2\" class=\"data row1 col2\" >0.05</td>\n",
       "                        <td id=\"T_03ffa68c_cac9_11e9_971c_00216ae618aarow1_col3\" class=\"data row1 col3\" >0.11</td>\n",
       "                        <td id=\"T_03ffa68c_cac9_11e9_971c_00216ae618aarow1_col4\" class=\"data row1 col4\" >2.34</td>\n",
       "                        <td id=\"T_03ffa68c_cac9_11e9_971c_00216ae618aarow1_col5\" class=\"data row1 col5\" >87.47</td>\n",
       "                        <td id=\"T_03ffa68c_cac9_11e9_971c_00216ae618aarow1_col6\" class=\"data row1 col6\" >0.14</td>\n",
       "                        <td id=\"T_03ffa68c_cac9_11e9_971c_00216ae618aarow1_col7\" class=\"data row1 col7\" >0.71</td>\n",
       "                        <td id=\"T_03ffa68c_cac9_11e9_971c_00216ae618aarow1_col8\" class=\"data row1 col8\" >8.86</td>\n",
       "            </tr>\n",
       "            <tr>\n",
       "                        <th id=\"T_03ffa68c_cac9_11e9_971c_00216ae618aalevel0_row2\" class=\"row_heading level0 row2\" >2</th>\n",
       "                        <td id=\"T_03ffa68c_cac9_11e9_971c_00216ae618aarow2_col0\" class=\"data row2 col0\" >CA</td>\n",
       "                        <td id=\"T_03ffa68c_cac9_11e9_971c_00216ae618aarow2_col1\" class=\"data row2 col1\" >0.01</td>\n",
       "                        <td id=\"T_03ffa68c_cac9_11e9_971c_00216ae618aarow2_col2\" class=\"data row2 col2\" >0.01</td>\n",
       "                        <td id=\"T_03ffa68c_cac9_11e9_971c_00216ae618aarow2_col3\" class=\"data row2 col3\" >0.04</td>\n",
       "                        <td id=\"T_03ffa68c_cac9_11e9_971c_00216ae618aarow2_col4\" class=\"data row2 col4\" >0.27</td>\n",
       "                        <td id=\"T_03ffa68c_cac9_11e9_971c_00216ae618aarow2_col5\" class=\"data row2 col5\" >0.03</td>\n",
       "                        <td id=\"T_03ffa68c_cac9_11e9_971c_00216ae618aarow2_col6\" class=\"data row2 col6\" >0</td>\n",
       "                        <td id=\"T_03ffa68c_cac9_11e9_971c_00216ae618aarow2_col7\" class=\"data row2 col7\" >99.55</td>\n",
       "                        <td id=\"T_03ffa68c_cac9_11e9_971c_00216ae618aarow2_col8\" class=\"data row2 col8\" >0.1</td>\n",
       "            </tr>\n",
       "            <tr>\n",
       "                        <th id=\"T_03ffa68c_cac9_11e9_971c_00216ae618aalevel0_row3\" class=\"row_heading level0 row3\" >3</th>\n",
       "                        <td id=\"T_03ffa68c_cac9_11e9_971c_00216ae618aarow3_col0\" class=\"data row3 col0\" >OI</td>\n",
       "                        <td id=\"T_03ffa68c_cac9_11e9_971c_00216ae618aarow3_col1\" class=\"data row3 col1\" >0.03</td>\n",
       "                        <td id=\"T_03ffa68c_cac9_11e9_971c_00216ae618aarow3_col2\" class=\"data row3 col2\" >99.85</td>\n",
       "                        <td id=\"T_03ffa68c_cac9_11e9_971c_00216ae618aarow3_col3\" class=\"data row3 col3\" >0.01</td>\n",
       "                        <td id=\"T_03ffa68c_cac9_11e9_971c_00216ae618aarow3_col4\" class=\"data row3 col4\" >0.05</td>\n",
       "                        <td id=\"T_03ffa68c_cac9_11e9_971c_00216ae618aarow3_col5\" class=\"data row3 col5\" >0.02</td>\n",
       "                        <td id=\"T_03ffa68c_cac9_11e9_971c_00216ae618aarow3_col6\" class=\"data row3 col6\" >0.01</td>\n",
       "                        <td id=\"T_03ffa68c_cac9_11e9_971c_00216ae618aarow3_col7\" class=\"data row3 col7\" >0.01</td>\n",
       "                        <td id=\"T_03ffa68c_cac9_11e9_971c_00216ae618aarow3_col8\" class=\"data row3 col8\" >0.01</td>\n",
       "            </tr>\n",
       "            <tr>\n",
       "                        <th id=\"T_03ffa68c_cac9_11e9_971c_00216ae618aalevel0_row4\" class=\"row_heading level0 row4\" >4</th>\n",
       "                        <td id=\"T_03ffa68c_cac9_11e9_971c_00216ae618aarow4_col0\" class=\"data row4 col0\" >IOA</td>\n",
       "                        <td id=\"T_03ffa68c_cac9_11e9_971c_00216ae618aarow4_col1\" class=\"data row4 col1\" >0.2</td>\n",
       "                        <td id=\"T_03ffa68c_cac9_11e9_971c_00216ae618aarow4_col2\" class=\"data row4 col2\" >0.07</td>\n",
       "                        <td id=\"T_03ffa68c_cac9_11e9_971c_00216ae618aarow4_col3\" class=\"data row4 col3\" >0.2</td>\n",
       "                        <td id=\"T_03ffa68c_cac9_11e9_971c_00216ae618aarow4_col4\" class=\"data row4 col4\" >98.37</td>\n",
       "                        <td id=\"T_03ffa68c_cac9_11e9_971c_00216ae618aarow4_col5\" class=\"data row4 col5\" >0.4</td>\n",
       "                        <td id=\"T_03ffa68c_cac9_11e9_971c_00216ae618aarow4_col6\" class=\"data row4 col6\" >0.21</td>\n",
       "                        <td id=\"T_03ffa68c_cac9_11e9_971c_00216ae618aarow4_col7\" class=\"data row4 col7\" >0.31</td>\n",
       "                        <td id=\"T_03ffa68c_cac9_11e9_971c_00216ae618aarow4_col8\" class=\"data row4 col8\" >0.23</td>\n",
       "            </tr>\n",
       "            <tr>\n",
       "                        <th id=\"T_03ffa68c_cac9_11e9_971c_00216ae618aalevel0_row5\" class=\"row_heading level0 row5\" >5</th>\n",
       "                        <td id=\"T_03ffa68c_cac9_11e9_971c_00216ae618aarow5_col0\" class=\"data row5 col0\" >CFB</td>\n",
       "                        <td id=\"T_03ffa68c_cac9_11e9_971c_00216ae618aarow5_col1\" class=\"data row5 col1\" >3.62</td>\n",
       "                        <td id=\"T_03ffa68c_cac9_11e9_971c_00216ae618aarow5_col2\" class=\"data row5 col2\" >0.33</td>\n",
       "                        <td id=\"T_03ffa68c_cac9_11e9_971c_00216ae618aarow5_col3\" class=\"data row5 col3\" >0.34</td>\n",
       "                        <td id=\"T_03ffa68c_cac9_11e9_971c_00216ae618aarow5_col4\" class=\"data row5 col4\" >0.56</td>\n",
       "                        <td id=\"T_03ffa68c_cac9_11e9_971c_00216ae618aarow5_col5\" class=\"data row5 col5\" >0.47</td>\n",
       "                        <td id=\"T_03ffa68c_cac9_11e9_971c_00216ae618aarow5_col6\" class=\"data row5 col6\" >93.68</td>\n",
       "                        <td id=\"T_03ffa68c_cac9_11e9_971c_00216ae618aarow5_col7\" class=\"data row5 col7\" >0.65</td>\n",
       "                        <td id=\"T_03ffa68c_cac9_11e9_971c_00216ae618aarow5_col8\" class=\"data row5 col8\" >0.35</td>\n",
       "            </tr>\n",
       "            <tr>\n",
       "                        <th id=\"T_03ffa68c_cac9_11e9_971c_00216ae618aalevel0_row6\" class=\"row_heading level0 row6\" >6</th>\n",
       "                        <td id=\"T_03ffa68c_cac9_11e9_971c_00216ae618aarow6_col0\" class=\"data row6 col0\" >IA</td>\n",
       "                        <td id=\"T_03ffa68c_cac9_11e9_971c_00216ae618aarow6_col1\" class=\"data row6 col1\" >0.22</td>\n",
       "                        <td id=\"T_03ffa68c_cac9_11e9_971c_00216ae618aarow6_col2\" class=\"data row6 col2\" >0.02</td>\n",
       "                        <td id=\"T_03ffa68c_cac9_11e9_971c_00216ae618aarow6_col3\" class=\"data row6 col3\" >0.25</td>\n",
       "                        <td id=\"T_03ffa68c_cac9_11e9_971c_00216ae618aarow6_col4\" class=\"data row6 col4\" >3.54</td>\n",
       "                        <td id=\"T_03ffa68c_cac9_11e9_971c_00216ae618aarow6_col5\" class=\"data row6 col5\" >93.12</td>\n",
       "                        <td id=\"T_03ffa68c_cac9_11e9_971c_00216ae618aarow6_col6\" class=\"data row6 col6\" >0.03</td>\n",
       "                        <td id=\"T_03ffa68c_cac9_11e9_971c_00216ae618aarow6_col7\" class=\"data row6 col7\" >0.09</td>\n",
       "                        <td id=\"T_03ffa68c_cac9_11e9_971c_00216ae618aarow6_col8\" class=\"data row6 col8\" >2.72</td>\n",
       "            </tr>\n",
       "            <tr>\n",
       "                        <th id=\"T_03ffa68c_cac9_11e9_971c_00216ae618aalevel0_row7\" class=\"row_heading level0 row7\" >7</th>\n",
       "                        <td id=\"T_03ffa68c_cac9_11e9_971c_00216ae618aarow7_col0\" class=\"data row7 col0\" >CFB</td>\n",
       "                        <td id=\"T_03ffa68c_cac9_11e9_971c_00216ae618aarow7_col1\" class=\"data row7 col1\" >0.08</td>\n",
       "                        <td id=\"T_03ffa68c_cac9_11e9_971c_00216ae618aarow7_col2\" class=\"data row7 col2\" >0.04</td>\n",
       "                        <td id=\"T_03ffa68c_cac9_11e9_971c_00216ae618aarow7_col3\" class=\"data row7 col3\" >0.04</td>\n",
       "                        <td id=\"T_03ffa68c_cac9_11e9_971c_00216ae618aarow7_col4\" class=\"data row7 col4\" >0.18</td>\n",
       "                        <td id=\"T_03ffa68c_cac9_11e9_971c_00216ae618aarow7_col5\" class=\"data row7 col5\" >0.07</td>\n",
       "                        <td id=\"T_03ffa68c_cac9_11e9_971c_00216ae618aarow7_col6\" class=\"data row7 col6\" >99.47</td>\n",
       "                        <td id=\"T_03ffa68c_cac9_11e9_971c_00216ae618aarow7_col7\" class=\"data row7 col7\" >0.08</td>\n",
       "                        <td id=\"T_03ffa68c_cac9_11e9_971c_00216ae618aarow7_col8\" class=\"data row7 col8\" >0.04</td>\n",
       "            </tr>\n",
       "    </tbody></table>"
      ],
      "text/plain": [
       "<pandas.io.formats.style.Styler at 0x28dbd6b35f8>"
      ]
     },
     "execution_count": 25,
     "metadata": {},
     "output_type": "execute_result"
    }
   ],
   "source": [
    "probs = (\n",
    "    pd.DataFrame(\n",
    "        data=gs.best_estimator_.predict_proba(XX_test[:8]),\n",
    "        columns=gs.best_estimator_.classes_,\n",
    "    )\n",
    "    * 100\n",
    ")\n",
    "probs[\"Expect\"] = yy_test[:8].tolist()\n",
    "table = probs[probs.columns[::-1]].round(2)\n",
    "table.style.background_gradient(cmap=\"Blues\", axis=1)"
   ]
  },
  {
   "cell_type": "code",
   "execution_count": 26,
   "metadata": {
    "slideshow": {
     "slide_type": "fragment"
    }
   },
   "outputs": [],
   "source": [
    "lr2 = LogisticRegression(multi_class=\"multinomial\", solver=\"lbfgs\")\n",
    "lr2.fit(XX_train, yy_train)\n",
    "lr2score = lr2.score(XX_test, yy_test) "
   ]
  },
  {
   "cell_type": "code",
   "execution_count": 27,
   "metadata": {
    "slideshow": {
     "slide_type": "fragment"
    }
   },
   "outputs": [],
   "source": [
    "rf2 = RandomForestClassifier()\n",
    "rf2.fit(XX_train, yy_train)\n",
    "rf2score = rf2.score(XX_test, yy_test)"
   ]
  },
  {
   "cell_type": "code",
   "execution_count": 28,
   "metadata": {
    "slideshow": {
     "slide_type": "subslide"
    }
   },
   "outputs": [
    {
     "data": {
      "text/html": [
       "<style  type=\"text/css\" >\n",
       "    #T_0419857a_cac9_11e9_b804_00216ae618aarow0_col0 {\n",
       "            background-color:  #c8e9c1;\n",
       "            color:  #000000;\n",
       "        }    #T_0419857a_cac9_11e9_b804_00216ae618aarow0_col1 {\n",
       "            background-color:  #73c476;\n",
       "            color:  #000000;\n",
       "        }    #T_0419857a_cac9_11e9_b804_00216ae618aarow1_col0 {\n",
       "            background-color:  #f7fcf5;\n",
       "            color:  #000000;\n",
       "        }    #T_0419857a_cac9_11e9_b804_00216ae618aarow1_col1 {\n",
       "            background-color:  #abdda5;\n",
       "            color:  #000000;\n",
       "        }    #T_0419857a_cac9_11e9_b804_00216ae618aarow2_col0 {\n",
       "            background-color:  #d2edcc;\n",
       "            color:  #000000;\n",
       "        }    #T_0419857a_cac9_11e9_b804_00216ae618aarow2_col1 {\n",
       "            background-color:  #c8e9c1;\n",
       "            color:  #000000;\n",
       "        }</style><table id=\"T_0419857a_cac9_11e9_b804_00216ae618aa\" ><thead>    <tr>        <th class=\"blank level0\" ></th>        <th class=\"col_heading level0 col0\" >Start</th>        <th class=\"col_heading level0 col1\" >With CLR</th>    </tr></thead><tbody>\n",
       "                <tr>\n",
       "                        <th id=\"T_0419857a_cac9_11e9_b804_00216ae618aalevel0_row0\" class=\"row_heading level0 row0\" >SVC</th>\n",
       "                        <td id=\"T_0419857a_cac9_11e9_b804_00216ae618aarow0_col0\" class=\"data row0 col0\" >87.8%</td>\n",
       "                        <td id=\"T_0419857a_cac9_11e9_b804_00216ae618aarow0_col1\" class=\"data row0 col1\" >94.7%</td>\n",
       "            </tr>\n",
       "            <tr>\n",
       "                        <th id=\"T_0419857a_cac9_11e9_b804_00216ae618aalevel0_row1\" class=\"row_heading level0 row1\" >RandomForest</th>\n",
       "                        <td id=\"T_0419857a_cac9_11e9_b804_00216ae618aarow1_col0\" class=\"data row1 col0\" >81.1%</td>\n",
       "                        <td id=\"T_0419857a_cac9_11e9_b804_00216ae618aarow1_col1\" class=\"data row1 col1\" >90.4%</td>\n",
       "            </tr>\n",
       "            <tr>\n",
       "                        <th id=\"T_0419857a_cac9_11e9_b804_00216ae618aalevel0_row2\" class=\"row_heading level0 row2\" >Logist.Reg.</th>\n",
       "                        <td id=\"T_0419857a_cac9_11e9_b804_00216ae618aarow2_col0\" class=\"data row2 col0\" >86.7%</td>\n",
       "                        <td id=\"T_0419857a_cac9_11e9_b804_00216ae618aarow2_col1\" class=\"data row2 col1\" >87.8%</td>\n",
       "            </tr>\n",
       "    </tbody></table>"
      ],
      "text/plain": [
       "<pandas.io.formats.style.Styler at 0x28dbd73c438>"
      ]
     },
     "execution_count": 28,
     "metadata": {},
     "output_type": "execute_result"
    }
   ],
   "source": [
    "results = pd.DataFrame(data = [(svcscore, svc2score), \n",
    "                               (rfscore, rf2score), \n",
    "                               (lrscore, lr2score)], \n",
    "                       columns=['Start', \"With CLR\"], \n",
    "                       index = ['SVC', 'RandomForest', 'Logist.Reg.']\n",
    "                      ).round(3) *100\n",
    "results.style.format(lambda x: \"{:.1f}%\".format(x)).background_gradient(cmap=\"Greens\",low=0, high=1, axis=None)"
   ]
  }
 ],
 "metadata": {
  "celltoolbar": "Slideshow",
  "kernelspec": {
   "display_name": "Python 3",
   "language": "python",
   "name": "python3"
  },
  "language_info": {
   "codemirror_mode": {
    "name": "ipython",
    "version": 3
   },
   "file_extension": ".py",
   "mimetype": "text/x-python",
   "name": "python",
   "nbconvert_exporter": "python",
   "pygments_lexer": "ipython3",
   "version": "3.6.7"
  },
  "rise": {
   "autolaunch": true,
   "scroll": true,
   "theme": "solarized"
  }
 },
 "nbformat": 4,
 "nbformat_minor": 2
}
