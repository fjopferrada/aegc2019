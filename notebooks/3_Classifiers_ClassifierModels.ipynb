{
 "cells": [
  {
   "cell_type": "markdown",
   "metadata": {
    "slideshow": {
     "slide_type": "slide"
    }
   },
   "source": [
    "## Different Classifier Models: Practicality, Performance and Use Cases\n",
    " \n",
    "**Data** [Sources](2_Data_Sources.ipynb) | [Compositional Data](2_Data_CompositionalData.ipynb) | [Lambdas](2_Data_Lambdas.ipynb) **Classifiers** [Models](3_Classifiers_ClassifierModels.ipynb) | [Dimensionality](3_Classifiers_Dimensionality.ipynb) | [Performance](3_Classifiers_Performance.ipynb) **Visualisation**  [Entropy](4_Vis_Entropy.ipynb) | [Manifolds](4_Vis_Manifolds.ipynb) **Workflows** [Building Workflows](5_BuildingWorkflows.ipynb) **pyrolite** [Overview](6_pyrolite.ipynb) **GitHub** [AEGC2019](https://github.com/morganjwilliams/aegc2019) | [pyrolite](https://github.com/morganjwilliams/pyrolite)"
   ]
  },
  {
   "cell_type": "markdown",
   "metadata": {
    "slideshow": {
     "slide_type": "subslide"
    }
   },
   "source": [
    "This notebook introduces some of the classifier models which have been used previously for geochemical tectonic discrimination, and provides minimal working examples for building a working model. Clasification models used for tectonic discrimination using bulk-rock geochemical data include support vector classifiers, random forests and sparse multinomial regression ([Petrelli2016], [Ueki2018]). Here we'll rebuild some of these classifiers, working from the simplest possible implementations through to optimised classifiers ready to be put to work.\n",
    "\n",
    "[Petrelli2016]: https://doi.org/10.1007/s00410-016-1292-2 \"Petrelli, M., Perugini, D., 2016. Solving petrological problems through machine learning: the study case of tectonic discrimination using geochemical and isotopic data. Contrib Mineral Petrol 171, 81.\"\n",
    "[Ueki2018]: https://doi.org/10.1029/2017GC007401 \"Ueki, K., Hino, H., Kuwatani, T., 2018. Geochemical Discrimination and Characteristics of Magmatic Tectonic Settings: A Machine-Learning-Based Approach. Geochemistry, Geophysics, Geosystems 19, 1327–1347.\""
   ]
  },
  {
   "cell_type": "markdown",
   "metadata": {
    "slideshow": {
     "slide_type": "subslide"
    }
   },
   "source": [
    "First we'll import some general libraries which we'll use throughout, including numpy, pandas and matplotlib ([Oliphant2006], [vanderWalt2011], [McKinney2010], [Hunter2007]). We'll use scikit-learn for the majority of machine learning tasks ([Pedregosa2011]).\n",
    "\n",
    "[Oliphant2006]: https://numpy.org/ \"Oliphant, T.E., 2006. A guide to NumPy. Trelgol Publishing USA.\"\n",
    "\n",
    "[vanderWalt2011]: https://numpy.org/ \"van der Walt, S., Colbert, S.C., Varoquaux, G., 2011. The NumPy Array: A Structure for Efficient Numerical Computation. Computing in Science Engineering 13, 22–30. https://doi.org/10.1109/MCSE.2011.37\"\n",
    "\n",
    "[Hunter2007]: https://matplotlib.org/ \"Hunter, J.D., 2007. Matplotlib: A 2D Graphics Environment. Comput. Sci. Eng. 9, 90–95. https://doi.org/10.1109/MCSE.2007.55\"\n",
    "\n",
    "[McKinney2010]: https://pandas.pydata.org/pandas-docs/stable/ \"McKinney, W., 2010. Data structures for statistical computing in python, in: van der Walt, S., Millman, J. (Eds.), Proceedings of the 9th Python in Science Conference. pp. 51–56.\"\n",
    "\n",
    "[Pedregosa2011]: https://scikit-learn.org/ \"Pedregosa, F., Varoquaux, G., Gramfort, A., Michel, V., Thirion, B., Grisel, O., Blondel, M., Prettenhofer, P., Weiss, R., Dubourg, V., Vanderplas, J., Passos, A., Cournapeau, D., Brucher, M., Perrot, M., Duchesnay, É., 2011. Scikit-learn: Machine Learning in Python. Journal of Machine Learning Research 12, 2825−2830.\""
   ]
  },
  {
   "cell_type": "code",
   "execution_count": 1,
   "metadata": {
    "slideshow": {
     "slide_type": "fragment"
    }
   },
   "outputs": [],
   "source": [
    "%matplotlib inline\n",
    "import numpy as np\n",
    "import pandas as pd\n",
    "import matplotlib.pyplot as plt"
   ]
  },
  {
   "cell_type": "code",
   "execution_count": 2,
   "metadata": {
    "slideshow": {
     "slide_type": "fragment"
    }
   },
   "outputs": [],
   "source": [
    "from sklearn.svm import SVC\n",
    "from sklearn.linear_model import LogisticRegression\n",
    "from sklearn.ensemble import RandomForestClassifier\n",
    "from sklearn.preprocessing import StandardScaler\n",
    "from sklearn.model_selection import train_test_split\n",
    "from sklearn.pipeline import make_pipeline\n",
    "# could also use imblearn.pipleline.make_pipeline"
   ]
  },
  {
   "cell_type": "markdown",
   "metadata": {
    "slideshow": {
     "slide_type": "subslide"
    }
   },
   "source": [
    "pyrolite also provides a number of useful functions here, especially for using geochemical data ([Williams2019]).\n",
    "\n",
    "[Williams2019]: https://pyrolite.rtfd.io \"Williams, M., 2019. pyrolite: A set of tools for getting the most from your geochemical data. http://dx.doi.org/10.5281/zenodo.2545106\"\n",
    "\n"
   ]
  },
  {
   "cell_type": "code",
   "execution_count": 3,
   "metadata": {
    "slideshow": {
     "slide_type": "fragment"
    }
   },
   "outputs": [
    {
     "name": "stderr",
     "output_type": "stream",
     "text": [
      "Using TensorFlow backend.\n"
     ]
    }
   ],
   "source": [
    "from pyrolite.geochem.ind import common_elements, common_oxides\n",
    "\n",
    "from pyrolite.util.skl.vis import plot_confusion_matrix\n",
    "from pyrolite.util.skl.pipeline import SVC_pipeline, PdUnion\n",
    "from pyrolite.util.skl.select import CompositionalSelector\n",
    "from pyrolite.util.skl.transform import CLRTransform, LinearTransform"
   ]
  },
  {
   "attachments": {},
   "cell_type": "markdown",
   "metadata": {
    "slideshow": {
     "slide_type": "slide"
    }
   },
   "source": [
    "As for the majority of this set of notebooks, we'll use the 29-dimension tectonic discrimination dataset (majors, minors, traces and isotopes) from Ueki et al. (2018), modified to list the specific tectonic setting in a 'Class' column. Tectonic setting classes are as follows: \n",
    "   * BAB: Back Arc Basin\n",
    "   * CA: Continental Arc\n",
    "   * CFB: Continental Flood Basalt\n",
    "   * IA: Island Arc\n",
    "   * IOA: Intra-oceanic Arc\n",
    "   * MOR: Mid-Ocean Ridge\n",
    "   * OI: Ocean Island\n",
    "   * OP: Oceanic Plateau."
   ]
  },
  {
   "cell_type": "code",
   "execution_count": 4,
   "metadata": {
    "slideshow": {
     "slide_type": "subslide"
    }
   },
   "outputs": [
    {
     "data": {
      "text/plain": [
       "['CA', 'IA', 'IOA', 'BAB', 'CFB', 'MOR', 'OP', 'OI']"
      ]
     },
     "execution_count": 4,
     "metadata": {},
     "output_type": "execute_result"
    }
   ],
   "source": [
    "df = pd.read_csv('https://storage.googleapis.com/aegc2019/ueki2018.csv')\n",
    "\n",
    "compositional_variables = common_elements(as_set=True) | common_oxides(as_set=True)\n",
    "abundances = [i for i in df.columns if i in compositional_variables]\n",
    "isotopes = [i for i in df.columns if i != \"Class\" and i not in compositional_variables]\n",
    "\n",
    "classes = list(df.Class.unique())\n",
    "classes"
   ]
  },
  {
   "cell_type": "markdown",
   "metadata": {
    "slideshow": {
     "slide_type": "subslide"
    }
   },
   "source": [
    "To make this dataset suitable for use to train a classifier, let's first split the features from the true classes and then scale the training data such that each column falls in the range \\\\([-1, 1]\\\\). "
   ]
  },
  {
   "cell_type": "code",
   "execution_count": 5,
   "metadata": {
    "slideshow": {
     "slide_type": "fragment"
    }
   },
   "outputs": [],
   "source": [
    "X, y = df.loc[:, abundances + isotopes], df[\"Class\"]"
   ]
  },
  {
   "cell_type": "code",
   "execution_count": 6,
   "metadata": {
    "slideshow": {
     "slide_type": "fragment"
    }
   },
   "outputs": [],
   "source": [
    "scaler = StandardScaler()\n",
    "X_ = scaler.fit_transform(X)"
   ]
  },
  {
   "cell_type": "markdown",
   "metadata": {
    "slideshow": {
     "slide_type": "subslide"
    }
   },
   "source": [
    "To assess the performance of our classifier, we'll need to hold back an independent subset of the data for testing purposes. Here we reserve 30% of the data for testing, and ensure that it will proportionately contain data for each of our classes."
   ]
  },
  {
   "cell_type": "code",
   "execution_count": 7,
   "metadata": {
    "slideshow": {
     "slide_type": "fragment"
    }
   },
   "outputs": [],
   "source": [
    "X_train, X_test, y_train, y_test = train_test_split(X_, y, stratify=y, test_size=0.3)"
   ]
  },
  {
   "cell_type": "markdown",
   "metadata": {
    "slideshow": {
     "slide_type": "slide"
    }
   },
   "source": [
    "### Support Vector Classifiers"
   ]
  },
  {
   "cell_type": "code",
   "execution_count": 8,
   "metadata": {
    "slideshow": {
     "slide_type": "subslide"
    }
   },
   "outputs": [],
   "source": [
    "clf = SVC()\n",
    "clf.fit(X_train, y_train);"
   ]
  },
  {
   "cell_type": "code",
   "execution_count": 9,
   "metadata": {
    "slideshow": {
     "slide_type": "fragment"
    }
   },
   "outputs": [
    {
     "data": {
      "text/plain": [
       "'Overall Accuracy: 88.4%'"
      ]
     },
     "execution_count": 9,
     "metadata": {},
     "output_type": "execute_result"
    }
   ],
   "source": [
    "svcscore = clf.score(X_test, y_test)\n",
    "\"Overall Accuracy: {:.1f}%\".format(svcscore*100)"
   ]
  },
  {
   "cell_type": "code",
   "execution_count": 10,
   "metadata": {
    "slideshow": {
     "slide_type": "subslide"
    }
   },
   "outputs": [
    {
     "data": {
      "image/png": "[encoded data removed]",
      "text/plain": [
       "<Figure size 432x288 with 2 Axes>"
      ]
     },
     "metadata": {
      "needs_background": "light"
     },
     "output_type": "display_data"
    }
   ],
   "source": [
    "plot_confusion_matrix(clf, X_test, y_test, normalize=True, classes=classes);"
   ]
  },
  {
   "cell_type": "markdown",
   "metadata": {
    "slideshow": {
     "slide_type": "slide"
    }
   },
   "source": [
    "### Random Forests"
   ]
  },
  {
   "cell_type": "code",
   "execution_count": 11,
   "metadata": {
    "slideshow": {
     "slide_type": "subslide"
    }
   },
   "outputs": [],
   "source": [
    "rf = RandomForestClassifier(n_estimators=1000, max_depth=4)\n",
    "rf.fit(X_train, y_train);"
   ]
  },
  {
   "cell_type": "code",
   "execution_count": 12,
   "metadata": {
    "slideshow": {
     "slide_type": "fragment"
    }
   },
   "outputs": [
    {
     "data": {
      "text/plain": [
       "'Overall Accuracy: 81.7%'"
      ]
     },
     "execution_count": 12,
     "metadata": {},
     "output_type": "execute_result"
    }
   ],
   "source": [
    "rfscore = rf.score(X_test, y_test)\n",
    "\"Overall Accuracy: {:.1f}%\".format(rfscore*100)"
   ]
  },
  {
   "cell_type": "code",
   "execution_count": 13,
   "metadata": {
    "slideshow": {
     "slide_type": "subslide"
    }
   },
   "outputs": [
    {
     "data": {
      "image/png": "[encoded data removed]",
      "text/plain": [
       "<Figure size 432x288 with 2 Axes>"
      ]
     },
     "metadata": {
      "needs_background": "light"
     },
     "output_type": "display_data"
    }
   ],
   "source": [
    "plot_confusion_matrix(rf, X_test, y_test, normalize=True);"
   ]
  },
  {
   "cell_type": "markdown",
   "metadata": {
    "slideshow": {
     "slide_type": "subslide"
    }
   },
   "source": [
    "Random forests can be used to investigate relative importance of features:"
   ]
  },
  {
   "cell_type": "code",
   "execution_count": 14,
   "metadata": {
    "slideshow": {
     "slide_type": "fragment"
    }
   },
   "outputs": [
    {
     "data": {
      "text/html": [
       "<div>\n",
       "<style scoped>\n",
       "    .dataframe tbody tr th:only-of-type {\n",
       "        vertical-align: middle;\n",
       "    }\n",
       "\n",
       "    .dataframe tbody tr th {\n",
       "        vertical-align: top;\n",
       "    }\n",
       "\n",
       "    .dataframe thead th {\n",
       "        text-align: right;\n",
       "    }\n",
       "</style>\n",
       "<table border=\"1\" class=\"dataframe\">\n",
       "  <thead>\n",
       "    <tr style=\"text-align: right;\">\n",
       "      <th></th>\n",
       "      <th>Importance</th>\n",
       "    </tr>\n",
       "  </thead>\n",
       "  <tbody>\n",
       "    <tr>\n",
       "      <th>Sr87Sr86</th>\n",
       "      <td>11.8</td>\n",
       "    </tr>\n",
       "    <tr>\n",
       "      <th>TiO2</th>\n",
       "      <td>9.8</td>\n",
       "    </tr>\n",
       "    <tr>\n",
       "      <th>Nb</th>\n",
       "      <td>9.0</td>\n",
       "    </tr>\n",
       "    <tr>\n",
       "      <th>Ta</th>\n",
       "      <td>6.8</td>\n",
       "    </tr>\n",
       "    <tr>\n",
       "      <th>Nd143Nd144</th>\n",
       "      <td>6.6</td>\n",
       "    </tr>\n",
       "    <tr>\n",
       "      <th>Sr</th>\n",
       "      <td>5.4</td>\n",
       "    </tr>\n",
       "  </tbody>\n",
       "</table>\n",
       "</div>"
      ],
      "text/plain": [
       "            Importance\n",
       "Sr87Sr86          11.8\n",
       "TiO2               9.8\n",
       "Nb                 9.0\n",
       "Ta                 6.8\n",
       "Nd143Nd144         6.6\n",
       "Sr                 5.4"
      ]
     },
     "execution_count": 14,
     "metadata": {},
     "output_type": "execute_result"
    }
   ],
   "source": [
    "ft_importances = pd.DataFrame(data=np.round(rf.feature_importances_,3), \n",
    "                              columns=['Importance'], index=X.columns\n",
    "                             ).sort_values('Importance', ascending=False) * 100\n",
    "ft_importances[:6]"
   ]
  },
  {
   "cell_type": "markdown",
   "metadata": {
    "slideshow": {
     "slide_type": "slide"
    }
   },
   "source": [
    "### Multinomial Logistic Regressions"
   ]
  },
  {
   "cell_type": "code",
   "execution_count": 15,
   "metadata": {
    "slideshow": {
     "slide_type": "subslide"
    }
   },
   "outputs": [],
   "source": [
    "lr = LogisticRegression(multi_class=\"multinomial\", solver=\"lbfgs\")\n",
    "lr.fit(X_train, y_train);"
   ]
  },
  {
   "cell_type": "code",
   "execution_count": 16,
   "metadata": {
    "slideshow": {
     "slide_type": "fragment"
    }
   },
   "outputs": [
    {
     "data": {
      "text/plain": [
       "'Overall Accuracy: 88.9%'"
      ]
     },
     "execution_count": 16,
     "metadata": {},
     "output_type": "execute_result"
    }
   ],
   "source": [
    "lrscore = lr.score(X_test, y_test)\n",
    "\"Overall Accuracy: {:.1f}%\".format(lrscore*100)"
   ]
  },
  {
   "cell_type": "code",
   "execution_count": 17,
   "metadata": {
    "slideshow": {
     "slide_type": "subslide"
    }
   },
   "outputs": [
    {
     "data": {
      "image/png": "[encoded data removed]",
      "text/plain": [
       "<Figure size 432x288 with 2 Axes>"
      ]
     },
     "metadata": {
      "needs_background": "light"
     },
     "output_type": "display_data"
    }
   ],
   "source": [
    "plot_confusion_matrix(lr, X_test, y_test, normalize=True);"
   ]
  },
  {
   "cell_type": "code",
   "execution_count": 18,
   "metadata": {
    "slideshow": {
     "slide_type": "subslide"
    }
   },
   "outputs": [
    {
     "data": {
      "text/html": [
       "<style  type=\"text/css\" >\n",
       "    #T_2c28f37a_cba1_11e9_bc0a_00216ae618aarow0_col1 {\n",
       "            background-color:  #f6faff;\n",
       "            color:  #000000;\n",
       "        }    #T_2c28f37a_cba1_11e9_bc0a_00216ae618aarow0_col2 {\n",
       "            background-color:  #f7fbff;\n",
       "            color:  #000000;\n",
       "        }    #T_2c28f37a_cba1_11e9_bc0a_00216ae618aarow0_col3 {\n",
       "            background-color:  #f7fbff;\n",
       "            color:  #000000;\n",
       "        }    #T_2c28f37a_cba1_11e9_bc0a_00216ae618aarow0_col4 {\n",
       "            background-color:  #08306b;\n",
       "            color:  #f1f1f1;\n",
       "        }    #T_2c28f37a_cba1_11e9_bc0a_00216ae618aarow0_col5 {\n",
       "            background-color:  #f4f9fe;\n",
       "            color:  #000000;\n",
       "        }    #T_2c28f37a_cba1_11e9_bc0a_00216ae618aarow0_col6 {\n",
       "            background-color:  #f7fbff;\n",
       "            color:  #000000;\n",
       "        }    #T_2c28f37a_cba1_11e9_bc0a_00216ae618aarow0_col7 {\n",
       "            background-color:  #f4f9fe;\n",
       "            color:  #000000;\n",
       "        }    #T_2c28f37a_cba1_11e9_bc0a_00216ae618aarow0_col8 {\n",
       "            background-color:  #e3eef9;\n",
       "            color:  #000000;\n",
       "        }    #T_2c28f37a_cba1_11e9_bc0a_00216ae618aarow1_col1 {\n",
       "            background-color:  #f7fbff;\n",
       "            color:  #000000;\n",
       "        }    #T_2c28f37a_cba1_11e9_bc0a_00216ae618aarow1_col2 {\n",
       "            background-color:  #f7fbff;\n",
       "            color:  #000000;\n",
       "        }    #T_2c28f37a_cba1_11e9_bc0a_00216ae618aarow1_col3 {\n",
       "            background-color:  #f7fbff;\n",
       "            color:  #000000;\n",
       "        }    #T_2c28f37a_cba1_11e9_bc0a_00216ae618aarow1_col4 {\n",
       "            background-color:  #d3e3f3;\n",
       "            color:  #000000;\n",
       "        }    #T_2c28f37a_cba1_11e9_bc0a_00216ae618aarow1_col5 {\n",
       "            background-color:  #f5fafe;\n",
       "            color:  #000000;\n",
       "        }    #T_2c28f37a_cba1_11e9_bc0a_00216ae618aarow1_col6 {\n",
       "            background-color:  #f7fbff;\n",
       "            color:  #000000;\n",
       "        }    #T_2c28f37a_cba1_11e9_bc0a_00216ae618aarow1_col7 {\n",
       "            background-color:  #08306b;\n",
       "            color:  #f1f1f1;\n",
       "        }    #T_2c28f37a_cba1_11e9_bc0a_00216ae618aarow1_col8 {\n",
       "            background-color:  #f6faff;\n",
       "            color:  #000000;\n",
       "        }    #T_2c28f37a_cba1_11e9_bc0a_00216ae618aarow2_col1 {\n",
       "            background-color:  #f3f8fe;\n",
       "            color:  #000000;\n",
       "        }    #T_2c28f37a_cba1_11e9_bc0a_00216ae618aarow2_col2 {\n",
       "            background-color:  #f7fbff;\n",
       "            color:  #000000;\n",
       "        }    #T_2c28f37a_cba1_11e9_bc0a_00216ae618aarow2_col3 {\n",
       "            background-color:  #f7fbff;\n",
       "            color:  #000000;\n",
       "        }    #T_2c28f37a_cba1_11e9_bc0a_00216ae618aarow2_col4 {\n",
       "            background-color:  #f7fbff;\n",
       "            color:  #000000;\n",
       "        }    #T_2c28f37a_cba1_11e9_bc0a_00216ae618aarow2_col5 {\n",
       "            background-color:  #f7fbff;\n",
       "            color:  #000000;\n",
       "        }    #T_2c28f37a_cba1_11e9_bc0a_00216ae618aarow2_col6 {\n",
       "            background-color:  #08306b;\n",
       "            color:  #f1f1f1;\n",
       "        }    #T_2c28f37a_cba1_11e9_bc0a_00216ae618aarow2_col7 {\n",
       "            background-color:  #f7fbff;\n",
       "            color:  #000000;\n",
       "        }    #T_2c28f37a_cba1_11e9_bc0a_00216ae618aarow2_col8 {\n",
       "            background-color:  #f7fbff;\n",
       "            color:  #000000;\n",
       "        }    #T_2c28f37a_cba1_11e9_bc0a_00216ae618aarow3_col1 {\n",
       "            background-color:  #f7fbff;\n",
       "            color:  #000000;\n",
       "        }    #T_2c28f37a_cba1_11e9_bc0a_00216ae618aarow3_col2 {\n",
       "            background-color:  #f7fbff;\n",
       "            color:  #000000;\n",
       "        }    #T_2c28f37a_cba1_11e9_bc0a_00216ae618aarow3_col3 {\n",
       "            background-color:  #f6faff;\n",
       "            color:  #000000;\n",
       "        }    #T_2c28f37a_cba1_11e9_bc0a_00216ae618aarow3_col4 {\n",
       "            background-color:  #f4f9fe;\n",
       "            color:  #000000;\n",
       "        }    #T_2c28f37a_cba1_11e9_bc0a_00216ae618aarow3_col5 {\n",
       "            background-color:  #08306b;\n",
       "            color:  #f1f1f1;\n",
       "        }    #T_2c28f37a_cba1_11e9_bc0a_00216ae618aarow3_col6 {\n",
       "            background-color:  #f7fbff;\n",
       "            color:  #000000;\n",
       "        }    #T_2c28f37a_cba1_11e9_bc0a_00216ae618aarow3_col7 {\n",
       "            background-color:  #f7fbff;\n",
       "            color:  #000000;\n",
       "        }    #T_2c28f37a_cba1_11e9_bc0a_00216ae618aarow3_col8 {\n",
       "            background-color:  #f5f9fe;\n",
       "            color:  #000000;\n",
       "        }    #T_2c28f37a_cba1_11e9_bc0a_00216ae618aarow4_col1 {\n",
       "            background-color:  #f0f6fd;\n",
       "            color:  #000000;\n",
       "        }    #T_2c28f37a_cba1_11e9_bc0a_00216ae618aarow4_col2 {\n",
       "            background-color:  #3484bf;\n",
       "            color:  #000000;\n",
       "        }    #T_2c28f37a_cba1_11e9_bc0a_00216ae618aarow4_col3 {\n",
       "            background-color:  #edf4fc;\n",
       "            color:  #000000;\n",
       "        }    #T_2c28f37a_cba1_11e9_bc0a_00216ae618aarow4_col4 {\n",
       "            background-color:  #c3daee;\n",
       "            color:  #000000;\n",
       "        }    #T_2c28f37a_cba1_11e9_bc0a_00216ae618aarow4_col5 {\n",
       "            background-color:  #9cc9e1;\n",
       "            color:  #000000;\n",
       "        }    #T_2c28f37a_cba1_11e9_bc0a_00216ae618aarow4_col6 {\n",
       "            background-color:  #f7fbff;\n",
       "            color:  #000000;\n",
       "        }    #T_2c28f37a_cba1_11e9_bc0a_00216ae618aarow4_col7 {\n",
       "            background-color:  #08306b;\n",
       "            color:  #f1f1f1;\n",
       "        }    #T_2c28f37a_cba1_11e9_bc0a_00216ae618aarow4_col8 {\n",
       "            background-color:  #3c8cc3;\n",
       "            color:  #000000;\n",
       "        }    #T_2c28f37a_cba1_11e9_bc0a_00216ae618aarow5_col1 {\n",
       "            background-color:  #f7fbff;\n",
       "            color:  #000000;\n",
       "        }    #T_2c28f37a_cba1_11e9_bc0a_00216ae618aarow5_col2 {\n",
       "            background-color:  #f7fbff;\n",
       "            color:  #000000;\n",
       "        }    #T_2c28f37a_cba1_11e9_bc0a_00216ae618aarow5_col3 {\n",
       "            background-color:  #f3f8fe;\n",
       "            color:  #000000;\n",
       "        }    #T_2c28f37a_cba1_11e9_bc0a_00216ae618aarow5_col4 {\n",
       "            background-color:  #08306b;\n",
       "            color:  #f1f1f1;\n",
       "        }    #T_2c28f37a_cba1_11e9_bc0a_00216ae618aarow5_col5 {\n",
       "            background-color:  #dbe9f6;\n",
       "            color:  #000000;\n",
       "        }    #T_2c28f37a_cba1_11e9_bc0a_00216ae618aarow5_col6 {\n",
       "            background-color:  #f7fbff;\n",
       "            color:  #000000;\n",
       "        }    #T_2c28f37a_cba1_11e9_bc0a_00216ae618aarow5_col7 {\n",
       "            background-color:  #eaf3fb;\n",
       "            color:  #000000;\n",
       "        }    #T_2c28f37a_cba1_11e9_bc0a_00216ae618aarow5_col8 {\n",
       "            background-color:  #dce9f6;\n",
       "            color:  #000000;\n",
       "        }    #T_2c28f37a_cba1_11e9_bc0a_00216ae618aarow6_col1 {\n",
       "            background-color:  #f7fbff;\n",
       "            color:  #000000;\n",
       "        }    #T_2c28f37a_cba1_11e9_bc0a_00216ae618aarow6_col2 {\n",
       "            background-color:  #f7fbff;\n",
       "            color:  #000000;\n",
       "        }    #T_2c28f37a_cba1_11e9_bc0a_00216ae618aarow6_col3 {\n",
       "            background-color:  #f7fbff;\n",
       "            color:  #000000;\n",
       "        }    #T_2c28f37a_cba1_11e9_bc0a_00216ae618aarow6_col4 {\n",
       "            background-color:  #549fcd;\n",
       "            color:  #000000;\n",
       "        }    #T_2c28f37a_cba1_11e9_bc0a_00216ae618aarow6_col5 {\n",
       "            background-color:  #e0ecf8;\n",
       "            color:  #000000;\n",
       "        }    #T_2c28f37a_cba1_11e9_bc0a_00216ae618aarow6_col6 {\n",
       "            background-color:  #f7fbff;\n",
       "            color:  #000000;\n",
       "        }    #T_2c28f37a_cba1_11e9_bc0a_00216ae618aarow6_col7 {\n",
       "            background-color:  #08306b;\n",
       "            color:  #f1f1f1;\n",
       "        }    #T_2c28f37a_cba1_11e9_bc0a_00216ae618aarow6_col8 {\n",
       "            background-color:  #f3f8fe;\n",
       "            color:  #000000;\n",
       "        }    #T_2c28f37a_cba1_11e9_bc0a_00216ae618aarow7_col1 {\n",
       "            background-color:  #f7fbff;\n",
       "            color:  #000000;\n",
       "        }    #T_2c28f37a_cba1_11e9_bc0a_00216ae618aarow7_col2 {\n",
       "            background-color:  #08306b;\n",
       "            color:  #f1f1f1;\n",
       "        }    #T_2c28f37a_cba1_11e9_bc0a_00216ae618aarow7_col3 {\n",
       "            background-color:  #f7fbff;\n",
       "            color:  #000000;\n",
       "        }    #T_2c28f37a_cba1_11e9_bc0a_00216ae618aarow7_col4 {\n",
       "            background-color:  #f7fbff;\n",
       "            color:  #000000;\n",
       "        }    #T_2c28f37a_cba1_11e9_bc0a_00216ae618aarow7_col5 {\n",
       "            background-color:  #f7fbff;\n",
       "            color:  #000000;\n",
       "        }    #T_2c28f37a_cba1_11e9_bc0a_00216ae618aarow7_col6 {\n",
       "            background-color:  #f7fbff;\n",
       "            color:  #000000;\n",
       "        }    #T_2c28f37a_cba1_11e9_bc0a_00216ae618aarow7_col7 {\n",
       "            background-color:  #f5fafe;\n",
       "            color:  #000000;\n",
       "        }    #T_2c28f37a_cba1_11e9_bc0a_00216ae618aarow7_col8 {\n",
       "            background-color:  #f7fbff;\n",
       "            color:  #000000;\n",
       "        }</style><table id=\"T_2c28f37a_cba1_11e9_bc0a_00216ae618aa\" ><thead>    <tr>        <th class=\"blank level0\" ></th>        <th class=\"col_heading level0 col0\" >Expect</th>        <th class=\"col_heading level0 col1\" >OP</th>        <th class=\"col_heading level0 col2\" >OI</th>        <th class=\"col_heading level0 col3\" >MOR</th>        <th class=\"col_heading level0 col4\" >IOA</th>        <th class=\"col_heading level0 col5\" >IA</th>        <th class=\"col_heading level0 col6\" >CFB</th>        <th class=\"col_heading level0 col7\" >CA</th>        <th class=\"col_heading level0 col8\" >BAB</th>    </tr></thead><tbody>\n",
       "                <tr>\n",
       "                        <th id=\"T_2c28f37a_cba1_11e9_bc0a_00216ae618aalevel0_row0\" class=\"row_heading level0 row0\" >0</th>\n",
       "                        <td id=\"T_2c28f37a_cba1_11e9_bc0a_00216ae618aarow0_col0\" class=\"data row0 col0\" >IOA</td>\n",
       "                        <td id=\"T_2c28f37a_cba1_11e9_bc0a_00216ae618aarow0_col1\" class=\"data row0 col1\" >0.46</td>\n",
       "                        <td id=\"T_2c28f37a_cba1_11e9_bc0a_00216ae618aarow0_col2\" class=\"data row0 col2\" >0</td>\n",
       "                        <td id=\"T_2c28f37a_cba1_11e9_bc0a_00216ae618aarow0_col3\" class=\"data row0 col3\" >0.29</td>\n",
       "                        <td id=\"T_2c28f37a_cba1_11e9_bc0a_00216ae618aarow0_col4\" class=\"data row0 col4\" >87.29</td>\n",
       "                        <td id=\"T_2c28f37a_cba1_11e9_bc0a_00216ae618aarow0_col5\" class=\"data row0 col5\" >1.67</td>\n",
       "                        <td id=\"T_2c28f37a_cba1_11e9_bc0a_00216ae618aarow0_col6\" class=\"data row0 col6\" >0</td>\n",
       "                        <td id=\"T_2c28f37a_cba1_11e9_bc0a_00216ae618aarow0_col7\" class=\"data row0 col7\" >1.52</td>\n",
       "                        <td id=\"T_2c28f37a_cba1_11e9_bc0a_00216ae618aarow0_col8\" class=\"data row0 col8\" >8.77</td>\n",
       "            </tr>\n",
       "            <tr>\n",
       "                        <th id=\"T_2c28f37a_cba1_11e9_bc0a_00216ae618aalevel0_row1\" class=\"row_heading level0 row1\" >1</th>\n",
       "                        <td id=\"T_2c28f37a_cba1_11e9_bc0a_00216ae618aarow1_col0\" class=\"data row1 col0\" >IOA</td>\n",
       "                        <td id=\"T_2c28f37a_cba1_11e9_bc0a_00216ae618aarow1_col1\" class=\"data row1 col1\" >0</td>\n",
       "                        <td id=\"T_2c28f37a_cba1_11e9_bc0a_00216ae618aarow1_col2\" class=\"data row1 col2\" >0.02</td>\n",
       "                        <td id=\"T_2c28f37a_cba1_11e9_bc0a_00216ae618aarow1_col3\" class=\"data row1 col3\" >0</td>\n",
       "                        <td id=\"T_2c28f37a_cba1_11e9_bc0a_00216ae618aarow1_col4\" class=\"data row1 col4\" >15.45</td>\n",
       "                        <td id=\"T_2c28f37a_cba1_11e9_bc0a_00216ae618aarow1_col5\" class=\"data row1 col5\" >0.77</td>\n",
       "                        <td id=\"T_2c28f37a_cba1_11e9_bc0a_00216ae618aarow1_col6\" class=\"data row1 col6\" >0</td>\n",
       "                        <td id=\"T_2c28f37a_cba1_11e9_bc0a_00216ae618aarow1_col7\" class=\"data row1 col7\" >83.33</td>\n",
       "                        <td id=\"T_2c28f37a_cba1_11e9_bc0a_00216ae618aarow1_col8\" class=\"data row1 col8\" >0.42</td>\n",
       "            </tr>\n",
       "            <tr>\n",
       "                        <th id=\"T_2c28f37a_cba1_11e9_bc0a_00216ae618aalevel0_row2\" class=\"row_heading level0 row2\" >2</th>\n",
       "                        <td id=\"T_2c28f37a_cba1_11e9_bc0a_00216ae618aarow2_col0\" class=\"data row2 col0\" >CFB</td>\n",
       "                        <td id=\"T_2c28f37a_cba1_11e9_bc0a_00216ae618aarow2_col1\" class=\"data row2 col1\" >1.97</td>\n",
       "                        <td id=\"T_2c28f37a_cba1_11e9_bc0a_00216ae618aarow2_col2\" class=\"data row2 col2\" >0.31</td>\n",
       "                        <td id=\"T_2c28f37a_cba1_11e9_bc0a_00216ae618aarow2_col3\" class=\"data row2 col3\" >0.01</td>\n",
       "                        <td id=\"T_2c28f37a_cba1_11e9_bc0a_00216ae618aarow2_col4\" class=\"data row2 col4\" >0</td>\n",
       "                        <td id=\"T_2c28f37a_cba1_11e9_bc0a_00216ae618aarow2_col5\" class=\"data row2 col5\" >0</td>\n",
       "                        <td id=\"T_2c28f37a_cba1_11e9_bc0a_00216ae618aarow2_col6\" class=\"data row2 col6\" >97.69</td>\n",
       "                        <td id=\"T_2c28f37a_cba1_11e9_bc0a_00216ae618aarow2_col7\" class=\"data row2 col7\" >0.02</td>\n",
       "                        <td id=\"T_2c28f37a_cba1_11e9_bc0a_00216ae618aarow2_col8\" class=\"data row2 col8\" >0</td>\n",
       "            </tr>\n",
       "            <tr>\n",
       "                        <th id=\"T_2c28f37a_cba1_11e9_bc0a_00216ae618aalevel0_row3\" class=\"row_heading level0 row3\" >3</th>\n",
       "                        <td id=\"T_2c28f37a_cba1_11e9_bc0a_00216ae618aarow3_col0\" class=\"data row3 col0\" >IA</td>\n",
       "                        <td id=\"T_2c28f37a_cba1_11e9_bc0a_00216ae618aarow3_col1\" class=\"data row3 col1\" >0.3</td>\n",
       "                        <td id=\"T_2c28f37a_cba1_11e9_bc0a_00216ae618aarow3_col2\" class=\"data row3 col2\" >0</td>\n",
       "                        <td id=\"T_2c28f37a_cba1_11e9_bc0a_00216ae618aarow3_col3\" class=\"data row3 col3\" >0.64</td>\n",
       "                        <td id=\"T_2c28f37a_cba1_11e9_bc0a_00216ae618aarow3_col4\" class=\"data row3 col4\" >1.66</td>\n",
       "                        <td id=\"T_2c28f37a_cba1_11e9_bc0a_00216ae618aarow3_col5\" class=\"data row3 col5\" >96.03</td>\n",
       "                        <td id=\"T_2c28f37a_cba1_11e9_bc0a_00216ae618aarow3_col6\" class=\"data row3 col6\" >0.02</td>\n",
       "                        <td id=\"T_2c28f37a_cba1_11e9_bc0a_00216ae618aarow3_col7\" class=\"data row3 col7\" >0.21</td>\n",
       "                        <td id=\"T_2c28f37a_cba1_11e9_bc0a_00216ae618aarow3_col8\" class=\"data row3 col8\" >1.14</td>\n",
       "            </tr>\n",
       "            <tr>\n",
       "                        <th id=\"T_2c28f37a_cba1_11e9_bc0a_00216ae618aalevel0_row4\" class=\"row_heading level0 row4\" >4</th>\n",
       "                        <td id=\"T_2c28f37a_cba1_11e9_bc0a_00216ae618aarow4_col0\" class=\"data row4 col0\" >OI</td>\n",
       "                        <td id=\"T_2c28f37a_cba1_11e9_bc0a_00216ae618aarow4_col1\" class=\"data row4 col1\" >1.32</td>\n",
       "                        <td id=\"T_2c28f37a_cba1_11e9_bc0a_00216ae618aarow4_col2\" class=\"data row4 col2\" >22.05</td>\n",
       "                        <td id=\"T_2c28f37a_cba1_11e9_bc0a_00216ae618aarow4_col3\" class=\"data row4 col3\" >1.86</td>\n",
       "                        <td id=\"T_2c28f37a_cba1_11e9_bc0a_00216ae618aarow4_col4\" class=\"data row4 col4\" >8.56</td>\n",
       "                        <td id=\"T_2c28f37a_cba1_11e9_bc0a_00216ae618aarow4_col5\" class=\"data row4 col5\" >12.44</td>\n",
       "                        <td id=\"T_2c28f37a_cba1_11e9_bc0a_00216ae618aarow4_col6\" class=\"data row4 col6\" >0.13</td>\n",
       "                        <td id=\"T_2c28f37a_cba1_11e9_bc0a_00216ae618aarow4_col7\" class=\"data row4 col7\" >32.56</td>\n",
       "                        <td id=\"T_2c28f37a_cba1_11e9_bc0a_00216ae618aarow4_col8\" class=\"data row4 col8\" >21.08</td>\n",
       "            </tr>\n",
       "            <tr>\n",
       "                        <th id=\"T_2c28f37a_cba1_11e9_bc0a_00216ae618aalevel0_row5\" class=\"row_heading level0 row5\" >5</th>\n",
       "                        <td id=\"T_2c28f37a_cba1_11e9_bc0a_00216ae618aarow5_col0\" class=\"data row5 col0\" >IOA</td>\n",
       "                        <td id=\"T_2c28f37a_cba1_11e9_bc0a_00216ae618aarow5_col1\" class=\"data row5 col1\" >0.13</td>\n",
       "                        <td id=\"T_2c28f37a_cba1_11e9_bc0a_00216ae618aarow5_col2\" class=\"data row5 col2\" >0</td>\n",
       "                        <td id=\"T_2c28f37a_cba1_11e9_bc0a_00216ae618aarow5_col3\" class=\"data row5 col3\" >1.45</td>\n",
       "                        <td id=\"T_2c28f37a_cba1_11e9_bc0a_00216ae618aarow5_col4\" class=\"data row5 col4\" >73.09</td>\n",
       "                        <td id=\"T_2c28f37a_cba1_11e9_bc0a_00216ae618aarow5_col5\" class=\"data row5 col5\" >10.53</td>\n",
       "                        <td id=\"T_2c28f37a_cba1_11e9_bc0a_00216ae618aarow5_col6\" class=\"data row5 col6\" >0</td>\n",
       "                        <td id=\"T_2c28f37a_cba1_11e9_bc0a_00216ae618aarow5_col7\" class=\"data row5 col7\" >4.66</td>\n",
       "                        <td id=\"T_2c28f37a_cba1_11e9_bc0a_00216ae618aarow5_col8\" class=\"data row5 col8\" >10.13</td>\n",
       "            </tr>\n",
       "            <tr>\n",
       "                        <th id=\"T_2c28f37a_cba1_11e9_bc0a_00216ae618aalevel0_row6\" class=\"row_heading level0 row6\" >6</th>\n",
       "                        <td id=\"T_2c28f37a_cba1_11e9_bc0a_00216ae618aarow6_col0\" class=\"data row6 col0\" >CA</td>\n",
       "                        <td id=\"T_2c28f37a_cba1_11e9_bc0a_00216ae618aarow6_col1\" class=\"data row6 col1\" >0</td>\n",
       "                        <td id=\"T_2c28f37a_cba1_11e9_bc0a_00216ae618aarow6_col2\" class=\"data row6 col2\" >0</td>\n",
       "                        <td id=\"T_2c28f37a_cba1_11e9_bc0a_00216ae618aarow6_col3\" class=\"data row6 col3\" >0</td>\n",
       "                        <td id=\"T_2c28f37a_cba1_11e9_bc0a_00216ae618aarow6_col4\" class=\"data row6 col4\" >33.21</td>\n",
       "                        <td id=\"T_2c28f37a_cba1_11e9_bc0a_00216ae618aarow6_col5\" class=\"data row6 col5\" >6.82</td>\n",
       "                        <td id=\"T_2c28f37a_cba1_11e9_bc0a_00216ae618aarow6_col6\" class=\"data row6 col6\" >0</td>\n",
       "                        <td id=\"T_2c28f37a_cba1_11e9_bc0a_00216ae618aarow6_col7\" class=\"data row6 col7\" >58.6</td>\n",
       "                        <td id=\"T_2c28f37a_cba1_11e9_bc0a_00216ae618aarow6_col8\" class=\"data row6 col8\" >1.36</td>\n",
       "            </tr>\n",
       "            <tr>\n",
       "                        <th id=\"T_2c28f37a_cba1_11e9_bc0a_00216ae618aalevel0_row7\" class=\"row_heading level0 row7\" >7</th>\n",
       "                        <td id=\"T_2c28f37a_cba1_11e9_bc0a_00216ae618aarow7_col0\" class=\"data row7 col0\" >OI</td>\n",
       "                        <td id=\"T_2c28f37a_cba1_11e9_bc0a_00216ae618aarow7_col1\" class=\"data row7 col1\" >0.02</td>\n",
       "                        <td id=\"T_2c28f37a_cba1_11e9_bc0a_00216ae618aarow7_col2\" class=\"data row7 col2\" >99.1</td>\n",
       "                        <td id=\"T_2c28f37a_cba1_11e9_bc0a_00216ae618aarow7_col3\" class=\"data row7 col3\" >0.01</td>\n",
       "                        <td id=\"T_2c28f37a_cba1_11e9_bc0a_00216ae618aarow7_col4\" class=\"data row7 col4\" >0</td>\n",
       "                        <td id=\"T_2c28f37a_cba1_11e9_bc0a_00216ae618aarow7_col5\" class=\"data row7 col5\" >0</td>\n",
       "                        <td id=\"T_2c28f37a_cba1_11e9_bc0a_00216ae618aarow7_col6\" class=\"data row7 col6\" >0.06</td>\n",
       "                        <td id=\"T_2c28f37a_cba1_11e9_bc0a_00216ae618aarow7_col7\" class=\"data row7 col7\" >0.8</td>\n",
       "                        <td id=\"T_2c28f37a_cba1_11e9_bc0a_00216ae618aarow7_col8\" class=\"data row7 col8\" >0.02</td>\n",
       "            </tr>\n",
       "    </tbody></table>"
      ],
      "text/plain": [
       "<pandas.io.formats.style.Styler at 0x179c1ef15c0>"
      ]
     },
     "execution_count": 18,
     "metadata": {},
     "output_type": "execute_result"
    }
   ],
   "source": [
    "probs = pd.DataFrame(data=lr.predict_proba(X_test[:8, :]), columns=lr.classes_) * 100\n",
    "probs[\"Expect\"] = y_test[:8].tolist()\n",
    "table = probs[probs.columns[::-1]].round(2)\n",
    "table.style.background_gradient(cmap=\"Blues\", axis=1)"
   ]
  },
  {
   "cell_type": "markdown",
   "metadata": {
    "slideshow": {
     "slide_type": "slide"
    }
   },
   "source": [
    "### An Extended Workflow for Support Vector Classifiers: Gridsearch for Parameter Optimisation"
   ]
  },
  {
   "cell_type": "code",
   "execution_count": 19,
   "metadata": {
    "slideshow": {
     "slide_type": "subslide"
    }
   },
   "outputs": [],
   "source": [
    "preprocessor = PdUnion(\n",
    "    [\n",
    "        make_pipeline(CompositionalSelector(), CLRTransform()),\n",
    "        make_pipeline(CompositionalSelector(inverse=True), LinearTransform()),\n",
    "    ]\n",
    ")\n",
    "XX_ = StandardScaler().fit_transform(preprocessor.fit_transform(X))"
   ]
  },
  {
   "cell_type": "code",
   "execution_count": 20,
   "metadata": {
    "slideshow": {
     "slide_type": "fragment"
    }
   },
   "outputs": [],
   "source": [
    "XX_train, XX_test, yy_train, yy_test = train_test_split(XX_, y, stratify=y, test_size=0.3)"
   ]
  },
  {
   "cell_type": "markdown",
   "metadata": {
    "slideshow": {
     "slide_type": "subslide"
    }
   },
   "source": [
    "We can see how this preprocessing improves our other simple classifiers:"
   ]
  },
  {
   "cell_type": "code",
   "execution_count": 21,
   "metadata": {
    "slideshow": {
     "slide_type": "fragment"
    }
   },
   "outputs": [],
   "source": [
    "lr2 = LogisticRegression(multi_class=\"multinomial\", solver=\"lbfgs\")\n",
    "lr2.fit(XX_train, yy_train)\n",
    "lr2score = lr2.score(XX_test, yy_test) "
   ]
  },
  {
   "cell_type": "code",
   "execution_count": 22,
   "metadata": {
    "slideshow": {
     "slide_type": "fragment"
    }
   },
   "outputs": [],
   "source": [
    "rf2 = RandomForestClassifier()\n",
    "rf2.fit(XX_train, yy_train)\n",
    "rf2score = rf2.score(XX_test, yy_test)"
   ]
  },
  {
   "cell_type": "code",
   "execution_count": 23,
   "metadata": {
    "slideshow": {
     "slide_type": "fragment"
    }
   },
   "outputs": [],
   "source": [
    "svc2 = SVC(kernel='rbf')\n",
    "svc2.fit(XX_train, yy_train)\n",
    "svc2score = svc2.score(XX_test, yy_test)"
   ]
  },
  {
   "cell_type": "markdown",
   "metadata": {
    "slideshow": {
     "slide_type": "subslide"
    }
   },
   "source": [
    "Now we can build an optimised classifier, in this case using a pipeline constructor from pyrolite:"
   ]
  },
  {
   "cell_type": "code",
   "execution_count": 24,
   "metadata": {
    "slideshow": {
     "slide_type": "fragment"
    }
   },
   "outputs": [
    {
     "name": "stdout",
     "output_type": "stream",
     "text": [
      "Fitting 10 folds for each of 25 candidates, totalling 250 fits\n"
     ]
    },
    {
     "name": "stderr",
     "output_type": "stream",
     "text": [
      "[Parallel(n_jobs=4)]: Using backend LokyBackend with 4 concurrent workers.\n",
      "[Parallel(n_jobs=4)]: Done  42 tasks      | elapsed:   15.2s\n",
      "[Parallel(n_jobs=4)]: Done 192 tasks      | elapsed:   40.7s\n",
      "[Parallel(n_jobs=4)]: Done 250 out of 250 | elapsed:   49.4s finished\n"
     ]
    }
   ],
   "source": [
    "gs = SVC_pipeline(verbose=1,\n",
    "                  probability=True,  # Use Platt scaling to give estimates of probabilistic output\n",
    "                  param_grid=dict(\n",
    "                      svc__gamma=np.logspace(-2.3, -0.85, 5),\n",
    "                      svc__C=np.logspace(-0.5, 2, 5),  # limit C parameter to avoid overfitting\n",
    "                  ))\n",
    "gs.fit(XX_train, yy_train);"
   ]
  },
  {
   "cell_type": "code",
   "execution_count": 25,
   "metadata": {
    "slideshow": {
     "slide_type": "fragment"
    }
   },
   "outputs": [
    {
     "data": {
      "text/plain": [
       "'Overall Accuracy: 95.3%'"
      ]
     },
     "execution_count": 25,
     "metadata": {},
     "output_type": "execute_result"
    }
   ],
   "source": [
    "svcgsscore = gs.best_estimator_.score(XX_test, yy_test)\n",
    "\"Overall Accuracy: {:.1f}%\".format(svcgsscore*100)"
   ]
  },
  {
   "cell_type": "code",
   "execution_count": 26,
   "metadata": {
    "slideshow": {
     "slide_type": "subslide"
    }
   },
   "outputs": [
    {
     "data": {
      "image/png": "[encoded data removed]",
      "text/plain": [
       "<Figure size 432x288 with 2 Axes>"
      ]
     },
     "metadata": {
      "needs_background": "light"
     },
     "output_type": "display_data"
    }
   ],
   "source": [
    "plot_confusion_matrix(\n",
    "    gs.best_estimator_, XX_test, yy_test, normalize=True\n",
    ");"
   ]
  },
  {
   "cell_type": "code",
   "execution_count": 27,
   "metadata": {
    "slideshow": {
     "slide_type": "notes"
    }
   },
   "outputs": [
    {
     "data": {
      "image/png": "[encoded data removed]",
      "text/plain": [
       "<Figure size 432x288 with 2 Axes>"
      ]
     },
     "metadata": {
      "needs_background": "light"
     },
     "output_type": "display_data"
    }
   ],
   "source": [
    "from pyrolite.util.plot import save_figure\n",
    "save_figure(plot_confusion_matrix(\n",
    "    gs.best_estimator_, XX_test, yy_test, normalize=True\n",
    ").figure, name='GS_SVC_ConfMatrix', save_fmts=['pdf', 'png'])"
   ]
  },
  {
   "cell_type": "code",
   "execution_count": 28,
   "metadata": {
    "slideshow": {
     "slide_type": "subslide"
    }
   },
   "outputs": [
    {
     "data": {
      "text/html": [
       "<style  type=\"text/css\" >\n",
       "    #T_4df231cc_cba1_11e9_a65d_00216ae618aarow0_col1 {\n",
       "            background-color:  #f7fbff;\n",
       "            color:  #000000;\n",
       "        }    #T_4df231cc_cba1_11e9_a65d_00216ae618aarow0_col2 {\n",
       "            background-color:  #f7fbff;\n",
       "            color:  #000000;\n",
       "        }    #T_4df231cc_cba1_11e9_a65d_00216ae618aarow0_col3 {\n",
       "            background-color:  #f7fbff;\n",
       "            color:  #000000;\n",
       "        }    #T_4df231cc_cba1_11e9_a65d_00216ae618aarow0_col4 {\n",
       "            background-color:  #f7fbff;\n",
       "            color:  #000000;\n",
       "        }    #T_4df231cc_cba1_11e9_a65d_00216ae618aarow0_col5 {\n",
       "            background-color:  #f7fbff;\n",
       "            color:  #000000;\n",
       "        }    #T_4df231cc_cba1_11e9_a65d_00216ae618aarow0_col6 {\n",
       "            background-color:  #f7fbff;\n",
       "            color:  #000000;\n",
       "        }    #T_4df231cc_cba1_11e9_a65d_00216ae618aarow0_col7 {\n",
       "            background-color:  #08306b;\n",
       "            color:  #f1f1f1;\n",
       "        }    #T_4df231cc_cba1_11e9_a65d_00216ae618aarow0_col8 {\n",
       "            background-color:  #f7fbff;\n",
       "            color:  #000000;\n",
       "        }    #T_4df231cc_cba1_11e9_a65d_00216ae618aarow1_col1 {\n",
       "            background-color:  #f7fbff;\n",
       "            color:  #000000;\n",
       "        }    #T_4df231cc_cba1_11e9_a65d_00216ae618aarow1_col2 {\n",
       "            background-color:  #f2f8fd;\n",
       "            color:  #000000;\n",
       "        }    #T_4df231cc_cba1_11e9_a65d_00216ae618aarow1_col3 {\n",
       "            background-color:  #64a9d3;\n",
       "            color:  #000000;\n",
       "        }    #T_4df231cc_cba1_11e9_a65d_00216ae618aarow1_col4 {\n",
       "            background-color:  #f6faff;\n",
       "            color:  #000000;\n",
       "        }    #T_4df231cc_cba1_11e9_a65d_00216ae618aarow1_col5 {\n",
       "            background-color:  #f7fbff;\n",
       "            color:  #000000;\n",
       "        }    #T_4df231cc_cba1_11e9_a65d_00216ae618aarow1_col6 {\n",
       "            background-color:  #08306b;\n",
       "            color:  #f1f1f1;\n",
       "        }    #T_4df231cc_cba1_11e9_a65d_00216ae618aarow1_col7 {\n",
       "            background-color:  #f4f9fe;\n",
       "            color:  #000000;\n",
       "        }    #T_4df231cc_cba1_11e9_a65d_00216ae618aarow1_col8 {\n",
       "            background-color:  #e2edf8;\n",
       "            color:  #000000;\n",
       "        }    #T_4df231cc_cba1_11e9_a65d_00216ae618aarow2_col1 {\n",
       "            background-color:  #f0f6fd;\n",
       "            color:  #000000;\n",
       "        }    #T_4df231cc_cba1_11e9_a65d_00216ae618aarow2_col2 {\n",
       "            background-color:  #eef5fc;\n",
       "            color:  #000000;\n",
       "        }    #T_4df231cc_cba1_11e9_a65d_00216ae618aarow2_col3 {\n",
       "            background-color:  #f7fbff;\n",
       "            color:  #000000;\n",
       "        }    #T_4df231cc_cba1_11e9_a65d_00216ae618aarow2_col4 {\n",
       "            background-color:  #d7e6f5;\n",
       "            color:  #000000;\n",
       "        }    #T_4df231cc_cba1_11e9_a65d_00216ae618aarow2_col5 {\n",
       "            background-color:  #08306b;\n",
       "            color:  #f1f1f1;\n",
       "        }    #T_4df231cc_cba1_11e9_a65d_00216ae618aarow2_col6 {\n",
       "            background-color:  #f0f6fd;\n",
       "            color:  #000000;\n",
       "        }    #T_4df231cc_cba1_11e9_a65d_00216ae618aarow2_col7 {\n",
       "            background-color:  #083c7d;\n",
       "            color:  #f1f1f1;\n",
       "        }    #T_4df231cc_cba1_11e9_a65d_00216ae618aarow2_col8 {\n",
       "            background-color:  #f4f9fe;\n",
       "            color:  #000000;\n",
       "        }    #T_4df231cc_cba1_11e9_a65d_00216ae618aarow3_col1 {\n",
       "            background-color:  #f7fbff;\n",
       "            color:  #000000;\n",
       "        }    #T_4df231cc_cba1_11e9_a65d_00216ae618aarow3_col2 {\n",
       "            background-color:  #08306b;\n",
       "            color:  #f1f1f1;\n",
       "        }    #T_4df231cc_cba1_11e9_a65d_00216ae618aarow3_col3 {\n",
       "            background-color:  #f7fbff;\n",
       "            color:  #000000;\n",
       "        }    #T_4df231cc_cba1_11e9_a65d_00216ae618aarow3_col4 {\n",
       "            background-color:  #f7fbff;\n",
       "            color:  #000000;\n",
       "        }    #T_4df231cc_cba1_11e9_a65d_00216ae618aarow3_col5 {\n",
       "            background-color:  #f7fbff;\n",
       "            color:  #000000;\n",
       "        }    #T_4df231cc_cba1_11e9_a65d_00216ae618aarow3_col6 {\n",
       "            background-color:  #f7fbff;\n",
       "            color:  #000000;\n",
       "        }    #T_4df231cc_cba1_11e9_a65d_00216ae618aarow3_col7 {\n",
       "            background-color:  #f7fbff;\n",
       "            color:  #000000;\n",
       "        }    #T_4df231cc_cba1_11e9_a65d_00216ae618aarow3_col8 {\n",
       "            background-color:  #f7fbff;\n",
       "            color:  #000000;\n",
       "        }    #T_4df231cc_cba1_11e9_a65d_00216ae618aarow4_col1 {\n",
       "            background-color:  #f7fbff;\n",
       "            color:  #000000;\n",
       "        }    #T_4df231cc_cba1_11e9_a65d_00216ae618aarow4_col2 {\n",
       "            background-color:  #f7fbff;\n",
       "            color:  #000000;\n",
       "        }    #T_4df231cc_cba1_11e9_a65d_00216ae618aarow4_col3 {\n",
       "            background-color:  #f7fbff;\n",
       "            color:  #000000;\n",
       "        }    #T_4df231cc_cba1_11e9_a65d_00216ae618aarow4_col4 {\n",
       "            background-color:  #f1f7fd;\n",
       "            color:  #000000;\n",
       "        }    #T_4df231cc_cba1_11e9_a65d_00216ae618aarow4_col5 {\n",
       "            background-color:  #f6faff;\n",
       "            color:  #000000;\n",
       "        }    #T_4df231cc_cba1_11e9_a65d_00216ae618aarow4_col6 {\n",
       "            background-color:  #f7fbff;\n",
       "            color:  #000000;\n",
       "        }    #T_4df231cc_cba1_11e9_a65d_00216ae618aarow4_col7 {\n",
       "            background-color:  #08306b;\n",
       "            color:  #f1f1f1;\n",
       "        }    #T_4df231cc_cba1_11e9_a65d_00216ae618aarow4_col8 {\n",
       "            background-color:  #f5fafe;\n",
       "            color:  #000000;\n",
       "        }    #T_4df231cc_cba1_11e9_a65d_00216ae618aarow5_col1 {\n",
       "            background-color:  #f7fbff;\n",
       "            color:  #000000;\n",
       "        }    #T_4df231cc_cba1_11e9_a65d_00216ae618aarow5_col2 {\n",
       "            background-color:  #f7fbff;\n",
       "            color:  #000000;\n",
       "        }    #T_4df231cc_cba1_11e9_a65d_00216ae618aarow5_col3 {\n",
       "            background-color:  #f7fbff;\n",
       "            color:  #000000;\n",
       "        }    #T_4df231cc_cba1_11e9_a65d_00216ae618aarow5_col4 {\n",
       "            background-color:  #08306b;\n",
       "            color:  #f1f1f1;\n",
       "        }    #T_4df231cc_cba1_11e9_a65d_00216ae618aarow5_col5 {\n",
       "            background-color:  #f5fafe;\n",
       "            color:  #000000;\n",
       "        }    #T_4df231cc_cba1_11e9_a65d_00216ae618aarow5_col6 {\n",
       "            background-color:  #f7fbff;\n",
       "            color:  #000000;\n",
       "        }    #T_4df231cc_cba1_11e9_a65d_00216ae618aarow5_col7 {\n",
       "            background-color:  #f5f9fe;\n",
       "            color:  #000000;\n",
       "        }    #T_4df231cc_cba1_11e9_a65d_00216ae618aarow5_col8 {\n",
       "            background-color:  #f6faff;\n",
       "            color:  #000000;\n",
       "        }    #T_4df231cc_cba1_11e9_a65d_00216ae618aarow6_col1 {\n",
       "            background-color:  #f3f8fe;\n",
       "            color:  #000000;\n",
       "        }    #T_4df231cc_cba1_11e9_a65d_00216ae618aarow6_col2 {\n",
       "            background-color:  #f5fafe;\n",
       "            color:  #000000;\n",
       "        }    #T_4df231cc_cba1_11e9_a65d_00216ae618aarow6_col3 {\n",
       "            background-color:  #f7fbff;\n",
       "            color:  #000000;\n",
       "        }    #T_4df231cc_cba1_11e9_a65d_00216ae618aarow6_col4 {\n",
       "            background-color:  #f3f8fe;\n",
       "            color:  #000000;\n",
       "        }    #T_4df231cc_cba1_11e9_a65d_00216ae618aarow6_col5 {\n",
       "            background-color:  #f7fbff;\n",
       "            color:  #000000;\n",
       "        }    #T_4df231cc_cba1_11e9_a65d_00216ae618aarow6_col6 {\n",
       "            background-color:  #08306b;\n",
       "            color:  #f1f1f1;\n",
       "        }    #T_4df231cc_cba1_11e9_a65d_00216ae618aarow6_col7 {\n",
       "            background-color:  #f6faff;\n",
       "            color:  #000000;\n",
       "        }    #T_4df231cc_cba1_11e9_a65d_00216ae618aarow6_col8 {\n",
       "            background-color:  #f5fafe;\n",
       "            color:  #000000;\n",
       "        }    #T_4df231cc_cba1_11e9_a65d_00216ae618aarow7_col1 {\n",
       "            background-color:  #f6faff;\n",
       "            color:  #000000;\n",
       "        }    #T_4df231cc_cba1_11e9_a65d_00216ae618aarow7_col2 {\n",
       "            background-color:  #f7fbff;\n",
       "            color:  #000000;\n",
       "        }    #T_4df231cc_cba1_11e9_a65d_00216ae618aarow7_col3 {\n",
       "            background-color:  #f5fafe;\n",
       "            color:  #000000;\n",
       "        }    #T_4df231cc_cba1_11e9_a65d_00216ae618aarow7_col4 {\n",
       "            background-color:  #e1edf8;\n",
       "            color:  #000000;\n",
       "        }    #T_4df231cc_cba1_11e9_a65d_00216ae618aarow7_col5 {\n",
       "            background-color:  #08306b;\n",
       "            color:  #f1f1f1;\n",
       "        }    #T_4df231cc_cba1_11e9_a65d_00216ae618aarow7_col6 {\n",
       "            background-color:  #f7fbff;\n",
       "            color:  #000000;\n",
       "        }    #T_4df231cc_cba1_11e9_a65d_00216ae618aarow7_col7 {\n",
       "            background-color:  #f7fbff;\n",
       "            color:  #000000;\n",
       "        }    #T_4df231cc_cba1_11e9_a65d_00216ae618aarow7_col8 {\n",
       "            background-color:  #cfe1f2;\n",
       "            color:  #000000;\n",
       "        }</style><table id=\"T_4df231cc_cba1_11e9_a65d_00216ae618aa\" ><thead>    <tr>        <th class=\"blank level0\" ></th>        <th class=\"col_heading level0 col0\" >Expect</th>        <th class=\"col_heading level0 col1\" >OP</th>        <th class=\"col_heading level0 col2\" >OI</th>        <th class=\"col_heading level0 col3\" >MOR</th>        <th class=\"col_heading level0 col4\" >IOA</th>        <th class=\"col_heading level0 col5\" >IA</th>        <th class=\"col_heading level0 col6\" >CFB</th>        <th class=\"col_heading level0 col7\" >CA</th>        <th class=\"col_heading level0 col8\" >BAB</th>    </tr></thead><tbody>\n",
       "                <tr>\n",
       "                        <th id=\"T_4df231cc_cba1_11e9_a65d_00216ae618aalevel0_row0\" class=\"row_heading level0 row0\" >0</th>\n",
       "                        <td id=\"T_4df231cc_cba1_11e9_a65d_00216ae618aarow0_col0\" class=\"data row0 col0\" >CA</td>\n",
       "                        <td id=\"T_4df231cc_cba1_11e9_a65d_00216ae618aarow0_col1\" class=\"data row0 col1\" >0.02</td>\n",
       "                        <td id=\"T_4df231cc_cba1_11e9_a65d_00216ae618aarow0_col2\" class=\"data row0 col2\" >0</td>\n",
       "                        <td id=\"T_4df231cc_cba1_11e9_a65d_00216ae618aarow0_col3\" class=\"data row0 col3\" >0</td>\n",
       "                        <td id=\"T_4df231cc_cba1_11e9_a65d_00216ae618aarow0_col4\" class=\"data row0 col4\" >0.29</td>\n",
       "                        <td id=\"T_4df231cc_cba1_11e9_a65d_00216ae618aarow0_col5\" class=\"data row0 col5\" >0.03</td>\n",
       "                        <td id=\"T_4df231cc_cba1_11e9_a65d_00216ae618aarow0_col6\" class=\"data row0 col6\" >0.01</td>\n",
       "                        <td id=\"T_4df231cc_cba1_11e9_a65d_00216ae618aarow0_col7\" class=\"data row0 col7\" >99.59</td>\n",
       "                        <td id=\"T_4df231cc_cba1_11e9_a65d_00216ae618aarow0_col8\" class=\"data row0 col8\" >0.07</td>\n",
       "            </tr>\n",
       "            <tr>\n",
       "                        <th id=\"T_4df231cc_cba1_11e9_a65d_00216ae618aalevel0_row1\" class=\"row_heading level0 row1\" >1</th>\n",
       "                        <td id=\"T_4df231cc_cba1_11e9_a65d_00216ae618aarow1_col0\" class=\"data row1 col0\" >CFB</td>\n",
       "                        <td id=\"T_4df231cc_cba1_11e9_a65d_00216ae618aarow1_col1\" class=\"data row1 col1\" >0.38</td>\n",
       "                        <td id=\"T_4df231cc_cba1_11e9_a65d_00216ae618aarow1_col2\" class=\"data row1 col2\" >1.79</td>\n",
       "                        <td id=\"T_4df231cc_cba1_11e9_a65d_00216ae618aarow1_col3\" class=\"data row1 col3\" >30.51</td>\n",
       "                        <td id=\"T_4df231cc_cba1_11e9_a65d_00216ae618aarow1_col4\" class=\"data row1 col4\" >0.75</td>\n",
       "                        <td id=\"T_4df231cc_cba1_11e9_a65d_00216ae618aarow1_col5\" class=\"data row1 col5\" >0.49</td>\n",
       "                        <td id=\"T_4df231cc_cba1_11e9_a65d_00216ae618aarow1_col6\" class=\"data row1 col6\" >58.13</td>\n",
       "                        <td id=\"T_4df231cc_cba1_11e9_a65d_00216ae618aarow1_col7\" class=\"data row1 col7\" >1.41</td>\n",
       "                        <td id=\"T_4df231cc_cba1_11e9_a65d_00216ae618aarow1_col8\" class=\"data row1 col8\" >6.54</td>\n",
       "            </tr>\n",
       "            <tr>\n",
       "                        <th id=\"T_4df231cc_cba1_11e9_a65d_00216ae618aalevel0_row2\" class=\"row_heading level0 row2\" >2</th>\n",
       "                        <td id=\"T_4df231cc_cba1_11e9_a65d_00216ae618aarow2_col0\" class=\"data row2 col0\" >IA</td>\n",
       "                        <td id=\"T_4df231cc_cba1_11e9_a65d_00216ae618aarow2_col1\" class=\"data row2 col1\" >2.38</td>\n",
       "                        <td id=\"T_4df231cc_cba1_11e9_a65d_00216ae618aarow2_col2\" class=\"data row2 col2\" >2.69</td>\n",
       "                        <td id=\"T_4df231cc_cba1_11e9_a65d_00216ae618aarow2_col3\" class=\"data row2 col3\" >0.85</td>\n",
       "                        <td id=\"T_4df231cc_cba1_11e9_a65d_00216ae618aarow2_col4\" class=\"data row2 col4\" >7.64</td>\n",
       "                        <td id=\"T_4df231cc_cba1_11e9_a65d_00216ae618aarow2_col5\" class=\"data row2 col5\" >42.29</td>\n",
       "                        <td id=\"T_4df231cc_cba1_11e9_a65d_00216ae618aarow2_col6\" class=\"data row2 col6\" >2.42</td>\n",
       "                        <td id=\"T_4df231cc_cba1_11e9_a65d_00216ae618aarow2_col7\" class=\"data row2 col7\" >40.2</td>\n",
       "                        <td id=\"T_4df231cc_cba1_11e9_a65d_00216ae618aarow2_col8\" class=\"data row2 col8\" >1.53</td>\n",
       "            </tr>\n",
       "            <tr>\n",
       "                        <th id=\"T_4df231cc_cba1_11e9_a65d_00216ae618aalevel0_row3\" class=\"row_heading level0 row3\" >3</th>\n",
       "                        <td id=\"T_4df231cc_cba1_11e9_a65d_00216ae618aarow3_col0\" class=\"data row3 col0\" >OI</td>\n",
       "                        <td id=\"T_4df231cc_cba1_11e9_a65d_00216ae618aarow3_col1\" class=\"data row3 col1\" >0.04</td>\n",
       "                        <td id=\"T_4df231cc_cba1_11e9_a65d_00216ae618aarow3_col2\" class=\"data row3 col2\" >99.8</td>\n",
       "                        <td id=\"T_4df231cc_cba1_11e9_a65d_00216ae618aarow3_col3\" class=\"data row3 col3\" >0.02</td>\n",
       "                        <td id=\"T_4df231cc_cba1_11e9_a65d_00216ae618aarow3_col4\" class=\"data row3 col4\" >0.04</td>\n",
       "                        <td id=\"T_4df231cc_cba1_11e9_a65d_00216ae618aarow3_col5\" class=\"data row3 col5\" >0.04</td>\n",
       "                        <td id=\"T_4df231cc_cba1_11e9_a65d_00216ae618aarow3_col6\" class=\"data row3 col6\" >0.03</td>\n",
       "                        <td id=\"T_4df231cc_cba1_11e9_a65d_00216ae618aarow3_col7\" class=\"data row3 col7\" >0.01</td>\n",
       "                        <td id=\"T_4df231cc_cba1_11e9_a65d_00216ae618aarow3_col8\" class=\"data row3 col8\" >0.02</td>\n",
       "            </tr>\n",
       "            <tr>\n",
       "                        <th id=\"T_4df231cc_cba1_11e9_a65d_00216ae618aalevel0_row4\" class=\"row_heading level0 row4\" >4</th>\n",
       "                        <td id=\"T_4df231cc_cba1_11e9_a65d_00216ae618aarow4_col0\" class=\"data row4 col0\" >CA</td>\n",
       "                        <td id=\"T_4df231cc_cba1_11e9_a65d_00216ae618aarow4_col1\" class=\"data row4 col1\" >0.08</td>\n",
       "                        <td id=\"T_4df231cc_cba1_11e9_a65d_00216ae618aarow4_col2\" class=\"data row4 col2\" >0.08</td>\n",
       "                        <td id=\"T_4df231cc_cba1_11e9_a65d_00216ae618aarow4_col3\" class=\"data row4 col3\" >0.02</td>\n",
       "                        <td id=\"T_4df231cc_cba1_11e9_a65d_00216ae618aarow4_col4\" class=\"data row4 col4\" >3.33</td>\n",
       "                        <td id=\"T_4df231cc_cba1_11e9_a65d_00216ae618aarow4_col5\" class=\"data row4 col5\" >0.68</td>\n",
       "                        <td id=\"T_4df231cc_cba1_11e9_a65d_00216ae618aarow4_col6\" class=\"data row4 col6\" >0.11</td>\n",
       "                        <td id=\"T_4df231cc_cba1_11e9_a65d_00216ae618aarow4_col7\" class=\"data row4 col7\" >94.62</td>\n",
       "                        <td id=\"T_4df231cc_cba1_11e9_a65d_00216ae618aarow4_col8\" class=\"data row4 col8\" >1.09</td>\n",
       "            </tr>\n",
       "            <tr>\n",
       "                        <th id=\"T_4df231cc_cba1_11e9_a65d_00216ae618aalevel0_row5\" class=\"row_heading level0 row5\" >5</th>\n",
       "                        <td id=\"T_4df231cc_cba1_11e9_a65d_00216ae618aarow5_col0\" class=\"data row5 col0\" >IOA</td>\n",
       "                        <td id=\"T_4df231cc_cba1_11e9_a65d_00216ae618aarow5_col1\" class=\"data row5 col1\" >0.15</td>\n",
       "                        <td id=\"T_4df231cc_cba1_11e9_a65d_00216ae618aarow5_col2\" class=\"data row5 col2\" >0.06</td>\n",
       "                        <td id=\"T_4df231cc_cba1_11e9_a65d_00216ae618aarow5_col3\" class=\"data row5 col3\" >0.08</td>\n",
       "                        <td id=\"T_4df231cc_cba1_11e9_a65d_00216ae618aarow5_col4\" class=\"data row5 col4\" >96.53</td>\n",
       "                        <td id=\"T_4df231cc_cba1_11e9_a65d_00216ae618aarow5_col5\" class=\"data row5 col5\" >1.01</td>\n",
       "                        <td id=\"T_4df231cc_cba1_11e9_a65d_00216ae618aarow5_col6\" class=\"data row5 col6\" >0.22</td>\n",
       "                        <td id=\"T_4df231cc_cba1_11e9_a65d_00216ae618aarow5_col7\" class=\"data row5 col7\" >1.4</td>\n",
       "                        <td id=\"T_4df231cc_cba1_11e9_a65d_00216ae618aarow5_col8\" class=\"data row5 col8\" >0.56</td>\n",
       "            </tr>\n",
       "            <tr>\n",
       "                        <th id=\"T_4df231cc_cba1_11e9_a65d_00216ae618aalevel0_row6\" class=\"row_heading level0 row6\" >6</th>\n",
       "                        <td id=\"T_4df231cc_cba1_11e9_a65d_00216ae618aarow6_col0\" class=\"data row6 col0\" >CFB</td>\n",
       "                        <td id=\"T_4df231cc_cba1_11e9_a65d_00216ae618aarow6_col1\" class=\"data row6 col1\" >2.39</td>\n",
       "                        <td id=\"T_4df231cc_cba1_11e9_a65d_00216ae618aarow6_col2\" class=\"data row6 col2\" >1.39</td>\n",
       "                        <td id=\"T_4df231cc_cba1_11e9_a65d_00216ae618aarow6_col3\" class=\"data row6 col3\" >0.45</td>\n",
       "                        <td id=\"T_4df231cc_cba1_11e9_a65d_00216ae618aarow6_col4\" class=\"data row6 col4\" >2.26</td>\n",
       "                        <td id=\"T_4df231cc_cba1_11e9_a65d_00216ae618aarow6_col5\" class=\"data row6 col5\" >0.63</td>\n",
       "                        <td id=\"T_4df231cc_cba1_11e9_a65d_00216ae618aarow6_col6\" class=\"data row6 col6\" >90.44</td>\n",
       "                        <td id=\"T_4df231cc_cba1_11e9_a65d_00216ae618aarow6_col7\" class=\"data row6 col7\" >1</td>\n",
       "                        <td id=\"T_4df231cc_cba1_11e9_a65d_00216ae618aarow6_col8\" class=\"data row6 col8\" >1.44</td>\n",
       "            </tr>\n",
       "            <tr>\n",
       "                        <th id=\"T_4df231cc_cba1_11e9_a65d_00216ae618aalevel0_row7\" class=\"row_heading level0 row7\" >7</th>\n",
       "                        <td id=\"T_4df231cc_cba1_11e9_a65d_00216ae618aarow7_col0\" class=\"data row7 col0\" >IA</td>\n",
       "                        <td id=\"T_4df231cc_cba1_11e9_a65d_00216ae618aarow7_col1\" class=\"data row7 col1\" >0.57</td>\n",
       "                        <td id=\"T_4df231cc_cba1_11e9_a65d_00216ae618aarow7_col2\" class=\"data row7 col2\" >0.17</td>\n",
       "                        <td id=\"T_4df231cc_cba1_11e9_a65d_00216ae618aarow7_col3\" class=\"data row7 col3\" >0.94</td>\n",
       "                        <td id=\"T_4df231cc_cba1_11e9_a65d_00216ae618aarow7_col4\" class=\"data row7 col4\" >8.27</td>\n",
       "                        <td id=\"T_4df231cc_cba1_11e9_a65d_00216ae618aarow7_col5\" class=\"data row7 col5\" >74.11</td>\n",
       "                        <td id=\"T_4df231cc_cba1_11e9_a65d_00216ae618aarow7_col6\" class=\"data row7 col6\" >0.2</td>\n",
       "                        <td id=\"T_4df231cc_cba1_11e9_a65d_00216ae618aarow7_col7\" class=\"data row7 col7\" >0.44</td>\n",
       "                        <td id=\"T_4df231cc_cba1_11e9_a65d_00216ae618aarow7_col8\" class=\"data row7 col8\" >15.3</td>\n",
       "            </tr>\n",
       "    </tbody></table>"
      ],
      "text/plain": [
       "<pandas.io.formats.style.Styler at 0x179c2097240>"
      ]
     },
     "execution_count": 28,
     "metadata": {},
     "output_type": "execute_result"
    }
   ],
   "source": [
    "probs = (\n",
    "    pd.DataFrame(\n",
    "        data=gs.best_estimator_.predict_proba(XX_test[:8]),\n",
    "        columns=gs.best_estimator_.classes_,\n",
    "    )\n",
    "    * 100\n",
    ")\n",
    "probs[\"Expect\"] = yy_test[:8].tolist()\n",
    "table = probs[probs.columns[::-1]].round(2)\n",
    "table.style.background_gradient(cmap=\"Blues\", axis=1)"
   ]
  },
  {
   "cell_type": "code",
   "execution_count": 29,
   "metadata": {
    "slideshow": {
     "slide_type": "subslide"
    }
   },
   "outputs": [
    {
     "data": {
      "text/html": [
       "<style  type=\"text/css\" >\n",
       "    #T_4dfd5bc0_cba1_11e9_9d35_00216ae618aarow0_col0 {\n",
       "            background-color:  #f7fcf5;\n",
       "            color:  #000000;\n",
       "        }    #T_4dfd5bc0_cba1_11e9_9d35_00216ae618aarow0_col1 {\n",
       "            background-color:  #f7fcf5;\n",
       "            color:  #000000;\n",
       "        }    #T_4dfd5bc0_cba1_11e9_9d35_00216ae618aarow0_col2 {\n",
       "            background-color:  #f7fcf5;\n",
       "            color:  #000000;\n",
       "        }    #T_4dfd5bc0_cba1_11e9_9d35_00216ae618aarow1_col0 {\n",
       "            background-color:  #f7fcf5;\n",
       "            color:  #000000;\n",
       "        }    #T_4dfd5bc0_cba1_11e9_9d35_00216ae618aarow1_col1 {\n",
       "            background-color:  #f7fcf5;\n",
       "            color:  #000000;\n",
       "        }    #T_4dfd5bc0_cba1_11e9_9d35_00216ae618aarow1_col2 {\n",
       "            background-color:  #f7fcf5;\n",
       "            color:  #000000;\n",
       "        }    #T_4dfd5bc0_cba1_11e9_9d35_00216ae618aarow2_col0 {\n",
       "            background-color:  #f7fcf5;\n",
       "            color:  #000000;\n",
       "        }    #T_4dfd5bc0_cba1_11e9_9d35_00216ae618aarow2_col1 {\n",
       "            background-color:  #f7fcf5;\n",
       "            color:  #000000;\n",
       "        }    #T_4dfd5bc0_cba1_11e9_9d35_00216ae618aarow2_col2 {\n",
       "            background-color:  #f7fcf5;\n",
       "            color:  #000000;\n",
       "        }</style><table id=\"T_4dfd5bc0_cba1_11e9_9d35_00216ae618aa\" ><thead>    <tr>        <th class=\"blank level0\" ></th>        <th class=\"col_heading level0 col0\" >Start</th>        <th class=\"col_heading level0 col1\" >With CLR</th>        <th class=\"col_heading level0 col2\" >GridSearch</th>    </tr></thead><tbody>\n",
       "                <tr>\n",
       "                        <th id=\"T_4dfd5bc0_cba1_11e9_9d35_00216ae618aalevel0_row0\" class=\"row_heading level0 row0\" >SVC</th>\n",
       "                        <td id=\"T_4dfd5bc0_cba1_11e9_9d35_00216ae618aarow0_col0\" class=\"data row0 col0\" >88.4%</td>\n",
       "                        <td id=\"T_4dfd5bc0_cba1_11e9_9d35_00216ae618aarow0_col1\" class=\"data row0 col1\" >90.5%</td>\n",
       "                        <td id=\"T_4dfd5bc0_cba1_11e9_9d35_00216ae618aarow0_col2\" class=\"data row0 col2\" >95.3%</td>\n",
       "            </tr>\n",
       "            <tr>\n",
       "                        <th id=\"T_4dfd5bc0_cba1_11e9_9d35_00216ae618aalevel0_row1\" class=\"row_heading level0 row1\" >RandomForest</th>\n",
       "                        <td id=\"T_4dfd5bc0_cba1_11e9_9d35_00216ae618aarow1_col0\" class=\"data row1 col0\" >81.7%</td>\n",
       "                        <td id=\"T_4dfd5bc0_cba1_11e9_9d35_00216ae618aarow1_col1\" class=\"data row1 col1\" >88.6%</td>\n",
       "                        <td id=\"T_4dfd5bc0_cba1_11e9_9d35_00216ae618aarow1_col2\" class=\"data row1 col2\" ></td>\n",
       "            </tr>\n",
       "            <tr>\n",
       "                        <th id=\"T_4dfd5bc0_cba1_11e9_9d35_00216ae618aalevel0_row2\" class=\"row_heading level0 row2\" >Logist.Reg.</th>\n",
       "                        <td id=\"T_4dfd5bc0_cba1_11e9_9d35_00216ae618aarow2_col0\" class=\"data row2 col0\" >88.9%</td>\n",
       "                        <td id=\"T_4dfd5bc0_cba1_11e9_9d35_00216ae618aarow2_col1\" class=\"data row2 col1\" >88.8%</td>\n",
       "                        <td id=\"T_4dfd5bc0_cba1_11e9_9d35_00216ae618aarow2_col2\" class=\"data row2 col2\" ></td>\n",
       "            </tr>\n",
       "    </tbody></table>"
      ],
      "text/plain": [
       "<pandas.io.formats.style.Styler at 0x179c2097fd0>"
      ]
     },
     "execution_count": 29,
     "metadata": {},
     "output_type": "execute_result"
    }
   ],
   "source": [
    "scores = [(svcscore, svc2score, svcgsscore), \n",
    "                               (rfscore, rf2score, np.nan), \n",
    "                               (lrscore, lr2score, np.nan)]\n",
    "results = pd.DataFrame(data = scores, \n",
    "                       columns=['Start', \"With CLR\", 'GridSearch'], \n",
    "                       index = ['SVC', 'RandomForest', 'Logist.Reg.']\n",
    "                      ).round(3) *100\n",
    "results.style.format(lambda x: \"{:.1f}%\".format(x) if not np.isnan(x) else \"\"\n",
    "                    ).background_gradient(cmap=\"Greens\",\n",
    "                                          low=0, \n",
    "                                          high=1, \n",
    "                                          axis=None)"
   ]
  }
 ],
 "metadata": {
  "celltoolbar": "Slideshow",
  "kernelspec": {
   "display_name": "Python 3",
   "language": "python",
   "name": "python3"
  },
  "language_info": {
   "codemirror_mode": {
    "name": "ipython",
    "version": 3
   },
   "file_extension": ".py",
   "mimetype": "text/x-python",
   "name": "python",
   "nbconvert_exporter": "python",
   "pygments_lexer": "ipython3",
   "version": "3.6.7"
  },
  "rise": {
   "autolaunch": true,
   "scroll": true,
   "theme": "solarized"
  }
 },
 "nbformat": 4,
 "nbformat_minor": 2
}
