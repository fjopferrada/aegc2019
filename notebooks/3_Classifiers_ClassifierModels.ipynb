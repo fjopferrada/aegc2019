{
 "cells": [
  {
   "cell_type": "markdown",
   "metadata": {
    "slideshow": {
     "slide_type": "slide"
    }
   },
   "source": [
    "## Building Classifier Models: Getting Started & Assessing Performance\n",
    " \n",
    "**Data** [Compositional Data](2_Data_CompositionalData.ipynb) | [Lambdas](2_Data_Lambdas.ipynb) **Classifiers** [Building Models](3_Classifiers_ClassifierModels.ipynb) | [Feature Selection](3_Classifiers_Features.ipynb) **Visualisation**  [Entropy](4_Vis_Entropy.ipynb) | [Manifolds](4_Vis_Manifolds.ipynb) **pyrolite** [Overview](6_pyrolite.ipynb) **GitHub** [AEGC2019](https://github.com/morganjwilliams/aegc2019) | [pyrolite](https://github.com/morganjwilliams/pyrolite)\n",
    "\n"
   ]
  },
  {
   "cell_type": "markdown",
   "metadata": {
    "slideshow": {
     "slide_type": "subslide"
    }
   },
   "source": [
    "This notebook introduces some of the classifier models which have been used previously for geochemical tectonic discrimination, and provides minimal working examples for building a working model. "
   ]
  },
  {
   "cell_type": "markdown",
   "metadata": {
    "slideshow": {
     "slide_type": "subslide"
    }
   },
   "source": [
    "Clasification models used for tectonic discrimination using bulk-rock geochemical data include support vector classifiers, random forests and sparse multinomial regression ([Petrelli2016], [Ueki2018]). Here we'll rebuild some of these classifiers, working from the simplest possible implementations through to optimised classifiers ready to be put to work.\n",
    "\n",
    "[Petrelli2016]: https://doi.org/10.1007/s00410-016-1292-2 \"Petrelli, M., Perugini, D., 2016. Solving petrological problems through machine learning: the study case of tectonic discrimination using geochemical and isotopic data. Contrib Mineral Petrol 171, 81.\"\n",
    "[Ueki2018]: https://doi.org/10.1029/2017GC007401 \"Ueki, K., Hino, H., Kuwatani, T., 2018. Geochemical Discrimination and Characteristics of Magmatic Tectonic Settings: A Machine-Learning-Based Approach. Geochemistry, Geophysics, Geosystems 19, 1327–1347.\""
   ]
  },
  {
   "cell_type": "markdown",
   "metadata": {
    "slideshow": {
     "slide_type": "subslide"
    }
   },
   "source": [
    "First we'll import some general libraries which we'll use throughout, including numpy, pandas and matplotlib ([Oliphant2006], [vanderWalt2011], [McKinney2010], [Hunter2007]). We'll use scikit-learn for the majority of machine learning tasks ([Pedregosa2011]).\n",
    "\n",
    "[Oliphant2006]: https://numpy.org/ \"Oliphant, T.E., 2006. A guide to NumPy. Trelgol Publishing USA.\"\n",
    "\n",
    "[vanderWalt2011]: https://numpy.org/ \"van der Walt, S., Colbert, S.C., Varoquaux, G., 2011. The NumPy Array: A Structure for Efficient Numerical Computation. Computing in Science Engineering 13, 22–30. https://doi.org/10.1109/MCSE.2011.37\"\n",
    "\n",
    "[Hunter2007]: https://matplotlib.org/ \"Hunter, J.D., 2007. Matplotlib: A 2D Graphics Environment. Comput. Sci. Eng. 9, 90–95. https://doi.org/10.1109/MCSE.2007.55\"\n",
    "\n",
    "[McKinney2010]: https://pandas.pydata.org/pandas-docs/stable/ \"McKinney, W., 2010. Data structures for statistical computing in python, in: van der Walt, S., Millman, J. (Eds.), Proceedings of the 9th Python in Science Conference. pp. 51–56.\"\n",
    "\n",
    "[Pedregosa2011]: https://scikit-learn.org/ \"Pedregosa, F., Varoquaux, G., Gramfort, A., Michel, V., Thirion, B., Grisel, O., Blondel, M., Prettenhofer, P., Weiss, R., Dubourg, V., Vanderplas, J., Passos, A., Cournapeau, D., Brucher, M., Perrot, M., Duchesnay, É., 2011. Scikit-learn: Machine Learning in Python. Journal of Machine Learning Research 12, 2825−2830.\""
   ]
  },
  {
   "cell_type": "code",
   "execution_count": 1,
   "metadata": {
    "slideshow": {
     "slide_type": "fragment"
    }
   },
   "outputs": [],
   "source": [
    "%matplotlib inline\n",
    "import numpy as np\n",
    "import pandas as pd\n",
    "import matplotlib.pyplot as plt"
   ]
  },
  {
   "cell_type": "code",
   "execution_count": 2,
   "metadata": {
    "slideshow": {
     "slide_type": "fragment"
    }
   },
   "outputs": [],
   "source": [
    "from sklearn.svm import SVC\n",
    "from sklearn.linear_model import LogisticRegression\n",
    "from sklearn.ensemble import RandomForestClassifier\n",
    "from sklearn.preprocessing import StandardScaler\n",
    "from sklearn.model_selection import train_test_split\n",
    "from sklearn.pipeline import make_pipeline\n",
    "# could also use imblearn.pipleline.make_pipeline"
   ]
  },
  {
   "cell_type": "markdown",
   "metadata": {
    "slideshow": {
     "slide_type": "subslide"
    }
   },
   "source": [
    "pyrolite also provides a number of useful functions here, especially for using geochemical data ([Williams2019]).\n",
    "\n",
    "[Williams2019]: https://pyrolite.rtfd.io \"Williams, M., 2019. pyrolite: A set of tools for getting the most from your geochemical data. http://dx.doi.org/10.5281/zenodo.2545106\"\n",
    "\n"
   ]
  },
  {
   "cell_type": "code",
   "execution_count": 3,
   "metadata": {
    "slideshow": {
     "slide_type": "fragment"
    }
   },
   "outputs": [
    {
     "name": "stderr",
     "output_type": "stream",
     "text": [
      "Using TensorFlow backend.\n"
     ]
    }
   ],
   "source": [
    "from pyrolite.geochem.ind import common_elements, common_oxides\n",
    "\n",
    "from pyrolite.util.skl.vis import plot_confusion_matrix\n",
    "from pyrolite.util.skl.pipeline import SVC_pipeline, PdUnion\n",
    "from pyrolite.util.skl.select import CompositionalSelector\n",
    "from pyrolite.util.skl.transform import CLRTransform, LinearTransform"
   ]
  },
  {
   "cell_type": "markdown",
   "metadata": {
    "slideshow": {
     "slide_type": "slide"
    }
   },
   "source": [
    "As for the majority of this set of notebooks, we'll use the 29-dimension tectonic discrimination dataset (majors, minors, traces and isotopes) from Ueki et al. (2018), modified to list the specific tectonic setting in a 'Class' column. Tectonic setting classes are as follows:  BAB: Back Arc Basin, CA: Continental Arc, CFB: Continental Flood Basalt, IA: Island Arc, IOA: Intra-oceanic Arc, MOR: Mid-Ocean Ridge, OI: Ocean Island, OP: Oceanic Plateau."
   ]
  },
  {
   "cell_type": "code",
   "execution_count": 4,
   "metadata": {
    "slideshow": {
     "slide_type": "subslide"
    }
   },
   "outputs": [
    {
     "data": {
      "text/plain": [
       "['CA', 'IA', 'IOA', 'BAB', 'CFB', 'MOR', 'OP', 'OI']"
      ]
     },
     "execution_count": 4,
     "metadata": {},
     "output_type": "execute_result"
    }
   ],
   "source": [
    "df = pd.read_csv('https://storage.googleapis.com/aegc2019/ueki2018.csv')\n",
    "\n",
    "compositional_variables = common_elements(as_set=True) | common_oxides(as_set=True)\n",
    "abundances = [i for i in df.columns if i in compositional_variables]\n",
    "isotopes = [i for i in df.columns if i != \"Class\" and i not in compositional_variables]\n",
    "\n",
    "classes = list(df.Class.unique())\n",
    "classes"
   ]
  },
  {
   "cell_type": "markdown",
   "metadata": {
    "slideshow": {
     "slide_type": "subslide"
    }
   },
   "source": [
    "To make this dataset suitable for use to train a classifier, let's first split the features from the true classes and then scale the training data such that each column falls in the range \\\\([-1, 1]\\\\). "
   ]
  },
  {
   "cell_type": "code",
   "execution_count": 5,
   "metadata": {
    "slideshow": {
     "slide_type": "fragment"
    }
   },
   "outputs": [],
   "source": [
    "X, y = df.loc[:, abundances + isotopes], df[\"Class\"]"
   ]
  },
  {
   "cell_type": "code",
   "execution_count": 6,
   "metadata": {
    "slideshow": {
     "slide_type": "fragment"
    }
   },
   "outputs": [],
   "source": [
    "scaler = StandardScaler()\n",
    "X_ = scaler.fit_transform(X)"
   ]
  },
  {
   "cell_type": "markdown",
   "metadata": {
    "slideshow": {
     "slide_type": "subslide"
    }
   },
   "source": [
    "To assess the performance of our classifier, we'll need to hold back an independent subset of the data for testing purposes. Here we reserve 30% of the data for testing, and ensure that it will proportionately contain data for each of our classes."
   ]
  },
  {
   "cell_type": "code",
   "execution_count": 7,
   "metadata": {
    "slideshow": {
     "slide_type": "fragment"
    }
   },
   "outputs": [],
   "source": [
    "X_train, X_test, y_train, y_test = train_test_split(X_, \n",
    "                                                    y, \n",
    "                                                    stratify=y, \n",
    "                                                    test_size=0.3)"
   ]
  },
  {
   "cell_type": "markdown",
   "metadata": {
    "slideshow": {
     "slide_type": "slide"
    }
   },
   "source": [
    "### Support Vector Classifiers\n"
   ]
  },
  {
   "cell_type": "code",
   "execution_count": 8,
   "metadata": {
    "slideshow": {
     "slide_type": "subslide"
    }
   },
   "outputs": [],
   "source": [
    "clf = SVC()\n",
    "clf.fit(X_train, y_train);"
   ]
  },
  {
   "cell_type": "code",
   "execution_count": 9,
   "metadata": {
    "slideshow": {
     "slide_type": "fragment"
    }
   },
   "outputs": [
    {
     "data": {
      "text/plain": [
       "'Overall Accuracy: 88.3%'"
      ]
     },
     "execution_count": 9,
     "metadata": {},
     "output_type": "execute_result"
    }
   ],
   "source": [
    "svcscore = clf.score(X_test, y_test)\n",
    "\"Overall Accuracy: {:.1f}%\".format(svcscore*100)"
   ]
  },
  {
   "cell_type": "code",
   "execution_count": 10,
   "metadata": {
    "slideshow": {
     "slide_type": "subslide"
    }
   },
   "outputs": [
    {
     "data": {
      "image/png": "[encoded data removed]",
      "text/plain": [
       "<Figure size 432x288 with 2 Axes>"
      ]
     },
     "metadata": {
      "needs_background": "light"
     },
     "output_type": "display_data"
    }
   ],
   "source": [
    "plot_confusion_matrix(clf, X_test, y_test, normalize=True, classes=classes);"
   ]
  },
  {
   "cell_type": "markdown",
   "metadata": {
    "slideshow": {
     "slide_type": "slide"
    }
   },
   "source": [
    "### Random Forests"
   ]
  },
  {
   "cell_type": "code",
   "execution_count": 11,
   "metadata": {
    "slideshow": {
     "slide_type": "subslide"
    }
   },
   "outputs": [],
   "source": [
    "rf = RandomForestClassifier(n_estimators=1000, max_depth=4)\n",
    "rf.fit(X_train, y_train);"
   ]
  },
  {
   "cell_type": "code",
   "execution_count": 12,
   "metadata": {
    "slideshow": {
     "slide_type": "fragment"
    }
   },
   "outputs": [
    {
     "data": {
      "text/plain": [
       "'Overall Accuracy: 79.9%'"
      ]
     },
     "execution_count": 12,
     "metadata": {},
     "output_type": "execute_result"
    }
   ],
   "source": [
    "rfscore = rf.score(X_test, y_test)\n",
    "\"Overall Accuracy: {:.1f}%\".format(rfscore*100)"
   ]
  },
  {
   "cell_type": "code",
   "execution_count": 13,
   "metadata": {
    "slideshow": {
     "slide_type": "subslide"
    }
   },
   "outputs": [
    {
     "data": {
      "image/png": "[encoded data removed]",
      "text/plain": [
       "<Figure size 432x288 with 2 Axes>"
      ]
     },
     "metadata": {
      "needs_background": "light"
     },
     "output_type": "display_data"
    }
   ],
   "source": [
    "plot_confusion_matrix(rf, X_test, y_test, normalize=True);"
   ]
  },
  {
   "cell_type": "markdown",
   "metadata": {
    "slideshow": {
     "slide_type": "subslide"
    }
   },
   "source": [
    "Random forests can be used to investigate relative importance of features (noting that there are some pitfalls, especially when set of variables are strongly correlated):"
   ]
  },
  {
   "cell_type": "code",
   "execution_count": 14,
   "metadata": {
    "slideshow": {
     "slide_type": "fragment"
    }
   },
   "outputs": [
    {
     "data": {
      "text/html": [
       "<div>\n",
       "<style scoped>\n",
       "    .dataframe tbody tr th:only-of-type {\n",
       "        vertical-align: middle;\n",
       "    }\n",
       "\n",
       "    .dataframe tbody tr th {\n",
       "        vertical-align: top;\n",
       "    }\n",
       "\n",
       "    .dataframe thead th {\n",
       "        text-align: right;\n",
       "    }\n",
       "</style>\n",
       "<table border=\"1\" class=\"dataframe\">\n",
       "  <thead>\n",
       "    <tr style=\"text-align: right;\">\n",
       "      <th></th>\n",
       "      <th>Importance</th>\n",
       "    </tr>\n",
       "  </thead>\n",
       "  <tbody>\n",
       "    <tr>\n",
       "      <th>Sr87Sr86</th>\n",
       "      <td>13.1</td>\n",
       "    </tr>\n",
       "    <tr>\n",
       "      <th>Nb</th>\n",
       "      <td>9.5</td>\n",
       "    </tr>\n",
       "    <tr>\n",
       "      <th>TiO2</th>\n",
       "      <td>8.6</td>\n",
       "    </tr>\n",
       "    <tr>\n",
       "      <th>Ta</th>\n",
       "      <td>7.5</td>\n",
       "    </tr>\n",
       "    <tr>\n",
       "      <th>Nd143Nd144</th>\n",
       "      <td>6.3</td>\n",
       "    </tr>\n",
       "    <tr>\n",
       "      <th>Sr</th>\n",
       "      <td>4.6</td>\n",
       "    </tr>\n",
       "  </tbody>\n",
       "</table>\n",
       "</div>"
      ],
      "text/plain": [
       "            Importance\n",
       "Sr87Sr86          13.1\n",
       "Nb                 9.5\n",
       "TiO2               8.6\n",
       "Ta                 7.5\n",
       "Nd143Nd144         6.3\n",
       "Sr                 4.6"
      ]
     },
     "execution_count": 14,
     "metadata": {},
     "output_type": "execute_result"
    }
   ],
   "source": [
    "ft_importances = pd.DataFrame(data=np.round(rf.feature_importances_,3), \n",
    "                              columns=['Importance'], index=X.columns\n",
    "                             ).sort_values('Importance', ascending=False) * 100\n",
    "ft_importances[:6]"
   ]
  },
  {
   "cell_type": "markdown",
   "metadata": {
    "slideshow": {
     "slide_type": "slide"
    }
   },
   "source": [
    "### Multinomial Logistic Regressions"
   ]
  },
  {
   "cell_type": "code",
   "execution_count": 15,
   "metadata": {
    "slideshow": {
     "slide_type": "subslide"
    }
   },
   "outputs": [],
   "source": [
    "lr = LogisticRegression(multi_class=\"multinomial\",\n",
    "                        solver=\"saga\", \n",
    "                        penalty='l1')\n",
    "lr.fit(X_train, y_train);"
   ]
  },
  {
   "cell_type": "code",
   "execution_count": 16,
   "metadata": {
    "slideshow": {
     "slide_type": "fragment"
    }
   },
   "outputs": [
    {
     "data": {
      "text/plain": [
       "'Overall Accuracy: 84.8%'"
      ]
     },
     "execution_count": 16,
     "metadata": {},
     "output_type": "execute_result"
    }
   ],
   "source": [
    "lrscore = lr.score(X_test, y_test)\n",
    "\"Overall Accuracy: {:.1f}%\".format(lrscore*100)"
   ]
  },
  {
   "cell_type": "code",
   "execution_count": 17,
   "metadata": {
    "slideshow": {
     "slide_type": "subslide"
    }
   },
   "outputs": [
    {
     "data": {
      "image/png": "[encoded data removed]",
      "text/plain": [
       "<Figure size 432x288 with 2 Axes>"
      ]
     },
     "metadata": {
      "needs_background": "light"
     },
     "output_type": "display_data"
    }
   ],
   "source": [
    "plot_confusion_matrix(lr, X_test, y_test, normalize=True);"
   ]
  },
  {
   "cell_type": "code",
   "execution_count": 18,
   "metadata": {
    "slideshow": {
     "slide_type": "subslide"
    }
   },
   "outputs": [
    {
     "data": {
      "text/html": [
       "<style  type=\"text/css\" >\n",
       "    #T_fcecb962_d2b8_11e9_868b_00216ae618a7row0_col1 {\n",
       "            background-color:  #f7fbff;\n",
       "            color:  #000000;\n",
       "        }    #T_fcecb962_d2b8_11e9_868b_00216ae618a7row0_col2 {\n",
       "            background-color:  #08306b;\n",
       "            color:  #f1f1f1;\n",
       "        }    #T_fcecb962_d2b8_11e9_868b_00216ae618a7row0_col3 {\n",
       "            background-color:  #ddeaf7;\n",
       "            color:  #000000;\n",
       "        }    #T_fcecb962_d2b8_11e9_868b_00216ae618a7row0_col4 {\n",
       "            background-color:  #f7fbff;\n",
       "            color:  #000000;\n",
       "        }    #T_fcecb962_d2b8_11e9_868b_00216ae618a7row0_col5 {\n",
       "            background-color:  #f7fbff;\n",
       "            color:  #000000;\n",
       "        }    #T_fcecb962_d2b8_11e9_868b_00216ae618a7row0_col6 {\n",
       "            background-color:  #5ca4d0;\n",
       "            color:  #000000;\n",
       "        }    #T_fcecb962_d2b8_11e9_868b_00216ae618a7row0_col7 {\n",
       "            background-color:  #f7fbff;\n",
       "            color:  #000000;\n",
       "        }    #T_fcecb962_d2b8_11e9_868b_00216ae618a7row0_col8 {\n",
       "            background-color:  #f7fbff;\n",
       "            color:  #000000;\n",
       "        }    #T_fcecb962_d2b8_11e9_868b_00216ae618a7row1_col1 {\n",
       "            background-color:  #f7fbff;\n",
       "            color:  #000000;\n",
       "        }    #T_fcecb962_d2b8_11e9_868b_00216ae618a7row1_col2 {\n",
       "            background-color:  #f2f8fd;\n",
       "            color:  #000000;\n",
       "        }    #T_fcecb962_d2b8_11e9_868b_00216ae618a7row1_col3 {\n",
       "            background-color:  #08306b;\n",
       "            color:  #f1f1f1;\n",
       "        }    #T_fcecb962_d2b8_11e9_868b_00216ae618a7row1_col4 {\n",
       "            background-color:  #f5f9fe;\n",
       "            color:  #000000;\n",
       "        }    #T_fcecb962_d2b8_11e9_868b_00216ae618a7row1_col5 {\n",
       "            background-color:  #abd0e6;\n",
       "            color:  #000000;\n",
       "        }    #T_fcecb962_d2b8_11e9_868b_00216ae618a7row1_col6 {\n",
       "            background-color:  #f7fbff;\n",
       "            color:  #000000;\n",
       "        }    #T_fcecb962_d2b8_11e9_868b_00216ae618a7row1_col7 {\n",
       "            background-color:  #f7fbff;\n",
       "            color:  #000000;\n",
       "        }    #T_fcecb962_d2b8_11e9_868b_00216ae618a7row1_col8 {\n",
       "            background-color:  #b8d5ea;\n",
       "            color:  #000000;\n",
       "        }    #T_fcecb962_d2b8_11e9_868b_00216ae618a7row2_col1 {\n",
       "            background-color:  #d3e3f3;\n",
       "            color:  #000000;\n",
       "        }    #T_fcecb962_d2b8_11e9_868b_00216ae618a7row2_col2 {\n",
       "            background-color:  #dceaf6;\n",
       "            color:  #000000;\n",
       "        }    #T_fcecb962_d2b8_11e9_868b_00216ae618a7row2_col3 {\n",
       "            background-color:  #f7fbff;\n",
       "            color:  #000000;\n",
       "        }    #T_fcecb962_d2b8_11e9_868b_00216ae618a7row2_col4 {\n",
       "            background-color:  #f7fbff;\n",
       "            color:  #000000;\n",
       "        }    #T_fcecb962_d2b8_11e9_868b_00216ae618a7row2_col5 {\n",
       "            background-color:  #f7fbff;\n",
       "            color:  #000000;\n",
       "        }    #T_fcecb962_d2b8_11e9_868b_00216ae618a7row2_col6 {\n",
       "            background-color:  #08306b;\n",
       "            color:  #f1f1f1;\n",
       "        }    #T_fcecb962_d2b8_11e9_868b_00216ae618a7row2_col7 {\n",
       "            background-color:  #e9f2fa;\n",
       "            color:  #000000;\n",
       "        }    #T_fcecb962_d2b8_11e9_868b_00216ae618a7row2_col8 {\n",
       "            background-color:  #f7fbff;\n",
       "            color:  #000000;\n",
       "        }    #T_fcecb962_d2b8_11e9_868b_00216ae618a7row3_col1 {\n",
       "            background-color:  #f7fbff;\n",
       "            color:  #000000;\n",
       "        }    #T_fcecb962_d2b8_11e9_868b_00216ae618a7row3_col2 {\n",
       "            background-color:  #f7fbff;\n",
       "            color:  #000000;\n",
       "        }    #T_fcecb962_d2b8_11e9_868b_00216ae618a7row3_col3 {\n",
       "            background-color:  #f7fbff;\n",
       "            color:  #000000;\n",
       "        }    #T_fcecb962_d2b8_11e9_868b_00216ae618a7row3_col4 {\n",
       "            background-color:  #eef5fc;\n",
       "            color:  #000000;\n",
       "        }    #T_fcecb962_d2b8_11e9_868b_00216ae618a7row3_col5 {\n",
       "            background-color:  #f6faff;\n",
       "            color:  #000000;\n",
       "        }    #T_fcecb962_d2b8_11e9_868b_00216ae618a7row3_col6 {\n",
       "            background-color:  #f7fbff;\n",
       "            color:  #000000;\n",
       "        }    #T_fcecb962_d2b8_11e9_868b_00216ae618a7row3_col7 {\n",
       "            background-color:  #08306b;\n",
       "            color:  #f1f1f1;\n",
       "        }    #T_fcecb962_d2b8_11e9_868b_00216ae618a7row3_col8 {\n",
       "            background-color:  #f7fbff;\n",
       "            color:  #000000;\n",
       "        }    #T_fcecb962_d2b8_11e9_868b_00216ae618a7row4_col1 {\n",
       "            background-color:  #f7fbff;\n",
       "            color:  #000000;\n",
       "        }    #T_fcecb962_d2b8_11e9_868b_00216ae618a7row4_col2 {\n",
       "            background-color:  #f7fbff;\n",
       "            color:  #000000;\n",
       "        }    #T_fcecb962_d2b8_11e9_868b_00216ae618a7row4_col3 {\n",
       "            background-color:  #f6faff;\n",
       "            color:  #000000;\n",
       "        }    #T_fcecb962_d2b8_11e9_868b_00216ae618a7row4_col4 {\n",
       "            background-color:  #08306b;\n",
       "            color:  #f1f1f1;\n",
       "        }    #T_fcecb962_d2b8_11e9_868b_00216ae618a7row4_col5 {\n",
       "            background-color:  #549fcd;\n",
       "            color:  #000000;\n",
       "        }    #T_fcecb962_d2b8_11e9_868b_00216ae618a7row4_col6 {\n",
       "            background-color:  #f7fbff;\n",
       "            color:  #000000;\n",
       "        }    #T_fcecb962_d2b8_11e9_868b_00216ae618a7row4_col7 {\n",
       "            background-color:  #d9e7f5;\n",
       "            color:  #000000;\n",
       "        }    #T_fcecb962_d2b8_11e9_868b_00216ae618a7row4_col8 {\n",
       "            background-color:  #ebf3fb;\n",
       "            color:  #000000;\n",
       "        }    #T_fcecb962_d2b8_11e9_868b_00216ae618a7row5_col1 {\n",
       "            background-color:  #f7fbff;\n",
       "            color:  #000000;\n",
       "        }    #T_fcecb962_d2b8_11e9_868b_00216ae618a7row5_col2 {\n",
       "            background-color:  #f7fbff;\n",
       "            color:  #000000;\n",
       "        }    #T_fcecb962_d2b8_11e9_868b_00216ae618a7row5_col3 {\n",
       "            background-color:  #f7fbff;\n",
       "            color:  #000000;\n",
       "        }    #T_fcecb962_d2b8_11e9_868b_00216ae618a7row5_col4 {\n",
       "            background-color:  #f3f8fe;\n",
       "            color:  #000000;\n",
       "        }    #T_fcecb962_d2b8_11e9_868b_00216ae618a7row5_col5 {\n",
       "            background-color:  #f7fbff;\n",
       "            color:  #000000;\n",
       "        }    #T_fcecb962_d2b8_11e9_868b_00216ae618a7row5_col6 {\n",
       "            background-color:  #f7fbff;\n",
       "            color:  #000000;\n",
       "        }    #T_fcecb962_d2b8_11e9_868b_00216ae618a7row5_col7 {\n",
       "            background-color:  #08306b;\n",
       "            color:  #f1f1f1;\n",
       "        }    #T_fcecb962_d2b8_11e9_868b_00216ae618a7row5_col8 {\n",
       "            background-color:  #f7fbff;\n",
       "            color:  #000000;\n",
       "        }    #T_fcecb962_d2b8_11e9_868b_00216ae618a7row6_col1 {\n",
       "            background-color:  #f3f8fe;\n",
       "            color:  #000000;\n",
       "        }    #T_fcecb962_d2b8_11e9_868b_00216ae618a7row6_col2 {\n",
       "            background-color:  #f7fbff;\n",
       "            color:  #000000;\n",
       "        }    #T_fcecb962_d2b8_11e9_868b_00216ae618a7row6_col3 {\n",
       "            background-color:  #f0f6fd;\n",
       "            color:  #000000;\n",
       "        }    #T_fcecb962_d2b8_11e9_868b_00216ae618a7row6_col4 {\n",
       "            background-color:  #eaf3fb;\n",
       "            color:  #000000;\n",
       "        }    #T_fcecb962_d2b8_11e9_868b_00216ae618a7row6_col5 {\n",
       "            background-color:  #08306b;\n",
       "            color:  #f1f1f1;\n",
       "        }    #T_fcecb962_d2b8_11e9_868b_00216ae618a7row6_col6 {\n",
       "            background-color:  #f7fbff;\n",
       "            color:  #000000;\n",
       "        }    #T_fcecb962_d2b8_11e9_868b_00216ae618a7row6_col7 {\n",
       "            background-color:  #f6faff;\n",
       "            color:  #000000;\n",
       "        }    #T_fcecb962_d2b8_11e9_868b_00216ae618a7row6_col8 {\n",
       "            background-color:  #eef5fc;\n",
       "            color:  #000000;\n",
       "        }    #T_fcecb962_d2b8_11e9_868b_00216ae618a7row7_col1 {\n",
       "            background-color:  #f7fbff;\n",
       "            color:  #000000;\n",
       "        }    #T_fcecb962_d2b8_11e9_868b_00216ae618a7row7_col2 {\n",
       "            background-color:  #f7fbff;\n",
       "            color:  #000000;\n",
       "        }    #T_fcecb962_d2b8_11e9_868b_00216ae618a7row7_col3 {\n",
       "            background-color:  #f7fbff;\n",
       "            color:  #000000;\n",
       "        }    #T_fcecb962_d2b8_11e9_868b_00216ae618a7row7_col4 {\n",
       "            background-color:  #f1f7fd;\n",
       "            color:  #000000;\n",
       "        }    #T_fcecb962_d2b8_11e9_868b_00216ae618a7row7_col5 {\n",
       "            background-color:  #f7fbff;\n",
       "            color:  #000000;\n",
       "        }    #T_fcecb962_d2b8_11e9_868b_00216ae618a7row7_col6 {\n",
       "            background-color:  #f7fbff;\n",
       "            color:  #000000;\n",
       "        }    #T_fcecb962_d2b8_11e9_868b_00216ae618a7row7_col7 {\n",
       "            background-color:  #08306b;\n",
       "            color:  #f1f1f1;\n",
       "        }    #T_fcecb962_d2b8_11e9_868b_00216ae618a7row7_col8 {\n",
       "            background-color:  #f7fbff;\n",
       "            color:  #000000;\n",
       "        }</style><table id=\"T_fcecb962_d2b8_11e9_868b_00216ae618a7\" ><thead>    <tr>        <th class=\"blank level0\" ></th>        <th class=\"col_heading level0 col0\" >Expect</th>        <th class=\"col_heading level0 col1\" >OP</th>        <th class=\"col_heading level0 col2\" >OI</th>        <th class=\"col_heading level0 col3\" >MOR</th>        <th class=\"col_heading level0 col4\" >IOA</th>        <th class=\"col_heading level0 col5\" >IA</th>        <th class=\"col_heading level0 col6\" >CFB</th>        <th class=\"col_heading level0 col7\" >CA</th>        <th class=\"col_heading level0 col8\" >BAB</th>    </tr></thead><tbody>\n",
       "                <tr>\n",
       "                        <th id=\"T_fcecb962_d2b8_11e9_868b_00216ae618a7level0_row0\" class=\"row_heading level0 row0\" >0</th>\n",
       "                        <td id=\"T_fcecb962_d2b8_11e9_868b_00216ae618a7row0_col0\" class=\"data row0 col0\" >OI</td>\n",
       "                        <td id=\"T_fcecb962_d2b8_11e9_868b_00216ae618a7row0_col1\" class=\"data row0 col1\" >0.11</td>\n",
       "                        <td id=\"T_fcecb962_d2b8_11e9_868b_00216ae618a7row0_col2\" class=\"data row0 col2\" >59.4</td>\n",
       "                        <td id=\"T_fcecb962_d2b8_11e9_868b_00216ae618a7row0_col3\" class=\"data row0 col3\" >7.86</td>\n",
       "                        <td id=\"T_fcecb962_d2b8_11e9_868b_00216ae618a7row0_col4\" class=\"data row0 col4\" >0</td>\n",
       "                        <td id=\"T_fcecb962_d2b8_11e9_868b_00216ae618a7row0_col5\" class=\"data row0 col5\" >0</td>\n",
       "                        <td id=\"T_fcecb962_d2b8_11e9_868b_00216ae618a7row0_col6\" class=\"data row0 col6\" >32.4</td>\n",
       "                        <td id=\"T_fcecb962_d2b8_11e9_868b_00216ae618a7row0_col7\" class=\"data row0 col7\" >0.18</td>\n",
       "                        <td id=\"T_fcecb962_d2b8_11e9_868b_00216ae618a7row0_col8\" class=\"data row0 col8\" >0.05</td>\n",
       "            </tr>\n",
       "            <tr>\n",
       "                        <th id=\"T_fcecb962_d2b8_11e9_868b_00216ae618a7level0_row1\" class=\"row_heading level0 row1\" >1</th>\n",
       "                        <td id=\"T_fcecb962_d2b8_11e9_868b_00216ae618a7row1_col0\" class=\"data row1 col0\" >MOR</td>\n",
       "                        <td id=\"T_fcecb962_d2b8_11e9_868b_00216ae618a7row1_col1\" class=\"data row1 col1\" >0.13</td>\n",
       "                        <td id=\"T_fcecb962_d2b8_11e9_868b_00216ae618a7row1_col2\" class=\"data row1 col2\" >1.47</td>\n",
       "                        <td id=\"T_fcecb962_d2b8_11e9_868b_00216ae618a7row1_col3\" class=\"data row1 col3\" >59.89</td>\n",
       "                        <td id=\"T_fcecb962_d2b8_11e9_868b_00216ae618a7row1_col4\" class=\"data row1 col4\" >0.84</td>\n",
       "                        <td id=\"T_fcecb962_d2b8_11e9_868b_00216ae618a7row1_col5\" class=\"data row1 col5\" >20.05</td>\n",
       "                        <td id=\"T_fcecb962_d2b8_11e9_868b_00216ae618a7row1_col6\" class=\"data row1 col6\" >0.02</td>\n",
       "                        <td id=\"T_fcecb962_d2b8_11e9_868b_00216ae618a7row1_col7\" class=\"data row1 col7\" >0.04</td>\n",
       "                        <td id=\"T_fcecb962_d2b8_11e9_868b_00216ae618a7row1_col8\" class=\"data row1 col8\" >17.57</td>\n",
       "            </tr>\n",
       "            <tr>\n",
       "                        <th id=\"T_fcecb962_d2b8_11e9_868b_00216ae618a7level0_row2\" class=\"row_heading level0 row2\" >2</th>\n",
       "                        <td id=\"T_fcecb962_d2b8_11e9_868b_00216ae618a7row2_col0\" class=\"data row2 col0\" >CFB</td>\n",
       "                        <td id=\"T_fcecb962_d2b8_11e9_868b_00216ae618a7row2_col1\" class=\"data row2 col1\" >13.15</td>\n",
       "                        <td id=\"T_fcecb962_d2b8_11e9_868b_00216ae618a7row2_col2\" class=\"data row2 col2\" >9.6</td>\n",
       "                        <td id=\"T_fcecb962_d2b8_11e9_868b_00216ae618a7row2_col3\" class=\"data row2 col3\" >0.22</td>\n",
       "                        <td id=\"T_fcecb962_d2b8_11e9_868b_00216ae618a7row2_col4\" class=\"data row2 col4\" >0.09</td>\n",
       "                        <td id=\"T_fcecb962_d2b8_11e9_868b_00216ae618a7row2_col5\" class=\"data row2 col5\" >0</td>\n",
       "                        <td id=\"T_fcecb962_d2b8_11e9_868b_00216ae618a7row2_col6\" class=\"data row2 col6\" >71.55</td>\n",
       "                        <td id=\"T_fcecb962_d2b8_11e9_868b_00216ae618a7row2_col7\" class=\"data row2 col7\" >5.27</td>\n",
       "                        <td id=\"T_fcecb962_d2b8_11e9_868b_00216ae618a7row2_col8\" class=\"data row2 col8\" >0.12</td>\n",
       "            </tr>\n",
       "            <tr>\n",
       "                        <th id=\"T_fcecb962_d2b8_11e9_868b_00216ae618a7level0_row3\" class=\"row_heading level0 row3\" >3</th>\n",
       "                        <td id=\"T_fcecb962_d2b8_11e9_868b_00216ae618a7row3_col0\" class=\"data row3 col0\" >CA</td>\n",
       "                        <td id=\"T_fcecb962_d2b8_11e9_868b_00216ae618a7row3_col1\" class=\"data row3 col1\" >0</td>\n",
       "                        <td id=\"T_fcecb962_d2b8_11e9_868b_00216ae618a7row3_col2\" class=\"data row3 col2\" >0</td>\n",
       "                        <td id=\"T_fcecb962_d2b8_11e9_868b_00216ae618a7row3_col3\" class=\"data row3 col3\" >0</td>\n",
       "                        <td id=\"T_fcecb962_d2b8_11e9_868b_00216ae618a7row3_col4\" class=\"data row3 col4\" >4.45</td>\n",
       "                        <td id=\"T_fcecb962_d2b8_11e9_868b_00216ae618a7row3_col5\" class=\"data row3 col5\" >0.55</td>\n",
       "                        <td id=\"T_fcecb962_d2b8_11e9_868b_00216ae618a7row3_col6\" class=\"data row3 col6\" >0</td>\n",
       "                        <td id=\"T_fcecb962_d2b8_11e9_868b_00216ae618a7row3_col7\" class=\"data row3 col7\" >94.99</td>\n",
       "                        <td id=\"T_fcecb962_d2b8_11e9_868b_00216ae618a7row3_col8\" class=\"data row3 col8\" >0.01</td>\n",
       "            </tr>\n",
       "            <tr>\n",
       "                        <th id=\"T_fcecb962_d2b8_11e9_868b_00216ae618a7level0_row4\" class=\"row_heading level0 row4\" >4</th>\n",
       "                        <td id=\"T_fcecb962_d2b8_11e9_868b_00216ae618a7row4_col0\" class=\"data row4 col0\" >IA</td>\n",
       "                        <td id=\"T_fcecb962_d2b8_11e9_868b_00216ae618a7row4_col1\" class=\"data row4 col1\" >0.07</td>\n",
       "                        <td id=\"T_fcecb962_d2b8_11e9_868b_00216ae618a7row4_col2\" class=\"data row4 col2\" >0</td>\n",
       "                        <td id=\"T_fcecb962_d2b8_11e9_868b_00216ae618a7row4_col3\" class=\"data row4 col3\" >0.33</td>\n",
       "                        <td id=\"T_fcecb962_d2b8_11e9_868b_00216ae618a7row4_col4\" class=\"data row4 col4\" >55.75</td>\n",
       "                        <td id=\"T_fcecb962_d2b8_11e9_868b_00216ae618a7row4_col5\" class=\"data row4 col5\" >31.72</td>\n",
       "                        <td id=\"T_fcecb962_d2b8_11e9_868b_00216ae618a7row4_col6\" class=\"data row4 col6\" >0</td>\n",
       "                        <td id=\"T_fcecb962_d2b8_11e9_868b_00216ae618a7row4_col7\" class=\"data row4 col7\" >8.66</td>\n",
       "                        <td id=\"T_fcecb962_d2b8_11e9_868b_00216ae618a7row4_col8\" class=\"data row4 col8\" >3.48</td>\n",
       "            </tr>\n",
       "            <tr>\n",
       "                        <th id=\"T_fcecb962_d2b8_11e9_868b_00216ae618a7level0_row5\" class=\"row_heading level0 row5\" >5</th>\n",
       "                        <td id=\"T_fcecb962_d2b8_11e9_868b_00216ae618a7row5_col0\" class=\"data row5 col0\" >CA</td>\n",
       "                        <td id=\"T_fcecb962_d2b8_11e9_868b_00216ae618a7row5_col1\" class=\"data row5 col1\" >0.01</td>\n",
       "                        <td id=\"T_fcecb962_d2b8_11e9_868b_00216ae618a7row5_col2\" class=\"data row5 col2\" >0.06</td>\n",
       "                        <td id=\"T_fcecb962_d2b8_11e9_868b_00216ae618a7row5_col3\" class=\"data row5 col3\" >0</td>\n",
       "                        <td id=\"T_fcecb962_d2b8_11e9_868b_00216ae618a7row5_col4\" class=\"data row5 col4\" >1.94</td>\n",
       "                        <td id=\"T_fcecb962_d2b8_11e9_868b_00216ae618a7row5_col5\" class=\"data row5 col5\" >0.07</td>\n",
       "                        <td id=\"T_fcecb962_d2b8_11e9_868b_00216ae618a7row5_col6\" class=\"data row5 col6\" >0</td>\n",
       "                        <td id=\"T_fcecb962_d2b8_11e9_868b_00216ae618a7row5_col7\" class=\"data row5 col7\" >97.87</td>\n",
       "                        <td id=\"T_fcecb962_d2b8_11e9_868b_00216ae618a7row5_col8\" class=\"data row5 col8\" >0.05</td>\n",
       "            </tr>\n",
       "            <tr>\n",
       "                        <th id=\"T_fcecb962_d2b8_11e9_868b_00216ae618a7level0_row6\" class=\"row_heading level0 row6\" >6</th>\n",
       "                        <td id=\"T_fcecb962_d2b8_11e9_868b_00216ae618a7row6_col0\" class=\"data row6 col0\" >IA</td>\n",
       "                        <td id=\"T_fcecb962_d2b8_11e9_868b_00216ae618a7row6_col1\" class=\"data row6 col1\" >2.06</td>\n",
       "                        <td id=\"T_fcecb962_d2b8_11e9_868b_00216ae618a7row6_col2\" class=\"data row6 col2\" >0.08</td>\n",
       "                        <td id=\"T_fcecb962_d2b8_11e9_868b_00216ae618a7row6_col3\" class=\"data row6 col3\" >3.17</td>\n",
       "                        <td id=\"T_fcecb962_d2b8_11e9_868b_00216ae618a7row6_col4\" class=\"data row6 col4\" >5.49</td>\n",
       "                        <td id=\"T_fcecb962_d2b8_11e9_868b_00216ae618a7row6_col5\" class=\"data row6 col5\" >84.63</td>\n",
       "                        <td id=\"T_fcecb962_d2b8_11e9_868b_00216ae618a7row6_col6\" class=\"data row6 col6\" >0.24</td>\n",
       "                        <td id=\"T_fcecb962_d2b8_11e9_868b_00216ae618a7row6_col7\" class=\"data row6 col7\" >0.43</td>\n",
       "                        <td id=\"T_fcecb962_d2b8_11e9_868b_00216ae618a7row6_col8\" class=\"data row6 col8\" >3.9</td>\n",
       "            </tr>\n",
       "            <tr>\n",
       "                        <th id=\"T_fcecb962_d2b8_11e9_868b_00216ae618a7level0_row7\" class=\"row_heading level0 row7\" >7</th>\n",
       "                        <td id=\"T_fcecb962_d2b8_11e9_868b_00216ae618a7row7_col0\" class=\"data row7 col0\" >CA</td>\n",
       "                        <td id=\"T_fcecb962_d2b8_11e9_868b_00216ae618a7row7_col1\" class=\"data row7 col1\" >0.01</td>\n",
       "                        <td id=\"T_fcecb962_d2b8_11e9_868b_00216ae618a7row7_col2\" class=\"data row7 col2\" >0.22</td>\n",
       "                        <td id=\"T_fcecb962_d2b8_11e9_868b_00216ae618a7row7_col3\" class=\"data row7 col3\" >0</td>\n",
       "                        <td id=\"T_fcecb962_d2b8_11e9_868b_00216ae618a7row7_col4\" class=\"data row7 col4\" >3.31</td>\n",
       "                        <td id=\"T_fcecb962_d2b8_11e9_868b_00216ae618a7row7_col5\" class=\"data row7 col5\" >0.17</td>\n",
       "                        <td id=\"T_fcecb962_d2b8_11e9_868b_00216ae618a7row7_col6\" class=\"data row7 col6\" >0.01</td>\n",
       "                        <td id=\"T_fcecb962_d2b8_11e9_868b_00216ae618a7row7_col7\" class=\"data row7 col7\" >96.06</td>\n",
       "                        <td id=\"T_fcecb962_d2b8_11e9_868b_00216ae618a7row7_col8\" class=\"data row7 col8\" >0.2</td>\n",
       "            </tr>\n",
       "    </tbody></table>"
      ],
      "text/plain": [
       "<pandas.io.formats.style.Styler at 0x1a7afb93f60>"
      ]
     },
     "execution_count": 18,
     "metadata": {},
     "output_type": "execute_result"
    }
   ],
   "source": [
    "probs = pd.DataFrame(data=lr.predict_proba(X_test[:8, :]), columns=lr.classes_) * 100\n",
    "probs[\"Expect\"] = y_test[:8].tolist()\n",
    "table = probs[probs.columns[::-1]].round(2)\n",
    "table.style.background_gradient(cmap=\"Blues\", axis=1)"
   ]
  },
  {
   "cell_type": "markdown",
   "metadata": {
    "slideshow": {
     "slide_type": "slide"
    }
   },
   "source": [
    "We can also invesigate the coefficients for each of the classes, which indicate the relative weighting for the features used. As we've used a sparse variant of the logistic regression here, there are a number of features with zero weight, but typically a significant number of features are non-zero for each class (consistent with Ueki et al. 2018)."
   ]
  },
  {
   "cell_type": "code",
   "execution_count": 19,
   "metadata": {
    "slideshow": {
     "slide_type": "subslide"
    }
   },
   "outputs": [
    {
     "data": {
      "text/html": [
       "<style  type=\"text/css\" >\n",
       "    #T_fd02aa52_d2b8_11e9_9e5c_00216ae618a7row0_col0 {\n",
       "            background-color:  #1f9e89;\n",
       "            color:  #000000;\n",
       "        }    #T_fd02aa52_d2b8_11e9_9e5c_00216ae618a7row0_col1 {\n",
       "            background-color:  #1f9e89;\n",
       "            color:  #000000;\n",
       "        }    #T_fd02aa52_d2b8_11e9_9e5c_00216ae618a7row0_col2 {\n",
       "            background-color:  #1fa187;\n",
       "            color:  #000000;\n",
       "        }    #T_fd02aa52_d2b8_11e9_9e5c_00216ae618a7row0_col3 {\n",
       "            background-color:  #32b67a;\n",
       "            color:  #000000;\n",
       "        }    #T_fd02aa52_d2b8_11e9_9e5c_00216ae618a7row0_col4 {\n",
       "            background-color:  #1f9e89;\n",
       "            color:  #000000;\n",
       "        }    #T_fd02aa52_d2b8_11e9_9e5c_00216ae618a7row0_col5 {\n",
       "            background-color:  #1f998a;\n",
       "            color:  #000000;\n",
       "        }    #T_fd02aa52_d2b8_11e9_9e5c_00216ae618a7row0_col6 {\n",
       "            background-color:  #1e9b8a;\n",
       "            color:  #000000;\n",
       "        }    #T_fd02aa52_d2b8_11e9_9e5c_00216ae618a7row0_col7 {\n",
       "            background-color:  #20928c;\n",
       "            color:  #000000;\n",
       "        }    #T_fd02aa52_d2b8_11e9_9e5c_00216ae618a7row1_col0 {\n",
       "            background-color:  #1e9b8a;\n",
       "            color:  #000000;\n",
       "        }    #T_fd02aa52_d2b8_11e9_9e5c_00216ae618a7row1_col1 {\n",
       "            background-color:  #28ae80;\n",
       "            color:  #000000;\n",
       "        }    #T_fd02aa52_d2b8_11e9_9e5c_00216ae618a7row1_col2 {\n",
       "            background-color:  #1f9e89;\n",
       "            color:  #000000;\n",
       "        }    #T_fd02aa52_d2b8_11e9_9e5c_00216ae618a7row1_col3 {\n",
       "            background-color:  #3e4989;\n",
       "            color:  #f1f1f1;\n",
       "        }    #T_fd02aa52_d2b8_11e9_9e5c_00216ae618a7row1_col4 {\n",
       "            background-color:  #24878e;\n",
       "            color:  #000000;\n",
       "        }    #T_fd02aa52_d2b8_11e9_9e5c_00216ae618a7row1_col5 {\n",
       "            background-color:  #29af7f;\n",
       "            color:  #000000;\n",
       "        }    #T_fd02aa52_d2b8_11e9_9e5c_00216ae618a7row1_col6 {\n",
       "            background-color:  #44bf70;\n",
       "            color:  #000000;\n",
       "        }    #T_fd02aa52_d2b8_11e9_9e5c_00216ae618a7row1_col7 {\n",
       "            background-color:  #22a884;\n",
       "            color:  #000000;\n",
       "        }    #T_fd02aa52_d2b8_11e9_9e5c_00216ae618a7row2_col0 {\n",
       "            background-color:  #2db27d;\n",
       "            color:  #000000;\n",
       "        }    #T_fd02aa52_d2b8_11e9_9e5c_00216ae618a7row2_col1 {\n",
       "            background-color:  #52c569;\n",
       "            color:  #000000;\n",
       "        }    #T_fd02aa52_d2b8_11e9_9e5c_00216ae618a7row2_col2 {\n",
       "            background-color:  #365c8d;\n",
       "            color:  #f1f1f1;\n",
       "        }    #T_fd02aa52_d2b8_11e9_9e5c_00216ae618a7row2_col3 {\n",
       "            background-color:  #1f9f88;\n",
       "            color:  #000000;\n",
       "        }    #T_fd02aa52_d2b8_11e9_9e5c_00216ae618a7row2_col4 {\n",
       "            background-color:  #84d44b;\n",
       "            color:  #000000;\n",
       "        }    #T_fd02aa52_d2b8_11e9_9e5c_00216ae618a7row2_col5 {\n",
       "            background-color:  #1e9c89;\n",
       "            color:  #000000;\n",
       "        }    #T_fd02aa52_d2b8_11e9_9e5c_00216ae618a7row2_col6 {\n",
       "            background-color:  #31678e;\n",
       "            color:  #f1f1f1;\n",
       "        }    #T_fd02aa52_d2b8_11e9_9e5c_00216ae618a7row2_col7 {\n",
       "            background-color:  #1e9b8a;\n",
       "            color:  #000000;\n",
       "        }    #T_fd02aa52_d2b8_11e9_9e5c_00216ae618a7row3_col0 {\n",
       "            background-color:  #2a788e;\n",
       "            color:  #000000;\n",
       "        }    #T_fd02aa52_d2b8_11e9_9e5c_00216ae618a7row3_col1 {\n",
       "            background-color:  #1f9e89;\n",
       "            color:  #000000;\n",
       "        }    #T_fd02aa52_d2b8_11e9_9e5c_00216ae618a7row3_col2 {\n",
       "            background-color:  #70cf57;\n",
       "            color:  #000000;\n",
       "        }    #T_fd02aa52_d2b8_11e9_9e5c_00216ae618a7row3_col3 {\n",
       "            background-color:  #28ae80;\n",
       "            color:  #000000;\n",
       "        }    #T_fd02aa52_d2b8_11e9_9e5c_00216ae618a7row3_col4 {\n",
       "            background-color:  #21908d;\n",
       "            color:  #000000;\n",
       "        }    #T_fd02aa52_d2b8_11e9_9e5c_00216ae618a7row3_col5 {\n",
       "            background-color:  #2d708e;\n",
       "            color:  #f1f1f1;\n",
       "        }    #T_fd02aa52_d2b8_11e9_9e5c_00216ae618a7row3_col6 {\n",
       "            background-color:  #1f9e89;\n",
       "            color:  #000000;\n",
       "        }    #T_fd02aa52_d2b8_11e9_9e5c_00216ae618a7row3_col7 {\n",
       "            background-color:  #37b878;\n",
       "            color:  #000000;\n",
       "        }    #T_fd02aa52_d2b8_11e9_9e5c_00216ae618a7row4_col0 {\n",
       "            background-color:  #287c8e;\n",
       "            color:  #000000;\n",
       "        }    #T_fd02aa52_d2b8_11e9_9e5c_00216ae618a7row4_col1 {\n",
       "            background-color:  #1fa188;\n",
       "            color:  #000000;\n",
       "        }    #T_fd02aa52_d2b8_11e9_9e5c_00216ae618a7row4_col2 {\n",
       "            background-color:  #1e9d89;\n",
       "            color:  #000000;\n",
       "        }    #T_fd02aa52_d2b8_11e9_9e5c_00216ae618a7row4_col3 {\n",
       "            background-color:  #39558c;\n",
       "            color:  #f1f1f1;\n",
       "        }    #T_fd02aa52_d2b8_11e9_9e5c_00216ae618a7row4_col4 {\n",
       "            background-color:  #22a884;\n",
       "            color:  #000000;\n",
       "        }    #T_fd02aa52_d2b8_11e9_9e5c_00216ae618a7row4_col5 {\n",
       "            background-color:  #28ae80;\n",
       "            color:  #000000;\n",
       "        }    #T_fd02aa52_d2b8_11e9_9e5c_00216ae618a7row4_col6 {\n",
       "            background-color:  #42be71;\n",
       "            color:  #000000;\n",
       "        }    #T_fd02aa52_d2b8_11e9_9e5c_00216ae618a7row4_col7 {\n",
       "            background-color:  #20a486;\n",
       "            color:  #000000;\n",
       "        }    #T_fd02aa52_d2b8_11e9_9e5c_00216ae618a7row5_col0 {\n",
       "            background-color:  #63cb5f;\n",
       "            color:  #000000;\n",
       "        }    #T_fd02aa52_d2b8_11e9_9e5c_00216ae618a7row5_col1 {\n",
       "            background-color:  #365d8d;\n",
       "            color:  #f1f1f1;\n",
       "        }    #T_fd02aa52_d2b8_11e9_9e5c_00216ae618a7row5_col2 {\n",
       "            background-color:  #1f988b;\n",
       "            color:  #000000;\n",
       "        }    #T_fd02aa52_d2b8_11e9_9e5c_00216ae618a7row5_col3 {\n",
       "            background-color:  #21a585;\n",
       "            color:  #000000;\n",
       "        }    #T_fd02aa52_d2b8_11e9_9e5c_00216ae618a7row5_col4 {\n",
       "            background-color:  #20928c;\n",
       "            color:  #000000;\n",
       "        }    #T_fd02aa52_d2b8_11e9_9e5c_00216ae618a7row5_col5 {\n",
       "            background-color:  #b8de29;\n",
       "            color:  #000000;\n",
       "        }    #T_fd02aa52_d2b8_11e9_9e5c_00216ae618a7row5_col6 {\n",
       "            background-color:  #1f9e89;\n",
       "            color:  #000000;\n",
       "        }    #T_fd02aa52_d2b8_11e9_9e5c_00216ae618a7row5_col7 {\n",
       "            background-color:  #277f8e;\n",
       "            color:  #000000;\n",
       "        }    #T_fd02aa52_d2b8_11e9_9e5c_00216ae618a7row6_col0 {\n",
       "            background-color:  #1f9e89;\n",
       "            color:  #000000;\n",
       "        }    #T_fd02aa52_d2b8_11e9_9e5c_00216ae618a7row6_col1 {\n",
       "            background-color:  #1f9e89;\n",
       "            color:  #000000;\n",
       "        }    #T_fd02aa52_d2b8_11e9_9e5c_00216ae618a7row6_col2 {\n",
       "            background-color:  #24868e;\n",
       "            color:  #000000;\n",
       "        }    #T_fd02aa52_d2b8_11e9_9e5c_00216ae618a7row6_col3 {\n",
       "            background-color:  #33628d;\n",
       "            color:  #f1f1f1;\n",
       "        }    #T_fd02aa52_d2b8_11e9_9e5c_00216ae618a7row6_col4 {\n",
       "            background-color:  #32b67a;\n",
       "            color:  #000000;\n",
       "        }    #T_fd02aa52_d2b8_11e9_9e5c_00216ae618a7row6_col5 {\n",
       "            background-color:  #21918c;\n",
       "            color:  #000000;\n",
       "        }    #T_fd02aa52_d2b8_11e9_9e5c_00216ae618a7row6_col6 {\n",
       "            background-color:  #65cb5e;\n",
       "            color:  #000000;\n",
       "        }    #T_fd02aa52_d2b8_11e9_9e5c_00216ae618a7row6_col7 {\n",
       "            background-color:  #35b779;\n",
       "            color:  #000000;\n",
       "        }    #T_fd02aa52_d2b8_11e9_9e5c_00216ae618a7row7_col0 {\n",
       "            background-color:  #65cb5e;\n",
       "            color:  #000000;\n",
       "        }    #T_fd02aa52_d2b8_11e9_9e5c_00216ae618a7row7_col1 {\n",
       "            background-color:  #218e8d;\n",
       "            color:  #000000;\n",
       "        }    #T_fd02aa52_d2b8_11e9_9e5c_00216ae618a7row7_col2 {\n",
       "            background-color:  #23898e;\n",
       "            color:  #000000;\n",
       "        }    #T_fd02aa52_d2b8_11e9_9e5c_00216ae618a7row7_col3 {\n",
       "            background-color:  #65cb5e;\n",
       "            color:  #000000;\n",
       "        }    #T_fd02aa52_d2b8_11e9_9e5c_00216ae618a7row7_col4 {\n",
       "            background-color:  #2c738e;\n",
       "            color:  #f1f1f1;\n",
       "        }    #T_fd02aa52_d2b8_11e9_9e5c_00216ae618a7row7_col5 {\n",
       "            background-color:  #25838e;\n",
       "            color:  #000000;\n",
       "        }    #T_fd02aa52_d2b8_11e9_9e5c_00216ae618a7row7_col6 {\n",
       "            background-color:  #1e9d89;\n",
       "            color:  #000000;\n",
       "        }    #T_fd02aa52_d2b8_11e9_9e5c_00216ae618a7row7_col7 {\n",
       "            background-color:  #3bbb75;\n",
       "            color:  #000000;\n",
       "        }    #T_fd02aa52_d2b8_11e9_9e5c_00216ae618a7row8_col0 {\n",
       "            background-color:  #1fa188;\n",
       "            color:  #000000;\n",
       "        }    #T_fd02aa52_d2b8_11e9_9e5c_00216ae618a7row8_col1 {\n",
       "            background-color:  #23888e;\n",
       "            color:  #000000;\n",
       "        }    #T_fd02aa52_d2b8_11e9_9e5c_00216ae618a7row8_col2 {\n",
       "            background-color:  #1f9e89;\n",
       "            color:  #000000;\n",
       "        }    #T_fd02aa52_d2b8_11e9_9e5c_00216ae618a7row8_col3 {\n",
       "            background-color:  #1fa287;\n",
       "            color:  #000000;\n",
       "        }    #T_fd02aa52_d2b8_11e9_9e5c_00216ae618a7row8_col4 {\n",
       "            background-color:  #1f9a8a;\n",
       "            color:  #000000;\n",
       "        }    #T_fd02aa52_d2b8_11e9_9e5c_00216ae618a7row8_col5 {\n",
       "            background-color:  #1f9e89;\n",
       "            color:  #000000;\n",
       "        }    #T_fd02aa52_d2b8_11e9_9e5c_00216ae618a7row8_col6 {\n",
       "            background-color:  #1f9e89;\n",
       "            color:  #000000;\n",
       "        }    #T_fd02aa52_d2b8_11e9_9e5c_00216ae618a7row8_col7 {\n",
       "            background-color:  #1f9e89;\n",
       "            color:  #000000;\n",
       "        }    #T_fd02aa52_d2b8_11e9_9e5c_00216ae618a7row9_col0 {\n",
       "            background-color:  #1f9e89;\n",
       "            color:  #000000;\n",
       "        }    #T_fd02aa52_d2b8_11e9_9e5c_00216ae618a7row9_col1 {\n",
       "            background-color:  #27808e;\n",
       "            color:  #000000;\n",
       "        }    #T_fd02aa52_d2b8_11e9_9e5c_00216ae618a7row9_col2 {\n",
       "            background-color:  #1f9e89;\n",
       "            color:  #000000;\n",
       "        }    #T_fd02aa52_d2b8_11e9_9e5c_00216ae618a7row9_col3 {\n",
       "            background-color:  #1f9e89;\n",
       "            color:  #000000;\n",
       "        }    #T_fd02aa52_d2b8_11e9_9e5c_00216ae618a7row9_col4 {\n",
       "            background-color:  #1f9e89;\n",
       "            color:  #000000;\n",
       "        }    #T_fd02aa52_d2b8_11e9_9e5c_00216ae618a7row9_col5 {\n",
       "            background-color:  #1f9e89;\n",
       "            color:  #000000;\n",
       "        }    #T_fd02aa52_d2b8_11e9_9e5c_00216ae618a7row9_col6 {\n",
       "            background-color:  #1f9e89;\n",
       "            color:  #000000;\n",
       "        }    #T_fd02aa52_d2b8_11e9_9e5c_00216ae618a7row9_col7 {\n",
       "            background-color:  #1f9e89;\n",
       "            color:  #000000;\n",
       "        }    #T_fd02aa52_d2b8_11e9_9e5c_00216ae618a7row10_col0 {\n",
       "            background-color:  #1f9e89;\n",
       "            color:  #000000;\n",
       "        }    #T_fd02aa52_d2b8_11e9_9e5c_00216ae618a7row10_col1 {\n",
       "            background-color:  #1e9c89;\n",
       "            color:  #000000;\n",
       "        }    #T_fd02aa52_d2b8_11e9_9e5c_00216ae618a7row10_col2 {\n",
       "            background-color:  #1f9e89;\n",
       "            color:  #000000;\n",
       "        }    #T_fd02aa52_d2b8_11e9_9e5c_00216ae618a7row10_col3 {\n",
       "            background-color:  #20a486;\n",
       "            color:  #000000;\n",
       "        }    #T_fd02aa52_d2b8_11e9_9e5c_00216ae618a7row10_col4 {\n",
       "            background-color:  #1f9e89;\n",
       "            color:  #000000;\n",
       "        }    #T_fd02aa52_d2b8_11e9_9e5c_00216ae618a7row10_col5 {\n",
       "            background-color:  #1f978b;\n",
       "            color:  #000000;\n",
       "        }    #T_fd02aa52_d2b8_11e9_9e5c_00216ae618a7row10_col6 {\n",
       "            background-color:  #1f9e89;\n",
       "            color:  #000000;\n",
       "        }    #T_fd02aa52_d2b8_11e9_9e5c_00216ae618a7row10_col7 {\n",
       "            background-color:  #1f9e89;\n",
       "            color:  #000000;\n",
       "        }    #T_fd02aa52_d2b8_11e9_9e5c_00216ae618a7row11_col0 {\n",
       "            background-color:  #1f9a8a;\n",
       "            color:  #000000;\n",
       "        }    #T_fd02aa52_d2b8_11e9_9e5c_00216ae618a7row11_col1 {\n",
       "            background-color:  #27ad81;\n",
       "            color:  #000000;\n",
       "        }    #T_fd02aa52_d2b8_11e9_9e5c_00216ae618a7row11_col2 {\n",
       "            background-color:  #1f9e89;\n",
       "            color:  #000000;\n",
       "        }    #T_fd02aa52_d2b8_11e9_9e5c_00216ae618a7row11_col3 {\n",
       "            background-color:  #21a685;\n",
       "            color:  #000000;\n",
       "        }    #T_fd02aa52_d2b8_11e9_9e5c_00216ae618a7row11_col4 {\n",
       "            background-color:  #1f9e89;\n",
       "            color:  #000000;\n",
       "        }    #T_fd02aa52_d2b8_11e9_9e5c_00216ae618a7row11_col5 {\n",
       "            background-color:  #25838e;\n",
       "            color:  #000000;\n",
       "        }    #T_fd02aa52_d2b8_11e9_9e5c_00216ae618a7row11_col6 {\n",
       "            background-color:  #1fa187;\n",
       "            color:  #000000;\n",
       "        }    #T_fd02aa52_d2b8_11e9_9e5c_00216ae618a7row11_col7 {\n",
       "            background-color:  #1f9e89;\n",
       "            color:  #000000;\n",
       "        }    #T_fd02aa52_d2b8_11e9_9e5c_00216ae618a7row12_col0 {\n",
       "            background-color:  #1f9e89;\n",
       "            color:  #000000;\n",
       "        }    #T_fd02aa52_d2b8_11e9_9e5c_00216ae618a7row12_col1 {\n",
       "            background-color:  #58c765;\n",
       "            color:  #000000;\n",
       "        }    #T_fd02aa52_d2b8_11e9_9e5c_00216ae618a7row12_col2 {\n",
       "            background-color:  #1f9e89;\n",
       "            color:  #000000;\n",
       "        }    #T_fd02aa52_d2b8_11e9_9e5c_00216ae618a7row12_col3 {\n",
       "            background-color:  #24aa83;\n",
       "            color:  #000000;\n",
       "        }    #T_fd02aa52_d2b8_11e9_9e5c_00216ae618a7row12_col4 {\n",
       "            background-color:  #32648e;\n",
       "            color:  #f1f1f1;\n",
       "        }    #T_fd02aa52_d2b8_11e9_9e5c_00216ae618a7row12_col5 {\n",
       "            background-color:  #27808e;\n",
       "            color:  #000000;\n",
       "        }    #T_fd02aa52_d2b8_11e9_9e5c_00216ae618a7row12_col6 {\n",
       "            background-color:  #22a884;\n",
       "            color:  #000000;\n",
       "        }    #T_fd02aa52_d2b8_11e9_9e5c_00216ae618a7row12_col7 {\n",
       "            background-color:  #1fa088;\n",
       "            color:  #000000;\n",
       "        }    #T_fd02aa52_d2b8_11e9_9e5c_00216ae618a7row13_col0 {\n",
       "            background-color:  #228c8d;\n",
       "            color:  #000000;\n",
       "        }    #T_fd02aa52_d2b8_11e9_9e5c_00216ae618a7row13_col1 {\n",
       "            background-color:  #2a768e;\n",
       "            color:  #f1f1f1;\n",
       "        }    #T_fd02aa52_d2b8_11e9_9e5c_00216ae618a7row13_col2 {\n",
       "            background-color:  #1e9b8a;\n",
       "            color:  #000000;\n",
       "        }    #T_fd02aa52_d2b8_11e9_9e5c_00216ae618a7row13_col3 {\n",
       "            background-color:  #1fa188;\n",
       "            color:  #000000;\n",
       "        }    #T_fd02aa52_d2b8_11e9_9e5c_00216ae618a7row13_col4 {\n",
       "            background-color:  #58c765;\n",
       "            color:  #000000;\n",
       "        }    #T_fd02aa52_d2b8_11e9_9e5c_00216ae618a7row13_col5 {\n",
       "            background-color:  #73d056;\n",
       "            color:  #000000;\n",
       "        }    #T_fd02aa52_d2b8_11e9_9e5c_00216ae618a7row13_col6 {\n",
       "            background-color:  #31678e;\n",
       "            color:  #f1f1f1;\n",
       "        }    #T_fd02aa52_d2b8_11e9_9e5c_00216ae618a7row13_col7 {\n",
       "            background-color:  #20a486;\n",
       "            color:  #000000;\n",
       "        }    #T_fd02aa52_d2b8_11e9_9e5c_00216ae618a7row14_col0 {\n",
       "            background-color:  #50c46a;\n",
       "            color:  #000000;\n",
       "        }    #T_fd02aa52_d2b8_11e9_9e5c_00216ae618a7row14_col1 {\n",
       "            background-color:  #21908d;\n",
       "            color:  #000000;\n",
       "        }    #T_fd02aa52_d2b8_11e9_9e5c_00216ae618a7row14_col2 {\n",
       "            background-color:  #1e9b8a;\n",
       "            color:  #000000;\n",
       "        }    #T_fd02aa52_d2b8_11e9_9e5c_00216ae618a7row14_col3 {\n",
       "            background-color:  #1f9e89;\n",
       "            color:  #000000;\n",
       "        }    #T_fd02aa52_d2b8_11e9_9e5c_00216ae618a7row14_col4 {\n",
       "            background-color:  #21a585;\n",
       "            color:  #000000;\n",
       "        }    #T_fd02aa52_d2b8_11e9_9e5c_00216ae618a7row14_col5 {\n",
       "            background-color:  #2eb37c;\n",
       "            color:  #000000;\n",
       "        }    #T_fd02aa52_d2b8_11e9_9e5c_00216ae618a7row14_col6 {\n",
       "            background-color:  #33628d;\n",
       "            color:  #f1f1f1;\n",
       "        }    #T_fd02aa52_d2b8_11e9_9e5c_00216ae618a7row14_col7 {\n",
       "            background-color:  #1f9e89;\n",
       "            color:  #000000;\n",
       "        }    #T_fd02aa52_d2b8_11e9_9e5c_00216ae618a7row15_col0 {\n",
       "            background-color:  #355f8d;\n",
       "            color:  #f1f1f1;\n",
       "        }    #T_fd02aa52_d2b8_11e9_9e5c_00216ae618a7row15_col1 {\n",
       "            background-color:  #56c667;\n",
       "            color:  #000000;\n",
       "        }    #T_fd02aa52_d2b8_11e9_9e5c_00216ae618a7row15_col2 {\n",
       "            background-color:  #3dbc74;\n",
       "            color:  #000000;\n",
       "        }    #T_fd02aa52_d2b8_11e9_9e5c_00216ae618a7row15_col3 {\n",
       "            background-color:  #26818e;\n",
       "            color:  #000000;\n",
       "        }    #T_fd02aa52_d2b8_11e9_9e5c_00216ae618a7row15_col4 {\n",
       "            background-color:  #4cc26c;\n",
       "            color:  #000000;\n",
       "        }    #T_fd02aa52_d2b8_11e9_9e5c_00216ae618a7row15_col5 {\n",
       "            background-color:  #31b57b;\n",
       "            color:  #000000;\n",
       "        }    #T_fd02aa52_d2b8_11e9_9e5c_00216ae618a7row15_col6 {\n",
       "            background-color:  #29798e;\n",
       "            color:  #000000;\n",
       "        }    #T_fd02aa52_d2b8_11e9_9e5c_00216ae618a7row15_col7 {\n",
       "            background-color:  #1f948c;\n",
       "            color:  #000000;\n",
       "        }    #T_fd02aa52_d2b8_11e9_9e5c_00216ae618a7row16_col0 {\n",
       "            background-color:  #277f8e;\n",
       "            color:  #000000;\n",
       "        }    #T_fd02aa52_d2b8_11e9_9e5c_00216ae618a7row16_col1 {\n",
       "            background-color:  #25ab82;\n",
       "            color:  #000000;\n",
       "        }    #T_fd02aa52_d2b8_11e9_9e5c_00216ae618a7row16_col2 {\n",
       "            background-color:  #20a486;\n",
       "            color:  #000000;\n",
       "        }    #T_fd02aa52_d2b8_11e9_9e5c_00216ae618a7row16_col3 {\n",
       "            background-color:  #2c718e;\n",
       "            color:  #f1f1f1;\n",
       "        }    #T_fd02aa52_d2b8_11e9_9e5c_00216ae618a7row16_col4 {\n",
       "            background-color:  #228b8d;\n",
       "            color:  #000000;\n",
       "        }    #T_fd02aa52_d2b8_11e9_9e5c_00216ae618a7row16_col5 {\n",
       "            background-color:  #1f9e89;\n",
       "            color:  #000000;\n",
       "        }    #T_fd02aa52_d2b8_11e9_9e5c_00216ae618a7row16_col6 {\n",
       "            background-color:  #56c667;\n",
       "            color:  #000000;\n",
       "        }    #T_fd02aa52_d2b8_11e9_9e5c_00216ae618a7row16_col7 {\n",
       "            background-color:  #20a486;\n",
       "            color:  #000000;\n",
       "        }    #T_fd02aa52_d2b8_11e9_9e5c_00216ae618a7row17_col0 {\n",
       "            background-color:  #2ab07f;\n",
       "            color:  #000000;\n",
       "        }    #T_fd02aa52_d2b8_11e9_9e5c_00216ae618a7row17_col1 {\n",
       "            background-color:  #38588c;\n",
       "            color:  #f1f1f1;\n",
       "        }    #T_fd02aa52_d2b8_11e9_9e5c_00216ae618a7row17_col2 {\n",
       "            background-color:  #1f9e89;\n",
       "            color:  #000000;\n",
       "        }    #T_fd02aa52_d2b8_11e9_9e5c_00216ae618a7row17_col3 {\n",
       "            background-color:  #21918c;\n",
       "            color:  #000000;\n",
       "        }    #T_fd02aa52_d2b8_11e9_9e5c_00216ae618a7row17_col4 {\n",
       "            background-color:  #2b758e;\n",
       "            color:  #f1f1f1;\n",
       "        }    #T_fd02aa52_d2b8_11e9_9e5c_00216ae618a7row17_col5 {\n",
       "            background-color:  #8ed645;\n",
       "            color:  #000000;\n",
       "        }    #T_fd02aa52_d2b8_11e9_9e5c_00216ae618a7row17_col6 {\n",
       "            background-color:  #37b878;\n",
       "            color:  #000000;\n",
       "        }    #T_fd02aa52_d2b8_11e9_9e5c_00216ae618a7row17_col7 {\n",
       "            background-color:  #1fa187;\n",
       "            color:  #000000;\n",
       "        }    #T_fd02aa52_d2b8_11e9_9e5c_00216ae618a7row18_col0 {\n",
       "            background-color:  #1f9e89;\n",
       "            color:  #000000;\n",
       "        }    #T_fd02aa52_d2b8_11e9_9e5c_00216ae618a7row18_col1 {\n",
       "            background-color:  #1f9e89;\n",
       "            color:  #000000;\n",
       "        }    #T_fd02aa52_d2b8_11e9_9e5c_00216ae618a7row18_col2 {\n",
       "            background-color:  #1f9f88;\n",
       "            color:  #000000;\n",
       "        }    #T_fd02aa52_d2b8_11e9_9e5c_00216ae618a7row18_col3 {\n",
       "            background-color:  #20928c;\n",
       "            color:  #000000;\n",
       "        }    #T_fd02aa52_d2b8_11e9_9e5c_00216ae618a7row18_col4 {\n",
       "            background-color:  #28ae80;\n",
       "            color:  #000000;\n",
       "        }    #T_fd02aa52_d2b8_11e9_9e5c_00216ae618a7row18_col5 {\n",
       "            background-color:  #1f9e89;\n",
       "            color:  #000000;\n",
       "        }    #T_fd02aa52_d2b8_11e9_9e5c_00216ae618a7row18_col6 {\n",
       "            background-color:  #27ad81;\n",
       "            color:  #000000;\n",
       "        }    #T_fd02aa52_d2b8_11e9_9e5c_00216ae618a7row18_col7 {\n",
       "            background-color:  #2b748e;\n",
       "            color:  #f1f1f1;\n",
       "        }    #T_fd02aa52_d2b8_11e9_9e5c_00216ae618a7row19_col0 {\n",
       "            background-color:  #1f9e89;\n",
       "            color:  #000000;\n",
       "        }    #T_fd02aa52_d2b8_11e9_9e5c_00216ae618a7row19_col1 {\n",
       "            background-color:  #90d743;\n",
       "            color:  #000000;\n",
       "        }    #T_fd02aa52_d2b8_11e9_9e5c_00216ae618a7row19_col2 {\n",
       "            background-color:  #1f9e89;\n",
       "            color:  #000000;\n",
       "        }    #T_fd02aa52_d2b8_11e9_9e5c_00216ae618a7row19_col3 {\n",
       "            background-color:  #37b878;\n",
       "            color:  #000000;\n",
       "        }    #T_fd02aa52_d2b8_11e9_9e5c_00216ae618a7row19_col4 {\n",
       "            background-color:  #1f9e89;\n",
       "            color:  #000000;\n",
       "        }    #T_fd02aa52_d2b8_11e9_9e5c_00216ae618a7row19_col5 {\n",
       "            background-color:  #34618d;\n",
       "            color:  #f1f1f1;\n",
       "        }    #T_fd02aa52_d2b8_11e9_9e5c_00216ae618a7row19_col6 {\n",
       "            background-color:  #32b67a;\n",
       "            color:  #000000;\n",
       "        }    #T_fd02aa52_d2b8_11e9_9e5c_00216ae618a7row19_col7 {\n",
       "            background-color:  #3b518b;\n",
       "            color:  #f1f1f1;\n",
       "        }    #T_fd02aa52_d2b8_11e9_9e5c_00216ae618a7row20_col0 {\n",
       "            background-color:  #3bbb75;\n",
       "            color:  #000000;\n",
       "        }    #T_fd02aa52_d2b8_11e9_9e5c_00216ae618a7row20_col1 {\n",
       "            background-color:  #35b779;\n",
       "            color:  #000000;\n",
       "        }    #T_fd02aa52_d2b8_11e9_9e5c_00216ae618a7row20_col2 {\n",
       "            background-color:  #1f988b;\n",
       "            color:  #000000;\n",
       "        }    #T_fd02aa52_d2b8_11e9_9e5c_00216ae618a7row20_col3 {\n",
       "            background-color:  #26828e;\n",
       "            color:  #000000;\n",
       "        }    #T_fd02aa52_d2b8_11e9_9e5c_00216ae618a7row20_col4 {\n",
       "            background-color:  #26818e;\n",
       "            color:  #000000;\n",
       "        }    #T_fd02aa52_d2b8_11e9_9e5c_00216ae618a7row20_col5 {\n",
       "            background-color:  #35b779;\n",
       "            color:  #000000;\n",
       "        }    #T_fd02aa52_d2b8_11e9_9e5c_00216ae618a7row20_col6 {\n",
       "            background-color:  #24868e;\n",
       "            color:  #000000;\n",
       "        }    #T_fd02aa52_d2b8_11e9_9e5c_00216ae618a7row20_col7 {\n",
       "            background-color:  #20a386;\n",
       "            color:  #000000;\n",
       "        }    #T_fd02aa52_d2b8_11e9_9e5c_00216ae618a7row21_col0 {\n",
       "            background-color:  #1f9e89;\n",
       "            color:  #000000;\n",
       "        }    #T_fd02aa52_d2b8_11e9_9e5c_00216ae618a7row21_col1 {\n",
       "            background-color:  #1f9e89;\n",
       "            color:  #000000;\n",
       "        }    #T_fd02aa52_d2b8_11e9_9e5c_00216ae618a7row21_col2 {\n",
       "            background-color:  #21918c;\n",
       "            color:  #000000;\n",
       "        }    #T_fd02aa52_d2b8_11e9_9e5c_00216ae618a7row21_col3 {\n",
       "            background-color:  #2a788e;\n",
       "            color:  #000000;\n",
       "        }    #T_fd02aa52_d2b8_11e9_9e5c_00216ae618a7row21_col4 {\n",
       "            background-color:  #5cc863;\n",
       "            color:  #000000;\n",
       "        }    #T_fd02aa52_d2b8_11e9_9e5c_00216ae618a7row21_col5 {\n",
       "            background-color:  #1f9e89;\n",
       "            color:  #000000;\n",
       "        }    #T_fd02aa52_d2b8_11e9_9e5c_00216ae618a7row21_col6 {\n",
       "            background-color:  #29af7f;\n",
       "            color:  #000000;\n",
       "        }    #T_fd02aa52_d2b8_11e9_9e5c_00216ae618a7row21_col7 {\n",
       "            background-color:  #1e9b8a;\n",
       "            color:  #000000;\n",
       "        }    #T_fd02aa52_d2b8_11e9_9e5c_00216ae618a7row22_col0 {\n",
       "            background-color:  #1f988b;\n",
       "            color:  #000000;\n",
       "        }    #T_fd02aa52_d2b8_11e9_9e5c_00216ae618a7row22_col1 {\n",
       "            background-color:  #20938c;\n",
       "            color:  #000000;\n",
       "        }    #T_fd02aa52_d2b8_11e9_9e5c_00216ae618a7row22_col2 {\n",
       "            background-color:  #1f9e89;\n",
       "            color:  #000000;\n",
       "        }    #T_fd02aa52_d2b8_11e9_9e5c_00216ae618a7row22_col3 {\n",
       "            background-color:  #1f9e89;\n",
       "            color:  #000000;\n",
       "        }    #T_fd02aa52_d2b8_11e9_9e5c_00216ae618a7row22_col4 {\n",
       "            background-color:  #1f9e89;\n",
       "            color:  #000000;\n",
       "        }    #T_fd02aa52_d2b8_11e9_9e5c_00216ae618a7row22_col5 {\n",
       "            background-color:  #22a785;\n",
       "            color:  #000000;\n",
       "        }    #T_fd02aa52_d2b8_11e9_9e5c_00216ae618a7row22_col6 {\n",
       "            background-color:  #2db27d;\n",
       "            color:  #000000;\n",
       "        }    #T_fd02aa52_d2b8_11e9_9e5c_00216ae618a7row22_col7 {\n",
       "            background-color:  #1e9d89;\n",
       "            color:  #000000;\n",
       "        }    #T_fd02aa52_d2b8_11e9_9e5c_00216ae618a7row23_col0 {\n",
       "            background-color:  #26818e;\n",
       "            color:  #000000;\n",
       "        }    #T_fd02aa52_d2b8_11e9_9e5c_00216ae618a7row23_col1 {\n",
       "            background-color:  #1f9e89;\n",
       "            color:  #000000;\n",
       "        }    #T_fd02aa52_d2b8_11e9_9e5c_00216ae618a7row23_col2 {\n",
       "            background-color:  #1fa088;\n",
       "            color:  #000000;\n",
       "        }    #T_fd02aa52_d2b8_11e9_9e5c_00216ae618a7row23_col3 {\n",
       "            background-color:  #25858e;\n",
       "            color:  #000000;\n",
       "        }    #T_fd02aa52_d2b8_11e9_9e5c_00216ae618a7row23_col4 {\n",
       "            background-color:  #287c8e;\n",
       "            color:  #000000;\n",
       "        }    #T_fd02aa52_d2b8_11e9_9e5c_00216ae618a7row23_col5 {\n",
       "            background-color:  #1f9e89;\n",
       "            color:  #000000;\n",
       "        }    #T_fd02aa52_d2b8_11e9_9e5c_00216ae618a7row23_col6 {\n",
       "            background-color:  #98d83e;\n",
       "            color:  #000000;\n",
       "        }    #T_fd02aa52_d2b8_11e9_9e5c_00216ae618a7row23_col7 {\n",
       "            background-color:  #1f9f88;\n",
       "            color:  #000000;\n",
       "        }    #T_fd02aa52_d2b8_11e9_9e5c_00216ae618a7row24_col0 {\n",
       "            background-color:  #228c8d;\n",
       "            color:  #000000;\n",
       "        }    #T_fd02aa52_d2b8_11e9_9e5c_00216ae618a7row24_col1 {\n",
       "            background-color:  #1f9e89;\n",
       "            color:  #000000;\n",
       "        }    #T_fd02aa52_d2b8_11e9_9e5c_00216ae618a7row24_col2 {\n",
       "            background-color:  #5cc863;\n",
       "            color:  #000000;\n",
       "        }    #T_fd02aa52_d2b8_11e9_9e5c_00216ae618a7row24_col3 {\n",
       "            background-color:  #26ad81;\n",
       "            color:  #000000;\n",
       "        }    #T_fd02aa52_d2b8_11e9_9e5c_00216ae618a7row24_col4 {\n",
       "            background-color:  #375a8c;\n",
       "            color:  #f1f1f1;\n",
       "        }    #T_fd02aa52_d2b8_11e9_9e5c_00216ae618a7row24_col5 {\n",
       "            background-color:  #1f948c;\n",
       "            color:  #000000;\n",
       "        }    #T_fd02aa52_d2b8_11e9_9e5c_00216ae618a7row24_col6 {\n",
       "            background-color:  #1e9b8a;\n",
       "            color:  #000000;\n",
       "        }    #T_fd02aa52_d2b8_11e9_9e5c_00216ae618a7row24_col7 {\n",
       "            background-color:  #63cb5f;\n",
       "            color:  #000000;\n",
       "        }    #T_fd02aa52_d2b8_11e9_9e5c_00216ae618a7row25_col0 {\n",
       "            background-color:  #5ac864;\n",
       "            color:  #000000;\n",
       "        }    #T_fd02aa52_d2b8_11e9_9e5c_00216ae618a7row25_col1 {\n",
       "            background-color:  #2c718e;\n",
       "            color:  #f1f1f1;\n",
       "        }    #T_fd02aa52_d2b8_11e9_9e5c_00216ae618a7row25_col2 {\n",
       "            background-color:  #440154;\n",
       "            color:  #f1f1f1;\n",
       "        }    #T_fd02aa52_d2b8_11e9_9e5c_00216ae618a7row25_col3 {\n",
       "            background-color:  #fde725;\n",
       "            color:  #000000;\n",
       "        }    #T_fd02aa52_d2b8_11e9_9e5c_00216ae618a7row25_col4 {\n",
       "            background-color:  #1f9e89;\n",
       "            color:  #000000;\n",
       "        }    #T_fd02aa52_d2b8_11e9_9e5c_00216ae618a7row25_col5 {\n",
       "            background-color:  #31b57b;\n",
       "            color:  #000000;\n",
       "        }    #T_fd02aa52_d2b8_11e9_9e5c_00216ae618a7row25_col6 {\n",
       "            background-color:  #58c765;\n",
       "            color:  #000000;\n",
       "        }    #T_fd02aa52_d2b8_11e9_9e5c_00216ae618a7row25_col7 {\n",
       "            background-color:  #2f6b8e;\n",
       "            color:  #f1f1f1;\n",
       "        }    #T_fd02aa52_d2b8_11e9_9e5c_00216ae618a7row26_col0 {\n",
       "            background-color:  #1f9e89;\n",
       "            color:  #000000;\n",
       "        }    #T_fd02aa52_d2b8_11e9_9e5c_00216ae618a7row26_col1 {\n",
       "            background-color:  #4ec36b;\n",
       "            color:  #000000;\n",
       "        }    #T_fd02aa52_d2b8_11e9_9e5c_00216ae618a7row26_col2 {\n",
       "            background-color:  #218f8d;\n",
       "            color:  #000000;\n",
       "        }    #T_fd02aa52_d2b8_11e9_9e5c_00216ae618a7row26_col3 {\n",
       "            background-color:  #1f9e89;\n",
       "            color:  #000000;\n",
       "        }    #T_fd02aa52_d2b8_11e9_9e5c_00216ae618a7row26_col4 {\n",
       "            background-color:  #20938c;\n",
       "            color:  #000000;\n",
       "        }    #T_fd02aa52_d2b8_11e9_9e5c_00216ae618a7row26_col5 {\n",
       "            background-color:  #1fa088;\n",
       "            color:  #000000;\n",
       "        }    #T_fd02aa52_d2b8_11e9_9e5c_00216ae618a7row26_col6 {\n",
       "            background-color:  #3fbc73;\n",
       "            color:  #000000;\n",
       "        }    #T_fd02aa52_d2b8_11e9_9e5c_00216ae618a7row26_col7 {\n",
       "            background-color:  #2c718e;\n",
       "            color:  #f1f1f1;\n",
       "        }    #T_fd02aa52_d2b8_11e9_9e5c_00216ae618a7row27_col0 {\n",
       "            background-color:  #20938c;\n",
       "            color:  #000000;\n",
       "        }    #T_fd02aa52_d2b8_11e9_9e5c_00216ae618a7row27_col1 {\n",
       "            background-color:  #90d743;\n",
       "            color:  #000000;\n",
       "        }    #T_fd02aa52_d2b8_11e9_9e5c_00216ae618a7row27_col2 {\n",
       "            background-color:  #228b8d;\n",
       "            color:  #000000;\n",
       "        }    #T_fd02aa52_d2b8_11e9_9e5c_00216ae618a7row27_col3 {\n",
       "            background-color:  #2cb17e;\n",
       "            color:  #000000;\n",
       "        }    #T_fd02aa52_d2b8_11e9_9e5c_00216ae618a7row27_col4 {\n",
       "            background-color:  #52c569;\n",
       "            color:  #000000;\n",
       "        }    #T_fd02aa52_d2b8_11e9_9e5c_00216ae618a7row27_col5 {\n",
       "            background-color:  #218e8d;\n",
       "            color:  #000000;\n",
       "        }    #T_fd02aa52_d2b8_11e9_9e5c_00216ae618a7row27_col6 {\n",
       "            background-color:  #46337f;\n",
       "            color:  #f1f1f1;\n",
       "        }    #T_fd02aa52_d2b8_11e9_9e5c_00216ae618a7row27_col7 {\n",
       "            background-color:  #22a785;\n",
       "            color:  #000000;\n",
       "        }    #T_fd02aa52_d2b8_11e9_9e5c_00216ae618a7row28_col0 {\n",
       "            background-color:  #22a884;\n",
       "            color:  #000000;\n",
       "        }    #T_fd02aa52_d2b8_11e9_9e5c_00216ae618a7row28_col1 {\n",
       "            background-color:  #3b518b;\n",
       "            color:  #f1f1f1;\n",
       "        }    #T_fd02aa52_d2b8_11e9_9e5c_00216ae618a7row28_col2 {\n",
       "            background-color:  #26ad81;\n",
       "            color:  #000000;\n",
       "        }    #T_fd02aa52_d2b8_11e9_9e5c_00216ae618a7row28_col3 {\n",
       "            background-color:  #23a983;\n",
       "            color:  #000000;\n",
       "        }    #T_fd02aa52_d2b8_11e9_9e5c_00216ae618a7row28_col4 {\n",
       "            background-color:  #34b679;\n",
       "            color:  #000000;\n",
       "        }    #T_fd02aa52_d2b8_11e9_9e5c_00216ae618a7row28_col5 {\n",
       "            background-color:  #1f9e89;\n",
       "            color:  #000000;\n",
       "        }    #T_fd02aa52_d2b8_11e9_9e5c_00216ae618a7row28_col6 {\n",
       "            background-color:  #287c8e;\n",
       "            color:  #000000;\n",
       "        }    #T_fd02aa52_d2b8_11e9_9e5c_00216ae618a7row28_col7 {\n",
       "            background-color:  #24aa83;\n",
       "            color:  #000000;\n",
       "        }</style><table id=\"T_fd02aa52_d2b8_11e9_9e5c_00216ae618a7\" ><thead>    <tr>        <th class=\"blank level0\" ></th>        <th class=\"col_heading level0 col0\" >BAB</th>        <th class=\"col_heading level0 col1\" >CA</th>        <th class=\"col_heading level0 col2\" >CFB</th>        <th class=\"col_heading level0 col3\" >IA</th>        <th class=\"col_heading level0 col4\" >IOA</th>        <th class=\"col_heading level0 col5\" >MOR</th>        <th class=\"col_heading level0 col6\" >OI</th>        <th class=\"col_heading level0 col7\" >OP</th>    </tr></thead><tbody>\n",
       "                <tr>\n",
       "                        <th id=\"T_fd02aa52_d2b8_11e9_9e5c_00216ae618a7level0_row0\" class=\"row_heading level0 row0\" >SiO2</th>\n",
       "                        <td id=\"T_fd02aa52_d2b8_11e9_9e5c_00216ae618a7row0_col0\" class=\"data row0 col0\" ></td>\n",
       "                        <td id=\"T_fd02aa52_d2b8_11e9_9e5c_00216ae618a7row0_col1\" class=\"data row0 col1\" ></td>\n",
       "                        <td id=\"T_fd02aa52_d2b8_11e9_9e5c_00216ae618a7row0_col2\" class=\"data row0 col2\" >0.1</td>\n",
       "                        <td id=\"T_fd02aa52_d2b8_11e9_9e5c_00216ae618a7row0_col3\" class=\"data row0 col3\" >0.584</td>\n",
       "                        <td id=\"T_fd02aa52_d2b8_11e9_9e5c_00216ae618a7row0_col4\" class=\"data row0 col4\" ></td>\n",
       "                        <td id=\"T_fd02aa52_d2b8_11e9_9e5c_00216ae618a7row0_col5\" class=\"data row0 col5\" >-0.113</td>\n",
       "                        <td id=\"T_fd02aa52_d2b8_11e9_9e5c_00216ae618a7row0_col6\" class=\"data row0 col6\" >-0.068</td>\n",
       "                        <td id=\"T_fd02aa52_d2b8_11e9_9e5c_00216ae618a7row0_col7\" class=\"data row0 col7\" >-0.259</td>\n",
       "            </tr>\n",
       "            <tr>\n",
       "                        <th id=\"T_fd02aa52_d2b8_11e9_9e5c_00216ae618a7level0_row1\" class=\"row_heading level0 row1\" >TiO2</th>\n",
       "                        <td id=\"T_fd02aa52_d2b8_11e9_9e5c_00216ae618a7row1_col0\" class=\"data row1 col0\" >-0.054</td>\n",
       "                        <td id=\"T_fd02aa52_d2b8_11e9_9e5c_00216ae618a7row1_col1\" class=\"data row1 col1\" >0.412</td>\n",
       "                        <td id=\"T_fd02aa52_d2b8_11e9_9e5c_00216ae618a7row1_col2\" class=\"data row1 col2\" ></td>\n",
       "                        <td id=\"T_fd02aa52_d2b8_11e9_9e5c_00216ae618a7row1_col3\" class=\"data row1 col3\" >-1.913</td>\n",
       "                        <td id=\"T_fd02aa52_d2b8_11e9_9e5c_00216ae618a7row1_col4\" class=\"data row1 col4\" >-0.537</td>\n",
       "                        <td id=\"T_fd02aa52_d2b8_11e9_9e5c_00216ae618a7row1_col5\" class=\"data row1 col5\" >0.424</td>\n",
       "                        <td id=\"T_fd02aa52_d2b8_11e9_9e5c_00216ae618a7row1_col6\" class=\"data row1 col6\" >0.824</td>\n",
       "                        <td id=\"T_fd02aa52_d2b8_11e9_9e5c_00216ae618a7row1_col7\" class=\"data row1 col7\" >0.244</td>\n",
       "            </tr>\n",
       "            <tr>\n",
       "                        <th id=\"T_fd02aa52_d2b8_11e9_9e5c_00216ae618a7level0_row2\" class=\"row_heading level0 row2\" >Al2O3</th>\n",
       "                        <td id=\"T_fd02aa52_d2b8_11e9_9e5c_00216ae618a7row2_col0\" class=\"data row2 col0\" >0.493</td>\n",
       "                        <td id=\"T_fd02aa52_d2b8_11e9_9e5c_00216ae618a7row2_col1\" class=\"data row2 col1\" >0.983</td>\n",
       "                        <td id=\"T_fd02aa52_d2b8_11e9_9e5c_00216ae618a7row2_col2\" class=\"data row2 col2\" >-1.53</td>\n",
       "                        <td id=\"T_fd02aa52_d2b8_11e9_9e5c_00216ae618a7row2_col3\" class=\"data row2 col3\" >0.037</td>\n",
       "                        <td id=\"T_fd02aa52_d2b8_11e9_9e5c_00216ae618a7row2_col4\" class=\"data row2 col4\" >1.467</td>\n",
       "                        <td id=\"T_fd02aa52_d2b8_11e9_9e5c_00216ae618a7row2_col5\" class=\"data row2 col5\" >-0.049</td>\n",
       "                        <td id=\"T_fd02aa52_d2b8_11e9_9e5c_00216ae618a7row2_col6\" class=\"data row2 col6\" >-1.286</td>\n",
       "                        <td id=\"T_fd02aa52_d2b8_11e9_9e5c_00216ae618a7row2_col7\" class=\"data row2 col7\" >-0.066</td>\n",
       "            </tr>\n",
       "            <tr>\n",
       "                        <th id=\"T_fd02aa52_d2b8_11e9_9e5c_00216ae618a7level0_row3\" class=\"row_heading level0 row3\" >Fe2O3</th>\n",
       "                        <td id=\"T_fd02aa52_d2b8_11e9_9e5c_00216ae618a7row3_col0\" class=\"data row3 col0\" >-0.892</td>\n",
       "                        <td id=\"T_fd02aa52_d2b8_11e9_9e5c_00216ae618a7row3_col1\" class=\"data row3 col1\" >0.0</td>\n",
       "                        <td id=\"T_fd02aa52_d2b8_11e9_9e5c_00216ae618a7row3_col2\" class=\"data row3 col2\" >1.289</td>\n",
       "                        <td id=\"T_fd02aa52_d2b8_11e9_9e5c_00216ae618a7row3_col3\" class=\"data row3 col3\" >0.414</td>\n",
       "                        <td id=\"T_fd02aa52_d2b8_11e9_9e5c_00216ae618a7row3_col4\" class=\"data row3 col4\" >-0.323</td>\n",
       "                        <td id=\"T_fd02aa52_d2b8_11e9_9e5c_00216ae618a7row3_col5\" class=\"data row3 col5\" >-1.08</td>\n",
       "                        <td id=\"T_fd02aa52_d2b8_11e9_9e5c_00216ae618a7row3_col6\" class=\"data row3 col6\" ></td>\n",
       "                        <td id=\"T_fd02aa52_d2b8_11e9_9e5c_00216ae618a7row3_col7\" class=\"data row3 col7\" >0.652</td>\n",
       "            </tr>\n",
       "            <tr>\n",
       "                        <th id=\"T_fd02aa52_d2b8_11e9_9e5c_00216ae618a7level0_row4\" class=\"row_heading level0 row4\" >MgO</th>\n",
       "                        <td id=\"T_fd02aa52_d2b8_11e9_9e5c_00216ae618a7row4_col0\" class=\"data row4 col0\" >-0.799</td>\n",
       "                        <td id=\"T_fd02aa52_d2b8_11e9_9e5c_00216ae618a7row4_col1\" class=\"data row4 col1\" >0.074</td>\n",
       "                        <td id=\"T_fd02aa52_d2b8_11e9_9e5c_00216ae618a7row4_col2\" class=\"data row4 col2\" >-0.01</td>\n",
       "                        <td id=\"T_fd02aa52_d2b8_11e9_9e5c_00216ae618a7row4_col3\" class=\"data row4 col3\" >-1.668</td>\n",
       "                        <td id=\"T_fd02aa52_d2b8_11e9_9e5c_00216ae618a7row4_col4\" class=\"data row4 col4\" >0.258</td>\n",
       "                        <td id=\"T_fd02aa52_d2b8_11e9_9e5c_00216ae618a7row4_col5\" class=\"data row4 col5\" >0.405</td>\n",
       "                        <td id=\"T_fd02aa52_d2b8_11e9_9e5c_00216ae618a7row4_col6\" class=\"data row4 col6\" >0.817</td>\n",
       "                        <td id=\"T_fd02aa52_d2b8_11e9_9e5c_00216ae618a7row4_col7\" class=\"data row4 col7\" >0.156</td>\n",
       "            </tr>\n",
       "            <tr>\n",
       "                        <th id=\"T_fd02aa52_d2b8_11e9_9e5c_00216ae618a7level0_row5\" class=\"row_heading level0 row5\" >CaO</th>\n",
       "                        <td id=\"T_fd02aa52_d2b8_11e9_9e5c_00216ae618a7row5_col0\" class=\"data row5 col0\" >1.159</td>\n",
       "                        <td id=\"T_fd02aa52_d2b8_11e9_9e5c_00216ae618a7row5_col1\" class=\"data row5 col1\" >-1.516</td>\n",
       "                        <td id=\"T_fd02aa52_d2b8_11e9_9e5c_00216ae618a7row5_col2\" class=\"data row5 col2\" >-0.12</td>\n",
       "                        <td id=\"T_fd02aa52_d2b8_11e9_9e5c_00216ae618a7row5_col3\" class=\"data row5 col3\" >0.175</td>\n",
       "                        <td id=\"T_fd02aa52_d2b8_11e9_9e5c_00216ae618a7row5_col4\" class=\"data row5 col4\" >-0.293</td>\n",
       "                        <td id=\"T_fd02aa52_d2b8_11e9_9e5c_00216ae618a7row5_col5\" class=\"data row5 col5\" >1.922</td>\n",
       "                        <td id=\"T_fd02aa52_d2b8_11e9_9e5c_00216ae618a7row5_col6\" class=\"data row5 col6\" ></td>\n",
       "                        <td id=\"T_fd02aa52_d2b8_11e9_9e5c_00216ae618a7row5_col7\" class=\"data row5 col7\" >-0.728</td>\n",
       "            </tr>\n",
       "            <tr>\n",
       "                        <th id=\"T_fd02aa52_d2b8_11e9_9e5c_00216ae618a7level0_row6\" class=\"row_heading level0 row6\" >Na2O</th>\n",
       "                        <td id=\"T_fd02aa52_d2b8_11e9_9e5c_00216ae618a7row6_col0\" class=\"data row6 col0\" ></td>\n",
       "                        <td id=\"T_fd02aa52_d2b8_11e9_9e5c_00216ae618a7row6_col1\" class=\"data row6 col1\" >0.009</td>\n",
       "                        <td id=\"T_fd02aa52_d2b8_11e9_9e5c_00216ae618a7row6_col2\" class=\"data row6 col2\" >-0.551</td>\n",
       "                        <td id=\"T_fd02aa52_d2b8_11e9_9e5c_00216ae618a7row6_col3\" class=\"data row6 col3\" >-1.4</td>\n",
       "                        <td id=\"T_fd02aa52_d2b8_11e9_9e5c_00216ae618a7row6_col4\" class=\"data row6 col4\" >0.592</td>\n",
       "                        <td id=\"T_fd02aa52_d2b8_11e9_9e5c_00216ae618a7row6_col5\" class=\"data row6 col5\" >-0.311</td>\n",
       "                        <td id=\"T_fd02aa52_d2b8_11e9_9e5c_00216ae618a7row6_col6\" class=\"data row6 col6\" >1.179</td>\n",
       "                        <td id=\"T_fd02aa52_d2b8_11e9_9e5c_00216ae618a7row6_col7\" class=\"data row6 col7\" >0.64</td>\n",
       "            </tr>\n",
       "            <tr>\n",
       "                        <th id=\"T_fd02aa52_d2b8_11e9_9e5c_00216ae618a7level0_row7\" class=\"row_heading level0 row7\" >K2O</th>\n",
       "                        <td id=\"T_fd02aa52_d2b8_11e9_9e5c_00216ae618a7row7_col0\" class=\"data row7 col0\" >1.191</td>\n",
       "                        <td id=\"T_fd02aa52_d2b8_11e9_9e5c_00216ae618a7row7_col1\" class=\"data row7 col1\" >-0.377</td>\n",
       "                        <td id=\"T_fd02aa52_d2b8_11e9_9e5c_00216ae618a7row7_col2\" class=\"data row7 col2\" >-0.474</td>\n",
       "                        <td id=\"T_fd02aa52_d2b8_11e9_9e5c_00216ae618a7row7_col3\" class=\"data row7 col3\" >1.185</td>\n",
       "                        <td id=\"T_fd02aa52_d2b8_11e9_9e5c_00216ae618a7row7_col4\" class=\"data row7 col4\" >-1.005</td>\n",
       "                        <td id=\"T_fd02aa52_d2b8_11e9_9e5c_00216ae618a7row7_col5\" class=\"data row7 col5\" >-0.611</td>\n",
       "                        <td id=\"T_fd02aa52_d2b8_11e9_9e5c_00216ae618a7row7_col6\" class=\"data row7 col6\" >-0.006</td>\n",
       "                        <td id=\"T_fd02aa52_d2b8_11e9_9e5c_00216ae618a7row7_col7\" class=\"data row7 col7\" >0.713</td>\n",
       "            </tr>\n",
       "            <tr>\n",
       "                        <th id=\"T_fd02aa52_d2b8_11e9_9e5c_00216ae618a7level0_row8\" class=\"row_heading level0 row8\" >La</th>\n",
       "                        <td id=\"T_fd02aa52_d2b8_11e9_9e5c_00216ae618a7row8_col0\" class=\"data row8 col0\" >0.064</td>\n",
       "                        <td id=\"T_fd02aa52_d2b8_11e9_9e5c_00216ae618a7row8_col1\" class=\"data row8 col1\" >-0.516</td>\n",
       "                        <td id=\"T_fd02aa52_d2b8_11e9_9e5c_00216ae618a7row8_col2\" class=\"data row8 col2\" ></td>\n",
       "                        <td id=\"T_fd02aa52_d2b8_11e9_9e5c_00216ae618a7row8_col3\" class=\"data row8 col3\" >0.118</td>\n",
       "                        <td id=\"T_fd02aa52_d2b8_11e9_9e5c_00216ae618a7row8_col4\" class=\"data row8 col4\" >-0.084</td>\n",
       "                        <td id=\"T_fd02aa52_d2b8_11e9_9e5c_00216ae618a7row8_col5\" class=\"data row8 col5\" ></td>\n",
       "                        <td id=\"T_fd02aa52_d2b8_11e9_9e5c_00216ae618a7row8_col6\" class=\"data row8 col6\" >0.0</td>\n",
       "                        <td id=\"T_fd02aa52_d2b8_11e9_9e5c_00216ae618a7row8_col7\" class=\"data row8 col7\" ></td>\n",
       "            </tr>\n",
       "            <tr>\n",
       "                        <th id=\"T_fd02aa52_d2b8_11e9_9e5c_00216ae618a7level0_row9\" class=\"row_heading level0 row9\" >Ce</th>\n",
       "                        <td id=\"T_fd02aa52_d2b8_11e9_9e5c_00216ae618a7row9_col0\" class=\"data row9 col0\" ></td>\n",
       "                        <td id=\"T_fd02aa52_d2b8_11e9_9e5c_00216ae618a7row9_col1\" class=\"data row9 col1\" >-0.706</td>\n",
       "                        <td id=\"T_fd02aa52_d2b8_11e9_9e5c_00216ae618a7row9_col2\" class=\"data row9 col2\" ></td>\n",
       "                        <td id=\"T_fd02aa52_d2b8_11e9_9e5c_00216ae618a7row9_col3\" class=\"data row9 col3\" >0.001</td>\n",
       "                        <td id=\"T_fd02aa52_d2b8_11e9_9e5c_00216ae618a7row9_col4\" class=\"data row9 col4\" >0.001</td>\n",
       "                        <td id=\"T_fd02aa52_d2b8_11e9_9e5c_00216ae618a7row9_col5\" class=\"data row9 col5\" ></td>\n",
       "                        <td id=\"T_fd02aa52_d2b8_11e9_9e5c_00216ae618a7row9_col6\" class=\"data row9 col6\" ></td>\n",
       "                        <td id=\"T_fd02aa52_d2b8_11e9_9e5c_00216ae618a7row9_col7\" class=\"data row9 col7\" ></td>\n",
       "            </tr>\n",
       "            <tr>\n",
       "                        <th id=\"T_fd02aa52_d2b8_11e9_9e5c_00216ae618a7level0_row10\" class=\"row_heading level0 row10\" >Nd</th>\n",
       "                        <td id=\"T_fd02aa52_d2b8_11e9_9e5c_00216ae618a7row10_col0\" class=\"data row10 col0\" ></td>\n",
       "                        <td id=\"T_fd02aa52_d2b8_11e9_9e5c_00216ae618a7row10_col1\" class=\"data row10 col1\" >-0.034</td>\n",
       "                        <td id=\"T_fd02aa52_d2b8_11e9_9e5c_00216ae618a7row10_col2\" class=\"data row10 col2\" ></td>\n",
       "                        <td id=\"T_fd02aa52_d2b8_11e9_9e5c_00216ae618a7row10_col3\" class=\"data row10 col3\" >0.158</td>\n",
       "                        <td id=\"T_fd02aa52_d2b8_11e9_9e5c_00216ae618a7row10_col4\" class=\"data row10 col4\" ></td>\n",
       "                        <td id=\"T_fd02aa52_d2b8_11e9_9e5c_00216ae618a7row10_col5\" class=\"data row10 col5\" >-0.142</td>\n",
       "                        <td id=\"T_fd02aa52_d2b8_11e9_9e5c_00216ae618a7row10_col6\" class=\"data row10 col6\" ></td>\n",
       "                        <td id=\"T_fd02aa52_d2b8_11e9_9e5c_00216ae618a7row10_col7\" class=\"data row10 col7\" ></td>\n",
       "            </tr>\n",
       "            <tr>\n",
       "                        <th id=\"T_fd02aa52_d2b8_11e9_9e5c_00216ae618a7level0_row11\" class=\"row_heading level0 row11\" >Sm</th>\n",
       "                        <td id=\"T_fd02aa52_d2b8_11e9_9e5c_00216ae618a7row11_col0\" class=\"data row11 col0\" >-0.075</td>\n",
       "                        <td id=\"T_fd02aa52_d2b8_11e9_9e5c_00216ae618a7row11_col1\" class=\"data row11 col1\" >0.393</td>\n",
       "                        <td id=\"T_fd02aa52_d2b8_11e9_9e5c_00216ae618a7row11_col2\" class=\"data row11 col2\" ></td>\n",
       "                        <td id=\"T_fd02aa52_d2b8_11e9_9e5c_00216ae618a7row11_col3\" class=\"data row11 col3\" >0.198</td>\n",
       "                        <td id=\"T_fd02aa52_d2b8_11e9_9e5c_00216ae618a7row11_col4\" class=\"data row11 col4\" ></td>\n",
       "                        <td id=\"T_fd02aa52_d2b8_11e9_9e5c_00216ae618a7row11_col5\" class=\"data row11 col5\" >-0.619</td>\n",
       "                        <td id=\"T_fd02aa52_d2b8_11e9_9e5c_00216ae618a7row11_col6\" class=\"data row11 col6\" >0.092</td>\n",
       "                        <td id=\"T_fd02aa52_d2b8_11e9_9e5c_00216ae618a7row11_col7\" class=\"data row11 col7\" ></td>\n",
       "            </tr>\n",
       "            <tr>\n",
       "                        <th id=\"T_fd02aa52_d2b8_11e9_9e5c_00216ae618a7level0_row12\" class=\"row_heading level0 row12\" >Gd</th>\n",
       "                        <td id=\"T_fd02aa52_d2b8_11e9_9e5c_00216ae618a7row12_col0\" class=\"data row12 col0\" ></td>\n",
       "                        <td id=\"T_fd02aa52_d2b8_11e9_9e5c_00216ae618a7row12_col1\" class=\"data row12 col1\" >1.063</td>\n",
       "                        <td id=\"T_fd02aa52_d2b8_11e9_9e5c_00216ae618a7row12_col2\" class=\"data row12 col2\" ></td>\n",
       "                        <td id=\"T_fd02aa52_d2b8_11e9_9e5c_00216ae618a7row12_col3\" class=\"data row12 col3\" >0.288</td>\n",
       "                        <td id=\"T_fd02aa52_d2b8_11e9_9e5c_00216ae618a7row12_col4\" class=\"data row12 col4\" >-1.345</td>\n",
       "                        <td id=\"T_fd02aa52_d2b8_11e9_9e5c_00216ae618a7row12_col5\" class=\"data row12 col5\" >-0.699</td>\n",
       "                        <td id=\"T_fd02aa52_d2b8_11e9_9e5c_00216ae618a7row12_col6\" class=\"data row12 col6\" >0.251</td>\n",
       "                        <td id=\"T_fd02aa52_d2b8_11e9_9e5c_00216ae618a7row12_col7\" class=\"data row12 col7\" >0.045</td>\n",
       "            </tr>\n",
       "            <tr>\n",
       "                        <th id=\"T_fd02aa52_d2b8_11e9_9e5c_00216ae618a7level0_row13\" class=\"row_heading level0 row13\" >Yb</th>\n",
       "                        <td id=\"T_fd02aa52_d2b8_11e9_9e5c_00216ae618a7row13_col0\" class=\"data row13 col0\" >-0.422</td>\n",
       "                        <td id=\"T_fd02aa52_d2b8_11e9_9e5c_00216ae618a7row13_col1\" class=\"data row13 col1\" >-0.931</td>\n",
       "                        <td id=\"T_fd02aa52_d2b8_11e9_9e5c_00216ae618a7row13_col2\" class=\"data row13 col2\" >-0.071</td>\n",
       "                        <td id=\"T_fd02aa52_d2b8_11e9_9e5c_00216ae618a7row13_col3\" class=\"data row13 col3\" >0.08</td>\n",
       "                        <td id=\"T_fd02aa52_d2b8_11e9_9e5c_00216ae618a7row13_col4\" class=\"data row13 col4\" >1.047</td>\n",
       "                        <td id=\"T_fd02aa52_d2b8_11e9_9e5c_00216ae618a7row13_col5\" class=\"data row13 col5\" >1.329</td>\n",
       "                        <td id=\"T_fd02aa52_d2b8_11e9_9e5c_00216ae618a7row13_col6\" class=\"data row13 col6\" >-1.283</td>\n",
       "                        <td id=\"T_fd02aa52_d2b8_11e9_9e5c_00216ae618a7row13_col7\" class=\"data row13 col7\" >0.17</td>\n",
       "            </tr>\n",
       "            <tr>\n",
       "                        <th id=\"T_fd02aa52_d2b8_11e9_9e5c_00216ae618a7level0_row14\" class=\"row_heading level0 row14\" >Lu</th>\n",
       "                        <td id=\"T_fd02aa52_d2b8_11e9_9e5c_00216ae618a7row14_col0\" class=\"data row14 col0\" >0.967</td>\n",
       "                        <td id=\"T_fd02aa52_d2b8_11e9_9e5c_00216ae618a7row14_col1\" class=\"data row14 col1\" >-0.326</td>\n",
       "                        <td id=\"T_fd02aa52_d2b8_11e9_9e5c_00216ae618a7row14_col2\" class=\"data row14 col2\" >-0.051</td>\n",
       "                        <td id=\"T_fd02aa52_d2b8_11e9_9e5c_00216ae618a7row14_col3\" class=\"data row14 col3\" ></td>\n",
       "                        <td id=\"T_fd02aa52_d2b8_11e9_9e5c_00216ae618a7row14_col4\" class=\"data row14 col4\" >0.191</td>\n",
       "                        <td id=\"T_fd02aa52_d2b8_11e9_9e5c_00216ae618a7row14_col5\" class=\"data row14 col5\" >0.511</td>\n",
       "                        <td id=\"T_fd02aa52_d2b8_11e9_9e5c_00216ae618a7row14_col6\" class=\"data row14 col6\" >-1.406</td>\n",
       "                        <td id=\"T_fd02aa52_d2b8_11e9_9e5c_00216ae618a7row14_col7\" class=\"data row14 col7\" ></td>\n",
       "            </tr>\n",
       "            <tr>\n",
       "                        <th id=\"T_fd02aa52_d2b8_11e9_9e5c_00216ae618a7level0_row15\" class=\"row_heading level0 row15\" >Ba</th>\n",
       "                        <td id=\"T_fd02aa52_d2b8_11e9_9e5c_00216ae618a7row15_col0\" class=\"data row15 col0\" >-1.472</td>\n",
       "                        <td id=\"T_fd02aa52_d2b8_11e9_9e5c_00216ae618a7row15_col1\" class=\"data row15 col1\" >1.039</td>\n",
       "                        <td id=\"T_fd02aa52_d2b8_11e9_9e5c_00216ae618a7row15_col2\" class=\"data row15 col2\" >0.736</td>\n",
       "                        <td id=\"T_fd02aa52_d2b8_11e9_9e5c_00216ae618a7row15_col3\" class=\"data row15 col3\" >-0.675</td>\n",
       "                        <td id=\"T_fd02aa52_d2b8_11e9_9e5c_00216ae618a7row15_col4\" class=\"data row15 col4\" >0.927</td>\n",
       "                        <td id=\"T_fd02aa52_d2b8_11e9_9e5c_00216ae618a7row15_col5\" class=\"data row15 col5\" >0.557</td>\n",
       "                        <td id=\"T_fd02aa52_d2b8_11e9_9e5c_00216ae618a7row15_col6\" class=\"data row15 col6\" >-0.861</td>\n",
       "                        <td id=\"T_fd02aa52_d2b8_11e9_9e5c_00216ae618a7row15_col7\" class=\"data row15 col7\" >-0.216</td>\n",
       "            </tr>\n",
       "            <tr>\n",
       "                        <th id=\"T_fd02aa52_d2b8_11e9_9e5c_00216ae618a7level0_row16\" class=\"row_heading level0 row16\" >Hf</th>\n",
       "                        <td id=\"T_fd02aa52_d2b8_11e9_9e5c_00216ae618a7row16_col0\" class=\"data row16 col0\" >-0.738</td>\n",
       "                        <td id=\"T_fd02aa52_d2b8_11e9_9e5c_00216ae618a7row16_col1\" class=\"data row16 col1\" >0.329</td>\n",
       "                        <td id=\"T_fd02aa52_d2b8_11e9_9e5c_00216ae618a7row16_col2\" class=\"data row16 col2\" >0.152</td>\n",
       "                        <td id=\"T_fd02aa52_d2b8_11e9_9e5c_00216ae618a7row16_col3\" class=\"data row16 col3\" >-1.036</td>\n",
       "                        <td id=\"T_fd02aa52_d2b8_11e9_9e5c_00216ae618a7row16_col4\" class=\"data row16 col4\" >-0.436</td>\n",
       "                        <td id=\"T_fd02aa52_d2b8_11e9_9e5c_00216ae618a7row16_col5\" class=\"data row16 col5\" ></td>\n",
       "                        <td id=\"T_fd02aa52_d2b8_11e9_9e5c_00216ae618a7row16_col6\" class=\"data row16 col6\" >1.03</td>\n",
       "                        <td id=\"T_fd02aa52_d2b8_11e9_9e5c_00216ae618a7row16_col7\" class=\"data row16 col7\" >0.154</td>\n",
       "            </tr>\n",
       "            <tr>\n",
       "                        <th id=\"T_fd02aa52_d2b8_11e9_9e5c_00216ae618a7level0_row17\" class=\"row_heading level0 row17\" >Nb</th>\n",
       "                        <td id=\"T_fd02aa52_d2b8_11e9_9e5c_00216ae618a7row17_col0\" class=\"data row17 col0\" >0.46</td>\n",
       "                        <td id=\"T_fd02aa52_d2b8_11e9_9e5c_00216ae618a7row17_col1\" class=\"data row17 col1\" >-1.61</td>\n",
       "                        <td id=\"T_fd02aa52_d2b8_11e9_9e5c_00216ae618a7row17_col2\" class=\"data row17 col2\" ></td>\n",
       "                        <td id=\"T_fd02aa52_d2b8_11e9_9e5c_00216ae618a7row17_col3\" class=\"data row17 col3\" >-0.311</td>\n",
       "                        <td id=\"T_fd02aa52_d2b8_11e9_9e5c_00216ae618a7row17_col4\" class=\"data row17 col4\" >-0.948</td>\n",
       "                        <td id=\"T_fd02aa52_d2b8_11e9_9e5c_00216ae618a7row17_col5\" class=\"data row17 col5\" >1.555</td>\n",
       "                        <td id=\"T_fd02aa52_d2b8_11e9_9e5c_00216ae618a7row17_col6\" class=\"data row17 col6\" >0.652</td>\n",
       "                        <td id=\"T_fd02aa52_d2b8_11e9_9e5c_00216ae618a7row17_col7\" class=\"data row17 col7\" >0.097</td>\n",
       "            </tr>\n",
       "            <tr>\n",
       "                        <th id=\"T_fd02aa52_d2b8_11e9_9e5c_00216ae618a7level0_row18\" class=\"row_heading level0 row18\" >Rb</th>\n",
       "                        <td id=\"T_fd02aa52_d2b8_11e9_9e5c_00216ae618a7row18_col0\" class=\"data row18 col0\" ></td>\n",
       "                        <td id=\"T_fd02aa52_d2b8_11e9_9e5c_00216ae618a7row18_col1\" class=\"data row18 col1\" ></td>\n",
       "                        <td id=\"T_fd02aa52_d2b8_11e9_9e5c_00216ae618a7row18_col2\" class=\"data row18 col2\" >0.019</td>\n",
       "                        <td id=\"T_fd02aa52_d2b8_11e9_9e5c_00216ae618a7row18_col3\" class=\"data row18 col3\" >-0.286</td>\n",
       "                        <td id=\"T_fd02aa52_d2b8_11e9_9e5c_00216ae618a7row18_col4\" class=\"data row18 col4\" >0.401</td>\n",
       "                        <td id=\"T_fd02aa52_d2b8_11e9_9e5c_00216ae618a7row18_col5\" class=\"data row18 col5\" ></td>\n",
       "                        <td id=\"T_fd02aa52_d2b8_11e9_9e5c_00216ae618a7row18_col6\" class=\"data row18 col6\" >0.38</td>\n",
       "                        <td id=\"T_fd02aa52_d2b8_11e9_9e5c_00216ae618a7row18_col7\" class=\"data row18 col7\" >-0.976</td>\n",
       "            </tr>\n",
       "            <tr>\n",
       "                        <th id=\"T_fd02aa52_d2b8_11e9_9e5c_00216ae618a7level0_row19\" class=\"row_heading level0 row19\" >Sr</th>\n",
       "                        <td id=\"T_fd02aa52_d2b8_11e9_9e5c_00216ae618a7row19_col0\" class=\"data row19 col0\" ></td>\n",
       "                        <td id=\"T_fd02aa52_d2b8_11e9_9e5c_00216ae618a7row19_col1\" class=\"data row19 col1\" >1.59</td>\n",
       "                        <td id=\"T_fd02aa52_d2b8_11e9_9e5c_00216ae618a7row19_col2\" class=\"data row19 col2\" ></td>\n",
       "                        <td id=\"T_fd02aa52_d2b8_11e9_9e5c_00216ae618a7row19_col3\" class=\"data row19 col3\" >0.652</td>\n",
       "                        <td id=\"T_fd02aa52_d2b8_11e9_9e5c_00216ae618a7row19_col4\" class=\"data row19 col4\" ></td>\n",
       "                        <td id=\"T_fd02aa52_d2b8_11e9_9e5c_00216ae618a7row19_col5\" class=\"data row19 col5\" >-1.429</td>\n",
       "                        <td id=\"T_fd02aa52_d2b8_11e9_9e5c_00216ae618a7row19_col6\" class=\"data row19 col6\" >0.579</td>\n",
       "                        <td id=\"T_fd02aa52_d2b8_11e9_9e5c_00216ae618a7row19_col7\" class=\"data row19 col7\" >-1.744</td>\n",
       "            </tr>\n",
       "            <tr>\n",
       "                        <th id=\"T_fd02aa52_d2b8_11e9_9e5c_00216ae618a7level0_row20\" class=\"row_heading level0 row20\" >Ta</th>\n",
       "                        <td id=\"T_fd02aa52_d2b8_11e9_9e5c_00216ae618a7row20_col0\" class=\"data row20 col0\" >0.718</td>\n",
       "                        <td id=\"T_fd02aa52_d2b8_11e9_9e5c_00216ae618a7row20_col1\" class=\"data row20 col1\" >0.619</td>\n",
       "                        <td id=\"T_fd02aa52_d2b8_11e9_9e5c_00216ae618a7row20_col2\" class=\"data row20 col2\" >-0.116</td>\n",
       "                        <td id=\"T_fd02aa52_d2b8_11e9_9e5c_00216ae618a7row20_col3\" class=\"data row20 col3\" >-0.656</td>\n",
       "                        <td id=\"T_fd02aa52_d2b8_11e9_9e5c_00216ae618a7row20_col4\" class=\"data row20 col4\" >-0.683</td>\n",
       "                        <td id=\"T_fd02aa52_d2b8_11e9_9e5c_00216ae618a7row20_col5\" class=\"data row20 col5\" >0.622</td>\n",
       "                        <td id=\"T_fd02aa52_d2b8_11e9_9e5c_00216ae618a7row20_col6\" class=\"data row20 col6\" >-0.547</td>\n",
       "                        <td id=\"T_fd02aa52_d2b8_11e9_9e5c_00216ae618a7row20_col7\" class=\"data row20 col7\" >0.15</td>\n",
       "            </tr>\n",
       "            <tr>\n",
       "                        <th id=\"T_fd02aa52_d2b8_11e9_9e5c_00216ae618a7level0_row21\" class=\"row_heading level0 row21\" >Th</th>\n",
       "                        <td id=\"T_fd02aa52_d2b8_11e9_9e5c_00216ae618a7row21_col0\" class=\"data row21 col0\" ></td>\n",
       "                        <td id=\"T_fd02aa52_d2b8_11e9_9e5c_00216ae618a7row21_col1\" class=\"data row21 col1\" >0.008</td>\n",
       "                        <td id=\"T_fd02aa52_d2b8_11e9_9e5c_00216ae618a7row21_col2\" class=\"data row21 col2\" >-0.307</td>\n",
       "                        <td id=\"T_fd02aa52_d2b8_11e9_9e5c_00216ae618a7row21_col3\" class=\"data row21 col3\" >-0.893</td>\n",
       "                        <td id=\"T_fd02aa52_d2b8_11e9_9e5c_00216ae618a7row21_col4\" class=\"data row21 col4\" >1.092</td>\n",
       "                        <td id=\"T_fd02aa52_d2b8_11e9_9e5c_00216ae618a7row21_col5\" class=\"data row21 col5\" ></td>\n",
       "                        <td id=\"T_fd02aa52_d2b8_11e9_9e5c_00216ae618a7row21_col6\" class=\"data row21 col6\" >0.435</td>\n",
       "                        <td id=\"T_fd02aa52_d2b8_11e9_9e5c_00216ae618a7row21_col7\" class=\"data row21 col7\" >-0.065</td>\n",
       "            </tr>\n",
       "            <tr>\n",
       "                        <th id=\"T_fd02aa52_d2b8_11e9_9e5c_00216ae618a7level0_row22\" class=\"row_heading level0 row22\" >Y</th>\n",
       "                        <td id=\"T_fd02aa52_d2b8_11e9_9e5c_00216ae618a7row22_col0\" class=\"data row22 col0\" >-0.134</td>\n",
       "                        <td id=\"T_fd02aa52_d2b8_11e9_9e5c_00216ae618a7row22_col1\" class=\"data row22 col1\" >-0.233</td>\n",
       "                        <td id=\"T_fd02aa52_d2b8_11e9_9e5c_00216ae618a7row22_col2\" class=\"data row22 col2\" ></td>\n",
       "                        <td id=\"T_fd02aa52_d2b8_11e9_9e5c_00216ae618a7row22_col3\" class=\"data row22 col3\" ></td>\n",
       "                        <td id=\"T_fd02aa52_d2b8_11e9_9e5c_00216ae618a7row22_col4\" class=\"data row22 col4\" ></td>\n",
       "                        <td id=\"T_fd02aa52_d2b8_11e9_9e5c_00216ae618a7row22_col5\" class=\"data row22 col5\" >0.224</td>\n",
       "                        <td id=\"T_fd02aa52_d2b8_11e9_9e5c_00216ae618a7row22_col6\" class=\"data row22 col6\" >0.501</td>\n",
       "                        <td id=\"T_fd02aa52_d2b8_11e9_9e5c_00216ae618a7row22_col7\" class=\"data row22 col7\" >-0.008</td>\n",
       "            </tr>\n",
       "            <tr>\n",
       "                        <th id=\"T_fd02aa52_d2b8_11e9_9e5c_00216ae618a7level0_row23\" class=\"row_heading level0 row23\" >Zr</th>\n",
       "                        <td id=\"T_fd02aa52_d2b8_11e9_9e5c_00216ae618a7row23_col0\" class=\"data row23 col0\" >-0.694</td>\n",
       "                        <td id=\"T_fd02aa52_d2b8_11e9_9e5c_00216ae618a7row23_col1\" class=\"data row23 col1\" >0.004</td>\n",
       "                        <td id=\"T_fd02aa52_d2b8_11e9_9e5c_00216ae618a7row23_col2\" class=\"data row23 col2\" >0.055</td>\n",
       "                        <td id=\"T_fd02aa52_d2b8_11e9_9e5c_00216ae618a7row23_col3\" class=\"data row23 col3\" >-0.568</td>\n",
       "                        <td id=\"T_fd02aa52_d2b8_11e9_9e5c_00216ae618a7row23_col4\" class=\"data row23 col4\" >-0.789</td>\n",
       "                        <td id=\"T_fd02aa52_d2b8_11e9_9e5c_00216ae618a7row23_col5\" class=\"data row23 col5\" ></td>\n",
       "                        <td id=\"T_fd02aa52_d2b8_11e9_9e5c_00216ae618a7row23_col6\" class=\"data row23 col6\" >1.659</td>\n",
       "                        <td id=\"T_fd02aa52_d2b8_11e9_9e5c_00216ae618a7row23_col7\" class=\"data row23 col7\" >0.037</td>\n",
       "            </tr>\n",
       "            <tr>\n",
       "                        <th id=\"T_fd02aa52_d2b8_11e9_9e5c_00216ae618a7level0_row24\" class=\"row_heading level0 row24\" >Sr87Sr86</th>\n",
       "                        <td id=\"T_fd02aa52_d2b8_11e9_9e5c_00216ae618a7row24_col0\" class=\"data row24 col0\" >-0.425</td>\n",
       "                        <td id=\"T_fd02aa52_d2b8_11e9_9e5c_00216ae618a7row24_col1\" class=\"data row24 col1\" >0.0</td>\n",
       "                        <td id=\"T_fd02aa52_d2b8_11e9_9e5c_00216ae618a7row24_col2\" class=\"data row24 col2\" >1.097</td>\n",
       "                        <td id=\"T_fd02aa52_d2b8_11e9_9e5c_00216ae618a7row24_col3\" class=\"data row24 col3\" >0.352</td>\n",
       "                        <td id=\"T_fd02aa52_d2b8_11e9_9e5c_00216ae618a7row24_col4\" class=\"data row24 col4\" >-1.564</td>\n",
       "                        <td id=\"T_fd02aa52_d2b8_11e9_9e5c_00216ae618a7row24_col5\" class=\"data row24 col5\" >-0.221</td>\n",
       "                        <td id=\"T_fd02aa52_d2b8_11e9_9e5c_00216ae618a7row24_col6\" class=\"data row24 col6\" >-0.068</td>\n",
       "                        <td id=\"T_fd02aa52_d2b8_11e9_9e5c_00216ae618a7row24_col7\" class=\"data row24 col7\" >1.175</td>\n",
       "            </tr>\n",
       "            <tr>\n",
       "                        <th id=\"T_fd02aa52_d2b8_11e9_9e5c_00216ae618a7level0_row25\" class=\"row_heading level0 row25\" >Nd143Nd144</th>\n",
       "                        <td id=\"T_fd02aa52_d2b8_11e9_9e5c_00216ae618a7row25_col0\" class=\"data row25 col0\" >1.068</td>\n",
       "                        <td id=\"T_fd02aa52_d2b8_11e9_9e5c_00216ae618a7row25_col1\" class=\"data row25 col1\" >-1.035</td>\n",
       "                        <td id=\"T_fd02aa52_d2b8_11e9_9e5c_00216ae618a7row25_col2\" class=\"data row25 col2\" >-3.167</td>\n",
       "                        <td id=\"T_fd02aa52_d2b8_11e9_9e5c_00216ae618a7row25_col3\" class=\"data row25 col3\" >2.534</td>\n",
       "                        <td id=\"T_fd02aa52_d2b8_11e9_9e5c_00216ae618a7row25_col4\" class=\"data row25 col4\" >-0.0</td>\n",
       "                        <td id=\"T_fd02aa52_d2b8_11e9_9e5c_00216ae618a7row25_col5\" class=\"data row25 col5\" >0.553</td>\n",
       "                        <td id=\"T_fd02aa52_d2b8_11e9_9e5c_00216ae618a7row25_col6\" class=\"data row25 col6\" >1.045</td>\n",
       "                        <td id=\"T_fd02aa52_d2b8_11e9_9e5c_00216ae618a7row25_col7\" class=\"data row25 col7\" >-1.195</td>\n",
       "            </tr>\n",
       "            <tr>\n",
       "                        <th id=\"T_fd02aa52_d2b8_11e9_9e5c_00216ae618a7level0_row26\" class=\"row_heading level0 row26\" >Pb206Pb204</th>\n",
       "                        <td id=\"T_fd02aa52_d2b8_11e9_9e5c_00216ae618a7row26_col0\" class=\"data row26 col0\" ></td>\n",
       "                        <td id=\"T_fd02aa52_d2b8_11e9_9e5c_00216ae618a7row26_col1\" class=\"data row26 col1\" >0.937</td>\n",
       "                        <td id=\"T_fd02aa52_d2b8_11e9_9e5c_00216ae618a7row26_col2\" class=\"data row26 col2\" >-0.34</td>\n",
       "                        <td id=\"T_fd02aa52_d2b8_11e9_9e5c_00216ae618a7row26_col3\" class=\"data row26 col3\" >-0.003</td>\n",
       "                        <td id=\"T_fd02aa52_d2b8_11e9_9e5c_00216ae618a7row26_col4\" class=\"data row26 col4\" >-0.23</td>\n",
       "                        <td id=\"T_fd02aa52_d2b8_11e9_9e5c_00216ae618a7row26_col5\" class=\"data row26 col5\" >0.047</td>\n",
       "                        <td id=\"T_fd02aa52_d2b8_11e9_9e5c_00216ae618a7row26_col6\" class=\"data row26 col6\" >0.757</td>\n",
       "                        <td id=\"T_fd02aa52_d2b8_11e9_9e5c_00216ae618a7row26_col7\" class=\"data row26 col7\" >-1.035</td>\n",
       "            </tr>\n",
       "            <tr>\n",
       "                        <th id=\"T_fd02aa52_d2b8_11e9_9e5c_00216ae618a7level0_row27\" class=\"row_heading level0 row27\" >Pb207Pb204</th>\n",
       "                        <td id=\"T_fd02aa52_d2b8_11e9_9e5c_00216ae618a7row27_col0\" class=\"data row27 col0\" >-0.231</td>\n",
       "                        <td id=\"T_fd02aa52_d2b8_11e9_9e5c_00216ae618a7row27_col1\" class=\"data row27 col1\" >1.597</td>\n",
       "                        <td id=\"T_fd02aa52_d2b8_11e9_9e5c_00216ae618a7row27_col2\" class=\"data row27 col2\" >-0.43</td>\n",
       "                        <td id=\"T_fd02aa52_d2b8_11e9_9e5c_00216ae618a7row27_col3\" class=\"data row27 col3\" >0.482</td>\n",
       "                        <td id=\"T_fd02aa52_d2b8_11e9_9e5c_00216ae618a7row27_col4\" class=\"data row27 col4\" >0.989</td>\n",
       "                        <td id=\"T_fd02aa52_d2b8_11e9_9e5c_00216ae618a7row27_col5\" class=\"data row27 col5\" >-0.376</td>\n",
       "                        <td id=\"T_fd02aa52_d2b8_11e9_9e5c_00216ae618a7row27_col6\" class=\"data row27 col6\" >-2.321</td>\n",
       "                        <td id=\"T_fd02aa52_d2b8_11e9_9e5c_00216ae618a7row27_col7\" class=\"data row27 col7\" >0.232</td>\n",
       "            </tr>\n",
       "            <tr>\n",
       "                        <th id=\"T_fd02aa52_d2b8_11e9_9e5c_00216ae618a7level0_row28\" class=\"row_heading level0 row28\" >Pb208Pb204</th>\n",
       "                        <td id=\"T_fd02aa52_d2b8_11e9_9e5c_00216ae618a7row28_col0\" class=\"data row28 col0\" >0.243</td>\n",
       "                        <td id=\"T_fd02aa52_d2b8_11e9_9e5c_00216ae618a7row28_col1\" class=\"data row28 col1\" >-1.76</td>\n",
       "                        <td id=\"T_fd02aa52_d2b8_11e9_9e5c_00216ae618a7row28_col2\" class=\"data row28 col2\" >0.362</td>\n",
       "                        <td id=\"T_fd02aa52_d2b8_11e9_9e5c_00216ae618a7row28_col3\" class=\"data row28 col3\" >0.278</td>\n",
       "                        <td id=\"T_fd02aa52_d2b8_11e9_9e5c_00216ae618a7row28_col4\" class=\"data row28 col4\" >0.618</td>\n",
       "                        <td id=\"T_fd02aa52_d2b8_11e9_9e5c_00216ae618a7row28_col5\" class=\"data row28 col5\" ></td>\n",
       "                        <td id=\"T_fd02aa52_d2b8_11e9_9e5c_00216ae618a7row28_col6\" class=\"data row28 col6\" >-0.797</td>\n",
       "                        <td id=\"T_fd02aa52_d2b8_11e9_9e5c_00216ae618a7row28_col7\" class=\"data row28 col7\" >0.287</td>\n",
       "            </tr>\n",
       "    </tbody></table>"
      ],
      "text/plain": [
       "<pandas.io.formats.style.Styler at 0x1a7ae982550>"
      ]
     },
     "execution_count": 19,
     "metadata": {},
     "output_type": "execute_result"
    }
   ],
   "source": [
    "coefs = pd.DataFrame(data=lr.coef_, index=lr.classes_, columns = X.columns).T\n",
    "coefs.style.format(lambda x: \"\" if np.isclose(x, 0) else np.round(x, 3)\n",
    "                  ).background_gradient(cmap='viridis', axis=None)"
   ]
  },
  {
   "cell_type": "markdown",
   "metadata": {
    "slideshow": {
     "slide_type": "slide"
    }
   },
   "source": [
    "### An Extended Workflow for Support Vector Classifiers: Gridsearch for Parameter Optimisation"
   ]
  },
  {
   "cell_type": "code",
   "execution_count": 20,
   "metadata": {
    "slideshow": {
     "slide_type": "subslide"
    }
   },
   "outputs": [],
   "source": [
    "preprocessor = PdUnion(\n",
    "    [\n",
    "        make_pipeline(CompositionalSelector(), CLRTransform()),\n",
    "        make_pipeline(CompositionalSelector(inverse=True), LinearTransform()),\n",
    "    ]\n",
    ")\n",
    "XX_ = StandardScaler().fit_transform(preprocessor.fit_transform(X))"
   ]
  },
  {
   "cell_type": "code",
   "execution_count": 21,
   "metadata": {
    "slideshow": {
     "slide_type": "fragment"
    }
   },
   "outputs": [],
   "source": [
    "XX_train, XX_test, yy_train, yy_test = train_test_split(XX_, \n",
    "                                                        y, \n",
    "                                                        stratify=y, \n",
    "                                                        test_size=0.3)"
   ]
  },
  {
   "cell_type": "markdown",
   "metadata": {
    "slideshow": {
     "slide_type": "subslide"
    }
   },
   "source": [
    "We can see how this preprocessing improves our other simple classifiers:"
   ]
  },
  {
   "cell_type": "code",
   "execution_count": 22,
   "metadata": {
    "slideshow": {
     "slide_type": "fragment"
    }
   },
   "outputs": [],
   "source": [
    "lr2 = LogisticRegression(multi_class=\"multinomial\",\n",
    "                         solver=\"saga\", \n",
    "                         penalty=\"l1\")\n",
    "lr2.fit(XX_train, yy_train)\n",
    "lr2score = lr2.score(XX_test, yy_test) "
   ]
  },
  {
   "cell_type": "code",
   "execution_count": 23,
   "metadata": {
    "slideshow": {
     "slide_type": "fragment"
    }
   },
   "outputs": [],
   "source": [
    "rf2 = RandomForestClassifier()\n",
    "rf2.fit(XX_train, yy_train)\n",
    "rf2score = rf2.score(XX_test, yy_test)"
   ]
  },
  {
   "cell_type": "code",
   "execution_count": 24,
   "metadata": {
    "slideshow": {
     "slide_type": "fragment"
    }
   },
   "outputs": [],
   "source": [
    "svc2 = SVC(kernel='rbf')\n",
    "svc2.fit(XX_train, yy_train)\n",
    "svc2score = svc2.score(XX_test, yy_test)"
   ]
  },
  {
   "cell_type": "markdown",
   "metadata": {
    "slideshow": {
     "slide_type": "subslide"
    }
   },
   "source": [
    "Now we can build an optimised classifier, in this case using a pipeline constructor from pyrolite:"
   ]
  },
  {
   "cell_type": "code",
   "execution_count": 25,
   "metadata": {
    "slideshow": {
     "slide_type": "fragment"
    }
   },
   "outputs": [
    {
     "name": "stdout",
     "output_type": "stream",
     "text": [
      "Fitting 10 folds for each of 25 candidates, totalling 250 fits\n"
     ]
    },
    {
     "name": "stderr",
     "output_type": "stream",
     "text": [
      "[Parallel(n_jobs=4)]: Using backend LokyBackend with 4 concurrent workers.\n",
      "[Parallel(n_jobs=4)]: Done  42 tasks      | elapsed:    8.6s\n",
      "[Parallel(n_jobs=4)]: Done 192 tasks      | elapsed:   22.7s\n",
      "[Parallel(n_jobs=4)]: Done 250 out of 250 | elapsed:   28.0s finished\n"
     ]
    }
   ],
   "source": [
    "gs = SVC_pipeline(verbose=1,\n",
    "                  probability=True,\n",
    "                  param_grid=dict(\n",
    "                      svc__gamma=np.logspace(-2.3, -0.85, 5),\n",
    "                      svc__C=np.logspace(-0.5, 2, 5),  # limit C parameter to avoid overfitting\n",
    "                  ))\n",
    "gs.fit(XX_train, yy_train);"
   ]
  },
  {
   "cell_type": "code",
   "execution_count": 26,
   "metadata": {
    "slideshow": {
     "slide_type": "fragment"
    }
   },
   "outputs": [
    {
     "data": {
      "text/plain": [
       "'Overall Accuracy: 95.5%'"
      ]
     },
     "execution_count": 26,
     "metadata": {},
     "output_type": "execute_result"
    }
   ],
   "source": [
    "svcgsscore = gs.best_estimator_.score(XX_test, yy_test)\n",
    "\"Overall Accuracy: {:.1f}%\".format(svcgsscore*100)"
   ]
  },
  {
   "cell_type": "code",
   "execution_count": 27,
   "metadata": {
    "slideshow": {
     "slide_type": "subslide"
    }
   },
   "outputs": [
    {
     "data": {
      "image/png": "[encoded data removed]",
      "text/plain": [
       "<Figure size 432x288 with 2 Axes>"
      ]
     },
     "metadata": {
      "needs_background": "light"
     },
     "output_type": "display_data"
    }
   ],
   "source": [
    "plot_confusion_matrix(\n",
    "    gs.best_estimator_, XX_test, yy_test, normalize=True\n",
    ");"
   ]
  },
  {
   "cell_type": "code",
   "execution_count": 28,
   "metadata": {
    "slideshow": {
     "slide_type": "notes"
    }
   },
   "outputs": [
    {
     "data": {
      "image/png": "[encoded data removed]",
      "text/plain": [
       "<Figure size 432x288 with 2 Axes>"
      ]
     },
     "metadata": {
      "needs_background": "light"
     },
     "output_type": "display_data"
    }
   ],
   "source": [
    "from pyrolite.util.plot import save_figure\n",
    "save_figure(plot_confusion_matrix(gs.best_estimator_, XX_test, yy_test, normalize=True).figure,\n",
    "            save_at=\"../presentation/figures/\", \n",
    "            name='GS_SVC_ConfMatrix', \n",
    "            save_fmts=['pdf', 'png'])"
   ]
  },
  {
   "cell_type": "code",
   "execution_count": 29,
   "metadata": {
    "slideshow": {
     "slide_type": "subslide"
    }
   },
   "outputs": [
    {
     "data": {
      "text/html": [
       "<style  type=\"text/css\" >\n",
       "    #T_109237e8_d2b9_11e9_8721_00216ae618a7row0_col1 {\n",
       "            background-color:  #f7fbff;\n",
       "            color:  #000000;\n",
       "        }    #T_109237e8_d2b9_11e9_8721_00216ae618a7row0_col2 {\n",
       "            background-color:  #f7fbff;\n",
       "            color:  #000000;\n",
       "        }    #T_109237e8_d2b9_11e9_8721_00216ae618a7row0_col3 {\n",
       "            background-color:  #f7fbff;\n",
       "            color:  #000000;\n",
       "        }    #T_109237e8_d2b9_11e9_8721_00216ae618a7row0_col4 {\n",
       "            background-color:  #f5fafe;\n",
       "            color:  #000000;\n",
       "        }    #T_109237e8_d2b9_11e9_8721_00216ae618a7row0_col5 {\n",
       "            background-color:  #08306b;\n",
       "            color:  #f1f1f1;\n",
       "        }    #T_109237e8_d2b9_11e9_8721_00216ae618a7row0_col6 {\n",
       "            background-color:  #f7fbff;\n",
       "            color:  #000000;\n",
       "        }    #T_109237e8_d2b9_11e9_8721_00216ae618a7row0_col7 {\n",
       "            background-color:  #f7fbff;\n",
       "            color:  #000000;\n",
       "        }    #T_109237e8_d2b9_11e9_8721_00216ae618a7row0_col8 {\n",
       "            background-color:  #f3f8fe;\n",
       "            color:  #000000;\n",
       "        }    #T_109237e8_d2b9_11e9_8721_00216ae618a7row1_col1 {\n",
       "            background-color:  #f7fbff;\n",
       "            color:  #000000;\n",
       "        }    #T_109237e8_d2b9_11e9_8721_00216ae618a7row1_col2 {\n",
       "            background-color:  #f7fbff;\n",
       "            color:  #000000;\n",
       "        }    #T_109237e8_d2b9_11e9_8721_00216ae618a7row1_col3 {\n",
       "            background-color:  #f7fbff;\n",
       "            color:  #000000;\n",
       "        }    #T_109237e8_d2b9_11e9_8721_00216ae618a7row1_col4 {\n",
       "            background-color:  #f6faff;\n",
       "            color:  #000000;\n",
       "        }    #T_109237e8_d2b9_11e9_8721_00216ae618a7row1_col5 {\n",
       "            background-color:  #f7fbff;\n",
       "            color:  #000000;\n",
       "        }    #T_109237e8_d2b9_11e9_8721_00216ae618a7row1_col6 {\n",
       "            background-color:  #08306b;\n",
       "            color:  #f1f1f1;\n",
       "        }    #T_109237e8_d2b9_11e9_8721_00216ae618a7row1_col7 {\n",
       "            background-color:  #f7fbff;\n",
       "            color:  #000000;\n",
       "        }    #T_109237e8_d2b9_11e9_8721_00216ae618a7row1_col8 {\n",
       "            background-color:  #f7fbff;\n",
       "            color:  #000000;\n",
       "        }    #T_109237e8_d2b9_11e9_8721_00216ae618a7row2_col1 {\n",
       "            background-color:  #f7fbff;\n",
       "            color:  #000000;\n",
       "        }    #T_109237e8_d2b9_11e9_8721_00216ae618a7row2_col2 {\n",
       "            background-color:  #f7fbff;\n",
       "            color:  #000000;\n",
       "        }    #T_109237e8_d2b9_11e9_8721_00216ae618a7row2_col3 {\n",
       "            background-color:  #f7fbff;\n",
       "            color:  #000000;\n",
       "        }    #T_109237e8_d2b9_11e9_8721_00216ae618a7row2_col4 {\n",
       "            background-color:  #8fc2de;\n",
       "            color:  #000000;\n",
       "        }    #T_109237e8_d2b9_11e9_8721_00216ae618a7row2_col5 {\n",
       "            background-color:  #f7fbff;\n",
       "            color:  #000000;\n",
       "        }    #T_109237e8_d2b9_11e9_8721_00216ae618a7row2_col6 {\n",
       "            background-color:  #f6faff;\n",
       "            color:  #000000;\n",
       "        }    #T_109237e8_d2b9_11e9_8721_00216ae618a7row2_col7 {\n",
       "            background-color:  #08306b;\n",
       "            color:  #f1f1f1;\n",
       "        }    #T_109237e8_d2b9_11e9_8721_00216ae618a7row2_col8 {\n",
       "            background-color:  #f4f9fe;\n",
       "            color:  #000000;\n",
       "        }    #T_109237e8_d2b9_11e9_8721_00216ae618a7row3_col1 {\n",
       "            background-color:  #f6faff;\n",
       "            color:  #000000;\n",
       "        }    #T_109237e8_d2b9_11e9_8721_00216ae618a7row3_col2 {\n",
       "            background-color:  #f7fbff;\n",
       "            color:  #000000;\n",
       "        }    #T_109237e8_d2b9_11e9_8721_00216ae618a7row3_col3 {\n",
       "            background-color:  #f7fbff;\n",
       "            color:  #000000;\n",
       "        }    #T_109237e8_d2b9_11e9_8721_00216ae618a7row3_col4 {\n",
       "            background-color:  #08306b;\n",
       "            color:  #f1f1f1;\n",
       "        }    #T_109237e8_d2b9_11e9_8721_00216ae618a7row3_col5 {\n",
       "            background-color:  #f3f8fe;\n",
       "            color:  #000000;\n",
       "        }    #T_109237e8_d2b9_11e9_8721_00216ae618a7row3_col6 {\n",
       "            background-color:  #f7fbff;\n",
       "            color:  #000000;\n",
       "        }    #T_109237e8_d2b9_11e9_8721_00216ae618a7row3_col7 {\n",
       "            background-color:  #f2f7fd;\n",
       "            color:  #000000;\n",
       "        }    #T_109237e8_d2b9_11e9_8721_00216ae618a7row3_col8 {\n",
       "            background-color:  #eff6fc;\n",
       "            color:  #000000;\n",
       "        }    #T_109237e8_d2b9_11e9_8721_00216ae618a7row4_col1 {\n",
       "            background-color:  #f7fbff;\n",
       "            color:  #000000;\n",
       "        }    #T_109237e8_d2b9_11e9_8721_00216ae618a7row4_col2 {\n",
       "            background-color:  #f7fbff;\n",
       "            color:  #000000;\n",
       "        }    #T_109237e8_d2b9_11e9_8721_00216ae618a7row4_col3 {\n",
       "            background-color:  #f7fbff;\n",
       "            color:  #000000;\n",
       "        }    #T_109237e8_d2b9_11e9_8721_00216ae618a7row4_col4 {\n",
       "            background-color:  #f7fbff;\n",
       "            color:  #000000;\n",
       "        }    #T_109237e8_d2b9_11e9_8721_00216ae618a7row4_col5 {\n",
       "            background-color:  #08306b;\n",
       "            color:  #f1f1f1;\n",
       "        }    #T_109237e8_d2b9_11e9_8721_00216ae618a7row4_col6 {\n",
       "            background-color:  #f7fbff;\n",
       "            color:  #000000;\n",
       "        }    #T_109237e8_d2b9_11e9_8721_00216ae618a7row4_col7 {\n",
       "            background-color:  #f7fbff;\n",
       "            color:  #000000;\n",
       "        }    #T_109237e8_d2b9_11e9_8721_00216ae618a7row4_col8 {\n",
       "            background-color:  #f2f8fd;\n",
       "            color:  #000000;\n",
       "        }    #T_109237e8_d2b9_11e9_8721_00216ae618a7row5_col1 {\n",
       "            background-color:  #f7fbff;\n",
       "            color:  #000000;\n",
       "        }    #T_109237e8_d2b9_11e9_8721_00216ae618a7row5_col2 {\n",
       "            background-color:  #f7fbff;\n",
       "            color:  #000000;\n",
       "        }    #T_109237e8_d2b9_11e9_8721_00216ae618a7row5_col3 {\n",
       "            background-color:  #f7fbff;\n",
       "            color:  #000000;\n",
       "        }    #T_109237e8_d2b9_11e9_8721_00216ae618a7row5_col4 {\n",
       "            background-color:  #f5f9fe;\n",
       "            color:  #000000;\n",
       "        }    #T_109237e8_d2b9_11e9_8721_00216ae618a7row5_col5 {\n",
       "            background-color:  #f7fbff;\n",
       "            color:  #000000;\n",
       "        }    #T_109237e8_d2b9_11e9_8721_00216ae618a7row5_col6 {\n",
       "            background-color:  #f7fbff;\n",
       "            color:  #000000;\n",
       "        }    #T_109237e8_d2b9_11e9_8721_00216ae618a7row5_col7 {\n",
       "            background-color:  #08306b;\n",
       "            color:  #f1f1f1;\n",
       "        }    #T_109237e8_d2b9_11e9_8721_00216ae618a7row5_col8 {\n",
       "            background-color:  #f7fbff;\n",
       "            color:  #000000;\n",
       "        }    #T_109237e8_d2b9_11e9_8721_00216ae618a7row6_col1 {\n",
       "            background-color:  #f7fbff;\n",
       "            color:  #000000;\n",
       "        }    #T_109237e8_d2b9_11e9_8721_00216ae618a7row6_col2 {\n",
       "            background-color:  #f7fbff;\n",
       "            color:  #000000;\n",
       "        }    #T_109237e8_d2b9_11e9_8721_00216ae618a7row6_col3 {\n",
       "            background-color:  #f7fbff;\n",
       "            color:  #000000;\n",
       "        }    #T_109237e8_d2b9_11e9_8721_00216ae618a7row6_col4 {\n",
       "            background-color:  #ecf4fb;\n",
       "            color:  #000000;\n",
       "        }    #T_109237e8_d2b9_11e9_8721_00216ae618a7row6_col5 {\n",
       "            background-color:  #f7fbff;\n",
       "            color:  #000000;\n",
       "        }    #T_109237e8_d2b9_11e9_8721_00216ae618a7row6_col6 {\n",
       "            background-color:  #f7fbff;\n",
       "            color:  #000000;\n",
       "        }    #T_109237e8_d2b9_11e9_8721_00216ae618a7row6_col7 {\n",
       "            background-color:  #08306b;\n",
       "            color:  #f1f1f1;\n",
       "        }    #T_109237e8_d2b9_11e9_8721_00216ae618a7row6_col8 {\n",
       "            background-color:  #f6faff;\n",
       "            color:  #000000;\n",
       "        }    #T_109237e8_d2b9_11e9_8721_00216ae618a7row7_col1 {\n",
       "            background-color:  #f7fbff;\n",
       "            color:  #000000;\n",
       "        }    #T_109237e8_d2b9_11e9_8721_00216ae618a7row7_col2 {\n",
       "            background-color:  #eff6fc;\n",
       "            color:  #000000;\n",
       "        }    #T_109237e8_d2b9_11e9_8721_00216ae618a7row7_col3 {\n",
       "            background-color:  #f2f7fd;\n",
       "            color:  #000000;\n",
       "        }    #T_109237e8_d2b9_11e9_8721_00216ae618a7row7_col4 {\n",
       "            background-color:  #eff6fc;\n",
       "            color:  #000000;\n",
       "        }    #T_109237e8_d2b9_11e9_8721_00216ae618a7row7_col5 {\n",
       "            background-color:  #f7fbff;\n",
       "            color:  #000000;\n",
       "        }    #T_109237e8_d2b9_11e9_8721_00216ae618a7row7_col6 {\n",
       "            background-color:  #dfebf7;\n",
       "            color:  #000000;\n",
       "        }    #T_109237e8_d2b9_11e9_8721_00216ae618a7row7_col7 {\n",
       "            background-color:  #e7f1fa;\n",
       "            color:  #000000;\n",
       "        }    #T_109237e8_d2b9_11e9_8721_00216ae618a7row7_col8 {\n",
       "            background-color:  #08306b;\n",
       "            color:  #f1f1f1;\n",
       "        }</style><table id=\"T_109237e8_d2b9_11e9_8721_00216ae618a7\" ><thead>    <tr>        <th class=\"blank level0\" ></th>        <th class=\"col_heading level0 col0\" >Expect</th>        <th class=\"col_heading level0 col1\" >OP</th>        <th class=\"col_heading level0 col2\" >OI</th>        <th class=\"col_heading level0 col3\" >MOR</th>        <th class=\"col_heading level0 col4\" >IOA</th>        <th class=\"col_heading level0 col5\" >IA</th>        <th class=\"col_heading level0 col6\" >CFB</th>        <th class=\"col_heading level0 col7\" >CA</th>        <th class=\"col_heading level0 col8\" >BAB</th>    </tr></thead><tbody>\n",
       "                <tr>\n",
       "                        <th id=\"T_109237e8_d2b9_11e9_8721_00216ae618a7level0_row0\" class=\"row_heading level0 row0\" >0</th>\n",
       "                        <td id=\"T_109237e8_d2b9_11e9_8721_00216ae618a7row0_col0\" class=\"data row0 col0\" >IA</td>\n",
       "                        <td id=\"T_109237e8_d2b9_11e9_8721_00216ae618a7row0_col1\" class=\"data row0 col1\" >0.15</td>\n",
       "                        <td id=\"T_109237e8_d2b9_11e9_8721_00216ae618a7row0_col2\" class=\"data row0 col2\" >0.01</td>\n",
       "                        <td id=\"T_109237e8_d2b9_11e9_8721_00216ae618a7row0_col3\" class=\"data row0 col3\" >0.01</td>\n",
       "                        <td id=\"T_109237e8_d2b9_11e9_8721_00216ae618a7row0_col4\" class=\"data row0 col4\" >0.89</td>\n",
       "                        <td id=\"T_109237e8_d2b9_11e9_8721_00216ae618a7row0_col5\" class=\"data row0 col5\" >96.85</td>\n",
       "                        <td id=\"T_109237e8_d2b9_11e9_8721_00216ae618a7row0_col6\" class=\"data row0 col6\" >0.03</td>\n",
       "                        <td id=\"T_109237e8_d2b9_11e9_8721_00216ae618a7row0_col7\" class=\"data row0 col7\" >0.12</td>\n",
       "                        <td id=\"T_109237e8_d2b9_11e9_8721_00216ae618a7row0_col8\" class=\"data row0 col8\" >1.94</td>\n",
       "            </tr>\n",
       "            <tr>\n",
       "                        <th id=\"T_109237e8_d2b9_11e9_8721_00216ae618a7level0_row1\" class=\"row_heading level0 row1\" >1</th>\n",
       "                        <td id=\"T_109237e8_d2b9_11e9_8721_00216ae618a7row1_col0\" class=\"data row1 col0\" >CFB</td>\n",
       "                        <td id=\"T_109237e8_d2b9_11e9_8721_00216ae618a7row1_col1\" class=\"data row1 col1\" >0.19</td>\n",
       "                        <td id=\"T_109237e8_d2b9_11e9_8721_00216ae618a7row1_col2\" class=\"data row1 col2\" >0.06</td>\n",
       "                        <td id=\"T_109237e8_d2b9_11e9_8721_00216ae618a7row1_col3\" class=\"data row1 col3\" >0.16</td>\n",
       "                        <td id=\"T_109237e8_d2b9_11e9_8721_00216ae618a7row1_col4\" class=\"data row1 col4\" >0.52</td>\n",
       "                        <td id=\"T_109237e8_d2b9_11e9_8721_00216ae618a7row1_col5\" class=\"data row1 col5\" >0.23</td>\n",
       "                        <td id=\"T_109237e8_d2b9_11e9_8721_00216ae618a7row1_col6\" class=\"data row1 col6\" >98.35</td>\n",
       "                        <td id=\"T_109237e8_d2b9_11e9_8721_00216ae618a7row1_col7\" class=\"data row1 col7\" >0.29</td>\n",
       "                        <td id=\"T_109237e8_d2b9_11e9_8721_00216ae618a7row1_col8\" class=\"data row1 col8\" >0.19</td>\n",
       "            </tr>\n",
       "            <tr>\n",
       "                        <th id=\"T_109237e8_d2b9_11e9_8721_00216ae618a7level0_row2\" class=\"row_heading level0 row2\" >2</th>\n",
       "                        <td id=\"T_109237e8_d2b9_11e9_8721_00216ae618a7row2_col0\" class=\"data row2 col0\" >CA</td>\n",
       "                        <td id=\"T_109237e8_d2b9_11e9_8721_00216ae618a7row2_col1\" class=\"data row2 col1\" >0.15</td>\n",
       "                        <td id=\"T_109237e8_d2b9_11e9_8721_00216ae618a7row2_col2\" class=\"data row2 col2\" >0.02</td>\n",
       "                        <td id=\"T_109237e8_d2b9_11e9_8721_00216ae618a7row2_col3\" class=\"data row2 col3\" >0.02</td>\n",
       "                        <td id=\"T_109237e8_d2b9_11e9_8721_00216ae618a7row2_col4\" class=\"data row2 col4\" >28.57</td>\n",
       "                        <td id=\"T_109237e8_d2b9_11e9_8721_00216ae618a7row2_col5\" class=\"data row2 col5\" >0.29</td>\n",
       "                        <td id=\"T_109237e8_d2b9_11e9_8721_00216ae618a7row2_col6\" class=\"data row2 col6\" >0.3</td>\n",
       "                        <td id=\"T_109237e8_d2b9_11e9_8721_00216ae618a7row2_col7\" class=\"data row2 col7\" >69.33</td>\n",
       "                        <td id=\"T_109237e8_d2b9_11e9_8721_00216ae618a7row2_col8\" class=\"data row2 col8\" >1.32</td>\n",
       "            </tr>\n",
       "            <tr>\n",
       "                        <th id=\"T_109237e8_d2b9_11e9_8721_00216ae618a7level0_row3\" class=\"row_heading level0 row3\" >3</th>\n",
       "                        <td id=\"T_109237e8_d2b9_11e9_8721_00216ae618a7row3_col0\" class=\"data row3 col0\" >IOA</td>\n",
       "                        <td id=\"T_109237e8_d2b9_11e9_8721_00216ae618a7row3_col1\" class=\"data row3 col1\" >0.39</td>\n",
       "                        <td id=\"T_109237e8_d2b9_11e9_8721_00216ae618a7row3_col2\" class=\"data row3 col2\" >0.03</td>\n",
       "                        <td id=\"T_109237e8_d2b9_11e9_8721_00216ae618a7row3_col3\" class=\"data row3 col3\" >0.34</td>\n",
       "                        <td id=\"T_109237e8_d2b9_11e9_8721_00216ae618a7row3_col4\" class=\"data row3 col4\" >90.68</td>\n",
       "                        <td id=\"T_109237e8_d2b9_11e9_8721_00216ae618a7row3_col5\" class=\"data row3 col5\" >1.99</td>\n",
       "                        <td id=\"T_109237e8_d2b9_11e9_8721_00216ae618a7row3_col6\" class=\"data row3 col6\" >0.06</td>\n",
       "                        <td id=\"T_109237e8_d2b9_11e9_8721_00216ae618a7row3_col7\" class=\"data row3 col7\" >2.81</td>\n",
       "                        <td id=\"T_109237e8_d2b9_11e9_8721_00216ae618a7row3_col8\" class=\"data row3 col8\" >3.7</td>\n",
       "            </tr>\n",
       "            <tr>\n",
       "                        <th id=\"T_109237e8_d2b9_11e9_8721_00216ae618a7level0_row4\" class=\"row_heading level0 row4\" >4</th>\n",
       "                        <td id=\"T_109237e8_d2b9_11e9_8721_00216ae618a7row4_col0\" class=\"data row4 col0\" >IA</td>\n",
       "                        <td id=\"T_109237e8_d2b9_11e9_8721_00216ae618a7row4_col1\" class=\"data row4 col1\" >0.06</td>\n",
       "                        <td id=\"T_109237e8_d2b9_11e9_8721_00216ae618a7row4_col2\" class=\"data row4 col2\" >0.02</td>\n",
       "                        <td id=\"T_109237e8_d2b9_11e9_8721_00216ae618a7row4_col3\" class=\"data row4 col3\" >0.01</td>\n",
       "                        <td id=\"T_109237e8_d2b9_11e9_8721_00216ae618a7row4_col4\" class=\"data row4 col4\" >0.29</td>\n",
       "                        <td id=\"T_109237e8_d2b9_11e9_8721_00216ae618a7row4_col5\" class=\"data row4 col5\" >97.01</td>\n",
       "                        <td id=\"T_109237e8_d2b9_11e9_8721_00216ae618a7row4_col6\" class=\"data row4 col6\" >0.03</td>\n",
       "                        <td id=\"T_109237e8_d2b9_11e9_8721_00216ae618a7row4_col7\" class=\"data row4 col7\" >0.21</td>\n",
       "                        <td id=\"T_109237e8_d2b9_11e9_8721_00216ae618a7row4_col8\" class=\"data row4 col8\" >2.37</td>\n",
       "            </tr>\n",
       "            <tr>\n",
       "                        <th id=\"T_109237e8_d2b9_11e9_8721_00216ae618a7level0_row5\" class=\"row_heading level0 row5\" >5</th>\n",
       "                        <td id=\"T_109237e8_d2b9_11e9_8721_00216ae618a7row5_col0\" class=\"data row5 col0\" >CA</td>\n",
       "                        <td id=\"T_109237e8_d2b9_11e9_8721_00216ae618a7row5_col1\" class=\"data row5 col1\" >0.01</td>\n",
       "                        <td id=\"T_109237e8_d2b9_11e9_8721_00216ae618a7row5_col2\" class=\"data row5 col2\" >0</td>\n",
       "                        <td id=\"T_109237e8_d2b9_11e9_8721_00216ae618a7row5_col3\" class=\"data row5 col3\" >0</td>\n",
       "                        <td id=\"T_109237e8_d2b9_11e9_8721_00216ae618a7row5_col4\" class=\"data row5 col4\" >1.27</td>\n",
       "                        <td id=\"T_109237e8_d2b9_11e9_8721_00216ae618a7row5_col5\" class=\"data row5 col5\" >0.02</td>\n",
       "                        <td id=\"T_109237e8_d2b9_11e9_8721_00216ae618a7row5_col6\" class=\"data row5 col6\" >0.02</td>\n",
       "                        <td id=\"T_109237e8_d2b9_11e9_8721_00216ae618a7row5_col7\" class=\"data row5 col7\" >98.6</td>\n",
       "                        <td id=\"T_109237e8_d2b9_11e9_8721_00216ae618a7row5_col8\" class=\"data row5 col8\" >0.08</td>\n",
       "            </tr>\n",
       "            <tr>\n",
       "                        <th id=\"T_109237e8_d2b9_11e9_8721_00216ae618a7level0_row6\" class=\"row_heading level0 row6\" >6</th>\n",
       "                        <td id=\"T_109237e8_d2b9_11e9_8721_00216ae618a7row6_col0\" class=\"data row6 col0\" >CA</td>\n",
       "                        <td id=\"T_109237e8_d2b9_11e9_8721_00216ae618a7row6_col1\" class=\"data row6 col1\" >0</td>\n",
       "                        <td id=\"T_109237e8_d2b9_11e9_8721_00216ae618a7row6_col2\" class=\"data row6 col2\" >0.05</td>\n",
       "                        <td id=\"T_109237e8_d2b9_11e9_8721_00216ae618a7row6_col3\" class=\"data row6 col3\" >0.19</td>\n",
       "                        <td id=\"T_109237e8_d2b9_11e9_8721_00216ae618a7row6_col4\" class=\"data row6 col4\" >5.41</td>\n",
       "                        <td id=\"T_109237e8_d2b9_11e9_8721_00216ae618a7row6_col5\" class=\"data row6 col5\" >0.04</td>\n",
       "                        <td id=\"T_109237e8_d2b9_11e9_8721_00216ae618a7row6_col6\" class=\"data row6 col6\" >0.1</td>\n",
       "                        <td id=\"T_109237e8_d2b9_11e9_8721_00216ae618a7row6_col7\" class=\"data row6 col7\" >93.59</td>\n",
       "                        <td id=\"T_109237e8_d2b9_11e9_8721_00216ae618a7row6_col8\" class=\"data row6 col8\" >0.61</td>\n",
       "            </tr>\n",
       "            <tr>\n",
       "                        <th id=\"T_109237e8_d2b9_11e9_8721_00216ae618a7level0_row7\" class=\"row_heading level0 row7\" >7</th>\n",
       "                        <td id=\"T_109237e8_d2b9_11e9_8721_00216ae618a7row7_col0\" class=\"data row7 col0\" >BAB</td>\n",
       "                        <td id=\"T_109237e8_d2b9_11e9_8721_00216ae618a7row7_col1\" class=\"data row7 col1\" >1.84</td>\n",
       "                        <td id=\"T_109237e8_d2b9_11e9_8721_00216ae618a7row7_col2\" class=\"data row7 col2\" >4.57</td>\n",
       "                        <td id=\"T_109237e8_d2b9_11e9_8721_00216ae618a7row7_col3\" class=\"data row7 col3\" >3.79</td>\n",
       "                        <td id=\"T_109237e8_d2b9_11e9_8721_00216ae618a7row7_col4\" class=\"data row7 col4\" >4.44</td>\n",
       "                        <td id=\"T_109237e8_d2b9_11e9_8721_00216ae618a7row7_col5\" class=\"data row7 col5\" >1.98</td>\n",
       "                        <td id=\"T_109237e8_d2b9_11e9_8721_00216ae618a7row7_col6\" class=\"data row7 col6\" >9.72</td>\n",
       "                        <td id=\"T_109237e8_d2b9_11e9_8721_00216ae618a7row7_col7\" class=\"data row7 col7\" >7.07</td>\n",
       "                        <td id=\"T_109237e8_d2b9_11e9_8721_00216ae618a7row7_col8\" class=\"data row7 col8\" >66.6</td>\n",
       "            </tr>\n",
       "    </tbody></table>"
      ],
      "text/plain": [
       "<pandas.io.formats.style.Styler at 0x1a7afce40b8>"
      ]
     },
     "execution_count": 29,
     "metadata": {},
     "output_type": "execute_result"
    }
   ],
   "source": [
    "probs = (\n",
    "    pd.DataFrame(\n",
    "        data=gs.best_estimator_.predict_proba(XX_test[:8]),\n",
    "        columns=gs.best_estimator_.classes_,\n",
    "    )\n",
    "    * 100\n",
    ")\n",
    "probs[\"Expect\"] = yy_test[:8].tolist()\n",
    "table = probs[probs.columns[::-1]].round(2)\n",
    "table.style.background_gradient(cmap=\"Blues\", axis=1)"
   ]
  },
  {
   "cell_type": "code",
   "execution_count": 30,
   "metadata": {
    "slideshow": {
     "slide_type": "subslide"
    }
   },
   "outputs": [
    {
     "data": {
      "text/html": [
       "<style  type=\"text/css\" >\n",
       "    #T_1099ba1e_d2b9_11e9_97b4_00216ae618a7row0_col0 {\n",
       "            background-color:  #f7fcf5;\n",
       "            color:  #000000;\n",
       "        }    #T_1099ba1e_d2b9_11e9_97b4_00216ae618a7row0_col1 {\n",
       "            background-color:  #f7fcf5;\n",
       "            color:  #000000;\n",
       "        }    #T_1099ba1e_d2b9_11e9_97b4_00216ae618a7row0_col2 {\n",
       "            background-color:  #f7fcf5;\n",
       "            color:  #000000;\n",
       "        }    #T_1099ba1e_d2b9_11e9_97b4_00216ae618a7row1_col0 {\n",
       "            background-color:  #f7fcf5;\n",
       "            color:  #000000;\n",
       "        }    #T_1099ba1e_d2b9_11e9_97b4_00216ae618a7row1_col1 {\n",
       "            background-color:  #f7fcf5;\n",
       "            color:  #000000;\n",
       "        }    #T_1099ba1e_d2b9_11e9_97b4_00216ae618a7row1_col2 {\n",
       "            background-color:  #f7fcf5;\n",
       "            color:  #000000;\n",
       "        }    #T_1099ba1e_d2b9_11e9_97b4_00216ae618a7row2_col0 {\n",
       "            background-color:  #f7fcf5;\n",
       "            color:  #000000;\n",
       "        }    #T_1099ba1e_d2b9_11e9_97b4_00216ae618a7row2_col1 {\n",
       "            background-color:  #f7fcf5;\n",
       "            color:  #000000;\n",
       "        }    #T_1099ba1e_d2b9_11e9_97b4_00216ae618a7row2_col2 {\n",
       "            background-color:  #f7fcf5;\n",
       "            color:  #000000;\n",
       "        }</style><table id=\"T_1099ba1e_d2b9_11e9_97b4_00216ae618a7\" ><thead>    <tr>        <th class=\"blank level0\" ></th>        <th class=\"col_heading level0 col0\" >Start</th>        <th class=\"col_heading level0 col1\" >With CLR</th>        <th class=\"col_heading level0 col2\" >GridSearch</th>    </tr></thead><tbody>\n",
       "                <tr>\n",
       "                        <th id=\"T_1099ba1e_d2b9_11e9_97b4_00216ae618a7level0_row0\" class=\"row_heading level0 row0\" >SVC</th>\n",
       "                        <td id=\"T_1099ba1e_d2b9_11e9_97b4_00216ae618a7row0_col0\" class=\"data row0 col0\" >88.3%</td>\n",
       "                        <td id=\"T_1099ba1e_d2b9_11e9_97b4_00216ae618a7row0_col1\" class=\"data row0 col1\" >90.7%</td>\n",
       "                        <td id=\"T_1099ba1e_d2b9_11e9_97b4_00216ae618a7row0_col2\" class=\"data row0 col2\" >95.5%</td>\n",
       "            </tr>\n",
       "            <tr>\n",
       "                        <th id=\"T_1099ba1e_d2b9_11e9_97b4_00216ae618a7level0_row1\" class=\"row_heading level0 row1\" >RandomForest</th>\n",
       "                        <td id=\"T_1099ba1e_d2b9_11e9_97b4_00216ae618a7row1_col0\" class=\"data row1 col0\" >79.9%</td>\n",
       "                        <td id=\"T_1099ba1e_d2b9_11e9_97b4_00216ae618a7row1_col1\" class=\"data row1 col1\" >91.2%</td>\n",
       "                        <td id=\"T_1099ba1e_d2b9_11e9_97b4_00216ae618a7row1_col2\" class=\"data row1 col2\" ></td>\n",
       "            </tr>\n",
       "            <tr>\n",
       "                        <th id=\"T_1099ba1e_d2b9_11e9_97b4_00216ae618a7level0_row2\" class=\"row_heading level0 row2\" >Logist.Reg.</th>\n",
       "                        <td id=\"T_1099ba1e_d2b9_11e9_97b4_00216ae618a7row2_col0\" class=\"data row2 col0\" >84.8%</td>\n",
       "                        <td id=\"T_1099ba1e_d2b9_11e9_97b4_00216ae618a7row2_col1\" class=\"data row2 col1\" >88.9%</td>\n",
       "                        <td id=\"T_1099ba1e_d2b9_11e9_97b4_00216ae618a7row2_col2\" class=\"data row2 col2\" ></td>\n",
       "            </tr>\n",
       "    </tbody></table>"
      ],
      "text/plain": [
       "<pandas.io.formats.style.Styler at 0x1a7afccdcc0>"
      ]
     },
     "execution_count": 30,
     "metadata": {},
     "output_type": "execute_result"
    }
   ],
   "source": [
    "scores = [(svcscore, svc2score, svcgsscore), \n",
    "          (rfscore, rf2score, np.nan), \n",
    "          (lrscore, lr2score, np.nan)]\n",
    "results = pd.DataFrame(data = scores, \n",
    "                       columns=['Start', \"With CLR\", 'GridSearch'], \n",
    "                       index = ['SVC', 'RandomForest', 'Logist.Reg.']\n",
    "                      ).round(3) *100\n",
    "results.style.format(lambda x: \"{:.1f}%\".format(x) if not np.isnan(x) else \"\"\n",
    "                    ).background_gradient(cmap=\"Greens\",\n",
    "                                          low=0, \n",
    "                                          high=1, \n",
    "                                          axis=None)"
   ]
  }
 ],
 "metadata": {
  "celltoolbar": "Slideshow",
  "kernelspec": {
   "display_name": "Python 3",
   "language": "python",
   "name": "python3"
  },
  "language_info": {
   "codemirror_mode": {
    "name": "ipython",
    "version": 3
   },
   "file_extension": ".py",
   "mimetype": "text/x-python",
   "name": "python",
   "nbconvert_exporter": "python",
   "pygments_lexer": "ipython3",
   "version": "3.6.7"
  },
  "rise": {
   "autolaunch": true,
   "scroll": true,
   "theme": "solarized"
  }
 },
 "nbformat": 4,
 "nbformat_minor": 2
}
